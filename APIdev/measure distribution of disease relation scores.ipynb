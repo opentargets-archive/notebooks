{
 "cells": [
  {
   "cell_type": "code",
   "execution_count": 1,
   "metadata": {
    "collapsed": false
   },
   "outputs": [],
   "source": [
    "import requests\n",
    "import pandas as pd\n",
    "import seaborn as sns\n",
    "import matplotlib.pyplot as plt\n",
    "%matplotlib inline"
   ]
  },
  {
   "cell_type": "code",
   "execution_count": 2,
   "metadata": {
    "collapsed": true
   },
   "outputs": [],
   "source": [
    "# looking at the top 100 disease-disease relations in a random set of 500 diseases\n",
    "N_TOPRELATIONS = 100\n",
    "N_DISEASE = 500"
   ]
  },
  {
   "cell_type": "code",
   "execution_count": 3,
   "metadata": {
    "collapsed": true
   },
   "outputs": [],
   "source": [
    "API='https://alpha.targetvalidation.org/api/1.1/'\n",
    "\n",
    "def get_token(app_name='load-test',secret='1RT6L519zkcTH9i3F99OjeYn13k79Wep'):\n",
    "    jwt = requests.get(API + 'public/auth/request_token',\n",
    "                     params={'app_name':app_name,'secret':secret})\n",
    "    return jwt.json()['token']\n",
    "\n",
    "token = get_token()"
   ]
  },
  {
   "cell_type": "code",
   "execution_count": 4,
   "metadata": {
    "collapsed": false
   },
   "outputs": [],
   "source": [
    "# extract the score for one disease (eg.asthma)\n",
    "def get_disease_relation(EFO):\n",
    "    response = requests.get(API + 'private/relation/disease/' + EFO,\n",
    "                        params={'size':N_TOPRELATIONS},\n",
    "                        headers={'Auth-Token': token})\n",
    "            \n",
    "    return response.json()['data']\n",
    "\n",
    "r = get_disease_relation('EFO_0000270')"
   ]
  },
  {
   "cell_type": "code",
   "execution_count": 22,
   "metadata": {
    "collapsed": true
   },
   "outputs": [],
   "source": [
    "def scoresfromjson(r): return pd.DataFrame([x['scores'] for x in r if x['object']['id'] != x['subject']['id']])"
   ]
  },
  {
   "cell_type": "code",
   "execution_count": 30,
   "metadata": {
    "collapsed": false,
    "scrolled": true
   },
   "outputs": [],
   "source": [
    "df = scoresfromjson(r)\n",
    "df.hist()"
   ]
  },
  {
   "cell_type": "code",
   "execution_count": 38,
   "metadata": {
    "collapsed": false
   },
   "outputs": [],
   "source": [
    "# get more EFO codes with a hack\n",
    "efo_codes = []\n",
    "for t in ['ENSG00000141510','ENSG00000142168','ENSG00000073756','ENSG00000149311']:\n",
    "    payload = {'target':t, \n",
    "                'facets':'false', \n",
    "                'size':500, \n",
    "                'direct':'true',\n",
    "                'fields':'disease.id'}\n",
    "    e = requests.get(API + '/public/association/filter', params= payload)\n",
    "    efo_codes.extend([x['disease']['id'] for x in e.json()['data']])\n",
    "    \n",
    "print(len(efo_codes))\n",
    "efo_codes_set = set(efo_codes)\n",
    "print(len(efo_codes_set))"
   ]
  },
  {
   "cell_type": "code",
   "execution_count": 60,
   "metadata": {
    "collapsed": false
   },
   "outputs": [],
   "source": [
    "# select a random sample of EFO codes to check relationships for\n",
    "import random\n",
    "\n",
    "frames = []\n",
    "for d in random.sample(efo_codes_set,N_DISEASE):\n",
    "    try:\n",
    "        frames.append(scoresfromjson(get_disease_relation(d)))\n",
    "    except:\n",
    "        continue\n",
    "\n",
    "print(len(frames))\n",
    "df = pd.concat(frames)\n",
    "df.shape\n",
    "# sample the distribution of the score"
   ]
  },
  {
   "cell_type": "code",
   "execution_count": 73,
   "metadata": {
    "collapsed": false
   },
   "outputs": [],
   "source": [
    "# Plot the distribution of all score\n",
    "df.hist(color='k', alpha=0.5, bins=50,figsize=(14,8))"
   ]
  },
  {
   "cell_type": "code",
   "execution_count": null,
   "metadata": {
    "collapsed": true
   },
   "outputs": [],
   "source": [
    ""
   ]
  },
  {
   "cell_type": "code",
   "execution_count": null,
   "metadata": {},
   "outputs": [],
   "source": [
    ""
   ]
  },
  {
   "cell_type": "code",
   "execution_count": null,
   "metadata": {},
   "outputs": [],
   "source": [
    ""
   ]
  },
  {
   "cell_type": "code",
   "execution_count": null,
   "metadata": {},
   "outputs": [],
   "source": [
    ""
   ]
  }
 ],
 "metadata": {
  "kernelspec": {
   "display_name": "Python 2",
   "language": "python",
   "name": "python2"
  },
  "language_info": {
   "codemirror_mode": {
    "name": "ipython",
    "version": 2.0
   },
   "file_extension": ".py",
   "mimetype": "text/x-python",
   "name": "python",
   "nbconvert_exporter": "python",
   "pygments_lexer": "ipython2",
   "version": "2.7.10"
  }
 },
 "nbformat": 4,
 "nbformat_minor": 0
}