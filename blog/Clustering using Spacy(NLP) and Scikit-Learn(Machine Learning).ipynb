{
 "cells": [
  {
   "cell_type": "code",
   "execution_count": 10,
   "metadata": {
    "collapsed": false
   },
   "outputs": [],
   "source": [
    "from __future__ import print_function\n",
    "\n",
    "import logging\n",
    "from optparse import OptionParser\n",
    "import sys\n",
    "from time import time\n",
    "\n",
    "import requests, json\n",
    "from sklearn.cluster import KMeans, MiniBatchKMeans\n",
    "from sklearn.decomposition import TruncatedSVD\n",
    "from sklearn.feature_extraction.text import HashingVectorizer\n",
    "from sklearn.feature_extraction.text import TfidfTransformer\n",
    "from sklearn.feature_extraction.text import TfidfVectorizer\n",
    "from sklearn.pipeline import make_pipeline\n",
    "from sklearn.preprocessing import Normalizer\n",
    "\n",
    "from IPython.core.display import display, HTML"
   ]
  },
  {
   "cell_type": "markdown",
   "metadata": {},
   "source": [
    "Retrieve Remote Abstracts using EuropePMC Rest Services \n",
    "Disease Name - Diabetes\n",
    "Result Type - Core (to get metadata information containing abstracts,title,etc)\n",
    "Result Format - JSON\n",
    "\n"
   ]
  },
  {
   "cell_type": "code",
   "execution_count": 20,
   "metadata": {
    "collapsed": false
   },
   "outputs": [
    {
     "name": "stdout",
     "output_type": "stream",
     "text": [
      "http://www.ebi.ac.uk/europepmc/webservices/rest/search?query=diabetes&format=json&resulttype=core&pageSize=1000&page=1\n",
      "http://www.ebi.ac.uk/europepmc/webservices/rest/search?query=diabetes&format=json&resulttype=core&pageSize=1000&page=2\n",
      "http://www.ebi.ac.uk/europepmc/webservices/rest/search?query=diabetes&format=json&resulttype=core&pageSize=1000&page=3\n",
      "http://www.ebi.ac.uk/europepmc/webservices/rest/search?query=diabetes&format=json&resulttype=core&pageSize=1000&page=4\n",
      "http://www.ebi.ac.uk/europepmc/webservices/rest/search?query=diabetes&format=json&resulttype=core&pageSize=1000&page=5\n",
      "http://www.ebi.ac.uk/europepmc/webservices/rest/search?query=diabetes&format=json&resulttype=core&pageSize=1000&page=6\n",
      "http://www.ebi.ac.uk/europepmc/webservices/rest/search?query=diabetes&format=json&resulttype=core&pageSize=1000&page=7\n",
      "http://www.ebi.ac.uk/europepmc/webservices/rest/search?query=diabetes&format=json&resulttype=core&pageSize=1000&page=8\n",
      "http://www.ebi.ac.uk/europepmc/webservices/rest/search?query=diabetes&format=json&resulttype=core&pageSize=1000&page=9\n",
      "CPU times: user 2.51 s, sys: 449 ms, total: 2.96 s\n",
      "Wall time: 7min 36s\n"
     ]
    }
   ],
   "source": [
    "%%time\n",
    "\n",
    "abstract_list = list()\n",
    "for x in range(1, 10):\n",
    "   \n",
    "    europePMC_url = \"http://www.ebi.ac.uk/europepmc/webservices/rest/search?query=diabetes&format=json&resulttype=core&pageSize=1000&page=%s\"%x\n",
    "    print(europePMC_url)\n",
    "    r = requests.get(europePMC_url)\n",
    "    data = json.loads(r.content)\n",
    "    for result in data['resultList']['result']:\n",
    "    \n",
    "        abstract = result.get('abstractText',None)\n",
    "    \n",
    "        if abstract is not None:\n",
    "            abstract_list.append(abstract)\n",
    "      \n"
   ]
  },
  {
   "cell_type": "markdown",
   "metadata": {},
   "source": [
    "Print Total number of abstracts retrieved"
   ]
  },
  {
   "cell_type": "code",
   "execution_count": 21,
   "metadata": {
    "collapsed": false
   },
   "outputs": [
    {
     "name": "stdout",
     "output_type": "stream",
     "text": [
      "7458 abstracts\n"
     ]
    }
   ],
   "source": [
    "print(\"%d abstracts\" % len(abstract_list))"
   ]
  },
  {
   "cell_type": "markdown",
   "metadata": {},
   "source": [
    "Preprocess/Clean the abstract data using spaCy NLP\n",
    "1) Tokenize the abstract data\n",
    "2) Lemmatize the tokens\n",
    "3) Clean the tokens by applying stoplists"
   ]
  },
  {
   "cell_type": "code",
   "execution_count": 22,
   "metadata": {
    "collapsed": false
   },
   "outputs": [],
   "source": [
    "from sklearn.feature_extraction.stop_words import ENGLISH_STOP_WORDS\n",
    "from spacy import en\n",
    "import string\n",
    "from spacy.en import English"
   ]
  },
  {
   "cell_type": "code",
   "execution_count": 23,
   "metadata": {
    "collapsed": false
   },
   "outputs": [],
   "source": [
    "parser = English()\n",
    "\n",
    "# A custom stoplist\n",
    "STOPLIST = set()\n",
    "STOPLIST.update(en.STOPWORDS)\n",
    "STOPLIST.update([\"n't\", \"'s\", \"'m\", \"ca\",\"p\"])\n",
    "STOPLIST.update(list(ENGLISH_STOP_WORDS))\n",
    "# List of symbols we don't care about\n",
    "SYMBOLS = \" \".join(string.punctuation).split(\" \") + [\"-----\", \"---\", \"...\",  \"'ve\"] \n",
    "def tokenize_text(sample):\n",
    "\n",
    "        # get the tokens using spaCy\n",
    "        tokens = parser(sample)\n",
    "\n",
    "        # lemmatize\n",
    "        lemmas = []\n",
    "        for tok in tokens:\n",
    "            lemmas.append(tok.lemma_.lower().strip() if tok.lemma_ != \"-PRON-\" else tok.lower_)\n",
    "            tokens = lemmas\n",
    "\n",
    "        # stoplist the tokens\n",
    "        tokens = [tok for tok in tokens if tok not in STOPLIST]\n",
    "\n",
    "        # stoplist symbols\n",
    "        tokens = [tok for tok in tokens if tok not in SYMBOLS]\n",
    "\n",
    "        # remove large strings of whitespace\n",
    "        while \"\" in tokens:\n",
    "            tokens.remove(\"\")\n",
    "        while \" \" in tokens:\n",
    "            tokens.remove(\" \")\n",
    "        while \"\\n\" in tokens:\n",
    "            tokens.remove(\"\\n\")\n",
    "        while \"\\n\\n\" in tokens:\n",
    "            tokens.remove(\"\\n\\n\")\n",
    "        #print tokens\n",
    "        return tokens"
   ]
  },
  {
   "cell_type": "markdown",
   "metadata": {
    "collapsed": true
   },
   "source": [
    "Convert above training corpus to sparse vectors using a TF-IDF sparse vectorizer and extract relevant features\n",
    "1) No. of features = 100000\n",
    "2) Remove Ascii Characters from Training Corpus "
   ]
  },
  {
   "cell_type": "code",
   "execution_count": 24,
   "metadata": {
    "collapsed": false
   },
   "outputs": [
    {
     "name": "stdout",
     "output_type": "stream",
     "text": [
      "n_samples: 7458, n_features: 19369\n",
      "CPU times: user 2min 12s, sys: 301 ms, total: 2min 13s\n",
      "Wall time: 2min 13s\n"
     ]
    }
   ],
   "source": [
    "%%time\n",
    "\n",
    "vectorizer = TfidfVectorizer(max_df=0.5, max_features=100000,\n",
    "                                 min_df=2,tokenizer=tokenize_text, stop_words='english',\n",
    "                                 use_idf=True,strip_accents =  'ascii')\n",
    "X = vectorizer.fit_transform(abstract_list)\n",
    "\n",
    "print(\"n_samples: %d, n_features: %d\" % X.shape)"
   ]
  },
  {
   "cell_type": "markdown",
   "metadata": {
    "collapsed": true
   },
   "source": [
    "Do the Actual Clustering using Scikit-Learn, KMeans Algo"
   ]
  },
  {
   "cell_type": "code",
   "execution_count": 25,
   "metadata": {
    "collapsed": false
   },
   "outputs": [
    {
     "name": "stdout",
     "output_type": "stream",
     "text": [
      "Clustering sparse data with KMeans(copy_x=True, init='k-means++', max_iter=100, n_clusters=5, n_init=1,\n",
      "    n_jobs=1, precompute_distances='auto', random_state=None, tol=0.0001,\n",
      "    verbose=False)\n",
      "\n",
      "CPU times: user 1.35 s, sys: 23.6 ms, total: 1.37 s\n",
      "Wall time: 1.37 s\n"
     ]
    }
   ],
   "source": [
    "%%time\n",
    "\n",
    "km = KMeans(n_clusters=5, init='k-means++', max_iter=100, n_init=1,\n",
    "                verbose=False)\n",
    "print(\"Clustering sparse data with %s\" % km)\n",
    "km.fit(X)\n",
    "print()"
   ]
  },
  {
   "cell_type": "markdown",
   "metadata": {
    "collapsed": true
   },
   "source": [
    "Print the top terms per cluster"
   ]
  },
  {
   "cell_type": "code",
   "execution_count": 26,
   "metadata": {
    "collapsed": false
   },
   "outputs": [
    {
     "name": "stdout",
     "output_type": "stream",
     "text": [
      "Cluster 0:Label 3: diabetic rat group retinopathy induce level complication dr control increase\n",
      "Cluster 1:Label 4: risk 95 ci woman gdm year high age prevalence associate\n",
      "Cluster 2:Label 3: care self health intervention management use cost control adherence 2\n",
      "Cluster 3:Label 3: insulin glucose 2 treatment level control hba1c t2dm disease group\n",
      "Cluster 4:Label 2: cell mouse insulin islet expression -cell beta protein glucose induce\n"
     ]
    }
   ],
   "source": [
    "order_centroids = km.cluster_centers_.argsort()[:, ::-1]\n",
    "terms = vectorizer.get_feature_names()\n",
    "for i in range(5):\n",
    "    print(\"Cluster %d:\" % i, end='')\n",
    "    print(\"Label %d:\" %km.labels_[i],end='')\n",
    "    for ind in order_centroids[i, :10]:\n",
    "        print(' %s' % terms[ind], end='')\n",
    "    print()"
   ]
  },
  {
   "cell_type": "markdown",
   "metadata": {},
   "source": [
    "Clustering using Mini Batch KMeans"
   ]
  },
  {
   "cell_type": "code",
   "execution_count": 28,
   "metadata": {
    "collapsed": false,
    "scrolled": false
   },
   "outputs": [
    {
     "name": "stdout",
     "output_type": "stream",
     "text": [
      "Clustering sparse data with MiniBatchKMeans(batch_size=1000, compute_labels=True, init='k-means++',\n",
      "        init_size=1000, max_iter=100, max_no_improvement=10, n_clusters=5,\n",
      "        n_init=1, random_state=None, reassignment_ratio=0.01, tol=0.0,\n",
      "        verbose=False)\n"
     ]
    },
    {
     "name": "stderr",
     "output_type": "stream",
     "text": [
      "/usr/local/lib/python2.7/site-packages/sklearn/cluster/k_means_.py:1279: DeprecationWarning: This function is deprecated. Please call randint(0, 7457 + 1) instead\n",
      "  0, n_samples - 1, init_size)\n",
      "/usr/local/lib/python2.7/site-packages/sklearn/cluster/k_means_.py:630: DeprecationWarning: This function is deprecated. Please call randint(0, 7457 + 1) instead\n",
      "  0, n_samples - 1, init_size)\n",
      "/usr/local/lib/python2.7/site-packages/sklearn/cluster/k_means_.py:1328: DeprecationWarning: This function is deprecated. Please call randint(0, 7457 + 1) instead\n",
      "  0, n_samples - 1, self.batch_size)\n",
      "/usr/local/lib/python2.7/site-packages/sklearn/cluster/k_means_.py:1328: DeprecationWarning: This function is deprecated. Please call randint(0, 7457 + 1) instead\n",
      "  0, n_samples - 1, self.batch_size)\n",
      "/usr/local/lib/python2.7/site-packages/sklearn/cluster/k_means_.py:1328: DeprecationWarning: This function is deprecated. Please call randint(0, 7457 + 1) instead\n",
      "  0, n_samples - 1, self.batch_size)\n",
      "/usr/local/lib/python2.7/site-packages/sklearn/cluster/k_means_.py:1328: DeprecationWarning: This function is deprecated. Please call randint(0, 7457 + 1) instead\n",
      "  0, n_samples - 1, self.batch_size)\n",
      "/usr/local/lib/python2.7/site-packages/sklearn/cluster/k_means_.py:1328: DeprecationWarning: This function is deprecated. Please call randint(0, 7457 + 1) instead\n",
      "  0, n_samples - 1, self.batch_size)\n",
      "/usr/local/lib/python2.7/site-packages/sklearn/cluster/k_means_.py:1328: DeprecationWarning: This function is deprecated. Please call randint(0, 7457 + 1) instead\n",
      "  0, n_samples - 1, self.batch_size)\n",
      "/usr/local/lib/python2.7/site-packages/sklearn/cluster/k_means_.py:1328: DeprecationWarning: This function is deprecated. Please call randint(0, 7457 + 1) instead\n",
      "  0, n_samples - 1, self.batch_size)\n",
      "/usr/local/lib/python2.7/site-packages/sklearn/cluster/k_means_.py:1328: DeprecationWarning: This function is deprecated. Please call randint(0, 7457 + 1) instead\n",
      "  0, n_samples - 1, self.batch_size)\n",
      "/usr/local/lib/python2.7/site-packages/sklearn/cluster/k_means_.py:1328: DeprecationWarning: This function is deprecated. Please call randint(0, 7457 + 1) instead\n",
      "  0, n_samples - 1, self.batch_size)\n",
      "/usr/local/lib/python2.7/site-packages/sklearn/cluster/k_means_.py:1328: DeprecationWarning: This function is deprecated. Please call randint(0, 7457 + 1) instead\n",
      "  0, n_samples - 1, self.batch_size)\n",
      "/usr/local/lib/python2.7/site-packages/sklearn/cluster/k_means_.py:1328: DeprecationWarning: This function is deprecated. Please call randint(0, 7457 + 1) instead\n",
      "  0, n_samples - 1, self.batch_size)\n",
      "/usr/local/lib/python2.7/site-packages/sklearn/cluster/k_means_.py:1328: DeprecationWarning: This function is deprecated. Please call randint(0, 7457 + 1) instead\n",
      "  0, n_samples - 1, self.batch_size)\n",
      "/usr/local/lib/python2.7/site-packages/sklearn/cluster/k_means_.py:1328: DeprecationWarning: This function is deprecated. Please call randint(0, 7457 + 1) instead\n",
      "  0, n_samples - 1, self.batch_size)\n",
      "/usr/local/lib/python2.7/site-packages/sklearn/cluster/k_means_.py:1328: DeprecationWarning: This function is deprecated. Please call randint(0, 7457 + 1) instead\n",
      "  0, n_samples - 1, self.batch_size)\n",
      "/usr/local/lib/python2.7/site-packages/sklearn/cluster/k_means_.py:1328: DeprecationWarning: This function is deprecated. Please call randint(0, 7457 + 1) instead\n",
      "  0, n_samples - 1, self.batch_size)\n",
      "/usr/local/lib/python2.7/site-packages/sklearn/cluster/k_means_.py:1328: DeprecationWarning: This function is deprecated. Please call randint(0, 7457 + 1) instead\n",
      "  0, n_samples - 1, self.batch_size)\n",
      "/usr/local/lib/python2.7/site-packages/sklearn/cluster/k_means_.py:1328: DeprecationWarning: This function is deprecated. Please call randint(0, 7457 + 1) instead\n",
      "  0, n_samples - 1, self.batch_size)\n",
      "/usr/local/lib/python2.7/site-packages/sklearn/cluster/k_means_.py:1328: DeprecationWarning: This function is deprecated. Please call randint(0, 7457 + 1) instead\n",
      "  0, n_samples - 1, self.batch_size)\n",
      "/usr/local/lib/python2.7/site-packages/sklearn/cluster/k_means_.py:1328: DeprecationWarning: This function is deprecated. Please call randint(0, 7457 + 1) instead\n",
      "  0, n_samples - 1, self.batch_size)\n",
      "/usr/local/lib/python2.7/site-packages/sklearn/cluster/k_means_.py:1328: DeprecationWarning: This function is deprecated. Please call randint(0, 7457 + 1) instead\n",
      "  0, n_samples - 1, self.batch_size)\n",
      "/usr/local/lib/python2.7/site-packages/sklearn/cluster/k_means_.py:1328: DeprecationWarning: This function is deprecated. Please call randint(0, 7457 + 1) instead\n",
      "  0, n_samples - 1, self.batch_size)\n",
      "/usr/local/lib/python2.7/site-packages/sklearn/cluster/k_means_.py:1328: DeprecationWarning: This function is deprecated. Please call randint(0, 7457 + 1) instead\n",
      "  0, n_samples - 1, self.batch_size)\n",
      "/usr/local/lib/python2.7/site-packages/sklearn/cluster/k_means_.py:1328: DeprecationWarning: This function is deprecated. Please call randint(0, 7457 + 1) instead\n",
      "  0, n_samples - 1, self.batch_size)\n",
      "/usr/local/lib/python2.7/site-packages/sklearn/cluster/k_means_.py:1328: DeprecationWarning: This function is deprecated. Please call randint(0, 7457 + 1) instead\n",
      "  0, n_samples - 1, self.batch_size)\n",
      "/usr/local/lib/python2.7/site-packages/sklearn/cluster/k_means_.py:1328: DeprecationWarning: This function is deprecated. Please call randint(0, 7457 + 1) instead\n",
      "  0, n_samples - 1, self.batch_size)\n",
      "/usr/local/lib/python2.7/site-packages/sklearn/cluster/k_means_.py:1328: DeprecationWarning: This function is deprecated. Please call randint(0, 7457 + 1) instead\n",
      "  0, n_samples - 1, self.batch_size)\n",
      "/usr/local/lib/python2.7/site-packages/sklearn/cluster/k_means_.py:1328: DeprecationWarning: This function is deprecated. Please call randint(0, 7457 + 1) instead\n",
      "  0, n_samples - 1, self.batch_size)\n",
      "/usr/local/lib/python2.7/site-packages/sklearn/cluster/k_means_.py:1328: DeprecationWarning: This function is deprecated. Please call randint(0, 7457 + 1) instead\n",
      "  0, n_samples - 1, self.batch_size)\n",
      "/usr/local/lib/python2.7/site-packages/sklearn/cluster/k_means_.py:1328: DeprecationWarning: This function is deprecated. Please call randint(0, 7457 + 1) instead\n",
      "  0, n_samples - 1, self.batch_size)\n",
      "/usr/local/lib/python2.7/site-packages/sklearn/cluster/k_means_.py:1328: DeprecationWarning: This function is deprecated. Please call randint(0, 7457 + 1) instead\n",
      "  0, n_samples - 1, self.batch_size)\n",
      "/usr/local/lib/python2.7/site-packages/sklearn/cluster/k_means_.py:1328: DeprecationWarning: This function is deprecated. Please call randint(0, 7457 + 1) instead\n",
      "  0, n_samples - 1, self.batch_size)\n",
      "/usr/local/lib/python2.7/site-packages/sklearn/cluster/k_means_.py:1328: DeprecationWarning: This function is deprecated. Please call randint(0, 7457 + 1) instead\n",
      "  0, n_samples - 1, self.batch_size)\n",
      "/usr/local/lib/python2.7/site-packages/sklearn/cluster/k_means_.py:1328: DeprecationWarning: This function is deprecated. Please call randint(0, 7457 + 1) instead\n",
      "  0, n_samples - 1, self.batch_size)\n",
      "/usr/local/lib/python2.7/site-packages/sklearn/cluster/k_means_.py:1328: DeprecationWarning: This function is deprecated. Please call randint(0, 7457 + 1) instead\n",
      "  0, n_samples - 1, self.batch_size)\n",
      "/usr/local/lib/python2.7/site-packages/sklearn/cluster/k_means_.py:1328: DeprecationWarning: This function is deprecated. Please call randint(0, 7457 + 1) instead\n",
      "  0, n_samples - 1, self.batch_size)\n",
      "/usr/local/lib/python2.7/site-packages/sklearn/cluster/k_means_.py:1328: DeprecationWarning: This function is deprecated. Please call randint(0, 7457 + 1) instead\n",
      "  0, n_samples - 1, self.batch_size)\n",
      "/usr/local/lib/python2.7/site-packages/sklearn/cluster/k_means_.py:1328: DeprecationWarning: This function is deprecated. Please call randint(0, 7457 + 1) instead\n",
      "  0, n_samples - 1, self.batch_size)\n",
      "/usr/local/lib/python2.7/site-packages/sklearn/cluster/k_means_.py:1328: DeprecationWarning: This function is deprecated. Please call randint(0, 7457 + 1) instead\n",
      "  0, n_samples - 1, self.batch_size)\n",
      "/usr/local/lib/python2.7/site-packages/sklearn/cluster/k_means_.py:1328: DeprecationWarning: This function is deprecated. Please call randint(0, 7457 + 1) instead\n",
      "  0, n_samples - 1, self.batch_size)\n",
      "/usr/local/lib/python2.7/site-packages/sklearn/cluster/k_means_.py:1328: DeprecationWarning: This function is deprecated. Please call randint(0, 7457 + 1) instead\n",
      "  0, n_samples - 1, self.batch_size)\n",
      "/usr/local/lib/python2.7/site-packages/sklearn/cluster/k_means_.py:1328: DeprecationWarning: This function is deprecated. Please call randint(0, 7457 + 1) instead\n",
      "  0, n_samples - 1, self.batch_size)\n",
      "/usr/local/lib/python2.7/site-packages/sklearn/cluster/k_means_.py:1328: DeprecationWarning: This function is deprecated. Please call randint(0, 7457 + 1) instead\n",
      "  0, n_samples - 1, self.batch_size)\n",
      "/usr/local/lib/python2.7/site-packages/sklearn/cluster/k_means_.py:1328: DeprecationWarning: This function is deprecated. Please call randint(0, 7457 + 1) instead\n",
      "  0, n_samples - 1, self.batch_size)\n",
      "/usr/local/lib/python2.7/site-packages/sklearn/cluster/k_means_.py:1328: DeprecationWarning: This function is deprecated. Please call randint(0, 7457 + 1) instead\n",
      "  0, n_samples - 1, self.batch_size)\n",
      "/usr/local/lib/python2.7/site-packages/sklearn/cluster/k_means_.py:1328: DeprecationWarning: This function is deprecated. Please call randint(0, 7457 + 1) instead\n",
      "  0, n_samples - 1, self.batch_size)\n"
     ]
    },
    {
     "name": "stdout",
     "output_type": "stream",
     "text": [
      "\n",
      "CPU times: user 226 ms, sys: 5.04 ms, total: 231 ms\n",
      "Wall time: 228 ms\n"
     ]
    },
    {
     "name": "stderr",
     "output_type": "stream",
     "text": [
      "/usr/local/lib/python2.7/site-packages/sklearn/cluster/k_means_.py:1328: DeprecationWarning: This function is deprecated. Please call randint(0, 7457 + 1) instead\n",
      "  0, n_samples - 1, self.batch_size)\n",
      "/usr/local/lib/python2.7/site-packages/sklearn/cluster/k_means_.py:1328: DeprecationWarning: This function is deprecated. Please call randint(0, 7457 + 1) instead\n",
      "  0, n_samples - 1, self.batch_size)\n",
      "/usr/local/lib/python2.7/site-packages/sklearn/cluster/k_means_.py:1328: DeprecationWarning: This function is deprecated. Please call randint(0, 7457 + 1) instead\n",
      "  0, n_samples - 1, self.batch_size)\n"
     ]
    }
   ],
   "source": [
    "%%time\n",
    "\n",
    "km = MiniBatchKMeans(n_clusters=5, init='k-means++', n_init=1,\n",
    "                         init_size=1000, batch_size=1000, verbose=False)\n",
    "print(\"Clustering sparse data with %s\" % km)\n",
    "km.fit(X)\n",
    "print()"
   ]
  },
  {
   "cell_type": "code",
   "execution_count": 29,
   "metadata": {
    "collapsed": false
   },
   "outputs": [
    {
     "name": "stdout",
     "output_type": "stream",
     "text": [
      "Cluster 0:Label 2: metformin hba1c treatment insulin placebo trial inhibitor therapy 2 drug\n",
      "Cluster 1:Label 2: diabetic cell mouse level rat group expression induce glucose increase\n",
      "Cluster 2:Label 2: insulin care glucose gdm use 2 health control 1 management\n",
      "Cluster 3:Label 2: risk 95 ci year age high prevalence associate factor 2\n",
      "Cluster 4:Label 2: sleep quality osa apnea duration life 2 associate poor risk\n"
     ]
    }
   ],
   "source": [
    "order_centroids = km.cluster_centers_.argsort()[:, ::-1]\n",
    "terms = vectorizer.get_feature_names()\n",
    "for i in range(5):\n",
    "    print(\"Cluster %d:\" % i, end='')\n",
    "    print(\"Label %d:\" %km.labels_[i],end='')\n",
    "    for ind in order_centroids[i, :10]:\n",
    "        print(' %s' % terms[ind], end='')\n",
    "    print()"
   ]
  },
  {
   "cell_type": "markdown",
   "metadata": {},
   "source": [
    "Bi-gram clustering???"
   ]
  },
  {
   "cell_type": "code",
   "execution_count": null,
   "metadata": {
    "collapsed": false
   },
   "outputs": [],
   "source": [
    "%%time\n",
    "\n",
    "vectorizer = TfidfVectorizer(max_df=0.5, max_features=100000,\n",
    "                                 min_df=2,tokenizer=tokenize_text, stop_words='english',\n",
    "                                 use_idf=True,strip_accents =  'ascii',ngram_range=(1,2))\n",
    "X = vectorizer.fit_transform(abstract_list)\n",
    "\n",
    "print(\"n_samples: %d, n_features: %d\" % X.shape)\n",
    "km = KMeans(n_clusters=5, init='k-means++', max_iter=100, n_init=1,\n",
    "                verbose=False)\n",
    "print(\"Clustering sparse data with %s\" % km)\n",
    "km.fit(X)\n",
    "print()\n",
    "order_centroids = km.cluster_centers_.argsort()[:, ::-1]\n",
    "terms = vectorizer.get_feature_names()\n",
    "for i in range(5):\n",
    "    print(\"Cluster %d:\" % i, end='')\n",
    "    print(\"Label %d:\" %km.labels_[i],end='')\n",
    "    for ind in order_centroids[i, :10]:\n",
    "        print(' %s' % terms[ind], end='')\n",
    "    print()"
   ]
  },
  {
   "cell_type": "code",
   "execution_count": 11,
   "metadata": {
    "collapsed": true
   },
   "outputs": [],
   "source": [
    "dataJSON = [{ 'label': \"Care\", 'groups': [{ 'label':\"self\" },{ 'label':\"health\" },{ 'label':\"intervention\" },{ 'label':\"adherence\" }], 'weight': 1.0 },\n",
    "            { 'label': \"Ci\", 'groups': [{ 'label':\"95\" },{ 'label':\"risk\" },{ 'label':\"gdm\" },{ 'label':\"woman\" },{ 'label':\"gestational\" },{ 'label':\"pregnancy\" },{ 'label':\"hr\" },{ 'label':\"associate\" }], 'weight': 1.0 },\n",
    "            { 'label': \"Cell\", 'groups': [{ 'label':\"mouse\" },{ 'label':\"rat\" },{ 'label':\"insulin\" },{ 'label':\"diabetic\" },{ 'label':\"expression\" },{ 'label':\"induce\" },{ 'label':\"protein\" },{ 'label':\"glucose\" },{ 'label':\"islet\" }], 'weight': 1.0 },\n",
    "            { 'label': \"Risk\", 'groups': [{ 'label':\"diesase\" },{ 'label':\"diabetic\" },{ 'label':\"high\" },{ 'label':\"age\" },{ 'label':\"associate\" },{ 'label':\"factor\" }],'weight': 1.0 },\n",
    "            { 'label': \"Insulin\", 'groups': [{ 'label':\"glucose\" },{ 'label':\"group\" },{ 'label':\"control\" },{ 'label':\"level\" },{ 'label':\"weight\" },{ 'label':\"treatment\" }],'weight': 1.0 }\n",
    "           ]\n",
    "            "
   ]
  },
  {
   "cell_type": "code",
   "execution_count": 12,
   "metadata": {
    "collapsed": false
   },
   "outputs": [
    {
     "data": {
      "text/html": [
       "\n",
       "<!DOCTYPE html>\n",
       "<html>\n",
       "  <head>\n",
       "    <title>FoamTree Quick Start</title>\n",
       "    <meta charset=\"utf-8\" />\n",
       "  </head>\n",
       "\n",
       "  <body>\n",
       "    <div id=\"visualization\" style=\"width: 950px; height: 600px\"></div>\n",
       "\n",
       "    <script src=\"carrotsearch.foamtree.js\"></script>\n",
       "    <script>\n",
       "      function init() {\n",
       "        var foamtree = new CarrotSearchFoamTree({\n",
       "          id: \"visualization\",\n",
       "          dataObject: {\n",
       "            groups:[{\"weight\": 1.0, \"groups\": [{\"label\": \"self\"}, {\"label\": \"health\"}, {\"label\": \"intervention\"}, {\"label\": \"adherence\"}], \"label\": \"Care\"}, {\"weight\": 1.0, \"groups\": [{\"label\": \"95\"}, {\"label\": \"risk\"}, {\"label\": \"gdm\"}, {\"label\": \"woman\"}, {\"label\": \"gestational\"}, {\"label\": \"pregnancy\"}, {\"label\": \"hr\"}, {\"label\": \"associate\"}], \"label\": \"Ci\"}, {\"weight\": 1.0, \"groups\": [{\"label\": \"mouse\"}, {\"label\": \"rat\"}, {\"label\": \"insulin\"}, {\"label\": \"diabetic\"}, {\"label\": \"expression\"}, {\"label\": \"induce\"}, {\"label\": \"protein\"}, {\"label\": \"glucose\"}, {\"label\": \"islet\"}], \"label\": \"Cell\"}, {\"weight\": 1.0, \"groups\": [{\"label\": \"diesase\"}, {\"label\": \"diabetic\"}, {\"label\": \"high\"}, {\"label\": \"age\"}, {\"label\": \"associate\"}, {\"label\": \"factor\"}], \"label\": \"Risk\"}, {\"weight\": 1.0, \"groups\": [{\"label\": \"glucose\"}, {\"label\": \"group\"}, {\"label\": \"control\"}, {\"label\": \"level\"}, {\"label\": \"weight\"}, {\"label\": \"treatment\"}], \"label\": \"Insulin\"}]\n",
       "          }\n",
       "        });\n",
       "      }\n",
       "        \n",
       "    init();\n",
       "    </script>\n",
       "  </body>\n",
       " "
      ],
      "text/plain": [
       "<IPython.core.display.HTML object>"
      ]
     },
     "metadata": {},
     "output_type": "display_data"
    }
   ],
   "source": [
    "display(HTML(\"\"\"\n",
    "<!DOCTYPE html>\n",
    "<html>\n",
    "  <head>\n",
    "    <title>FoamTree Quick Start</title>\n",
    "    <meta charset=\"utf-8\" />\n",
    "  </head>\n",
    "\n",
    "  <body>\n",
    "    <div id=\"visualization\" style=\"width: 950px; height: 600px\"></div>\n",
    "\n",
    "    <script src=\"carrotsearch.foamtree.js\"></script>\n",
    "    <script>\n",
    "      function init() {\n",
    "        var foamtree = new CarrotSearchFoamTree({\n",
    "          id: \"visualization\",\n",
    "          dataObject: {\n",
    "            groups:\"\"\"\n",
    "             + \n",
    "             json.dumps(dataJSON)\n",
    "             +\n",
    "             \"\"\"\n",
    "          }\n",
    "        });\n",
    "      }\n",
    "        \n",
    "    init();\n",
    "    </script>\n",
    "  </body>\n",
    " \"\"\"))\n"
   ]
  },
  {
   "cell_type": "code",
   "execution_count": null,
   "metadata": {
    "collapsed": true
   },
   "outputs": [],
   "source": []
  }
 ],
 "metadata": {
  "anaconda-cloud": {},
  "kernelspec": {
   "display_name": "Python [Root]",
   "language": "python",
   "name": "Python [Root]"
  },
  "language_info": {
   "codemirror_mode": {
    "name": "ipython",
    "version": 2
   },
   "file_extension": ".py",
   "mimetype": "text/x-python",
   "name": "python",
   "nbconvert_exporter": "python",
   "pygments_lexer": "ipython2",
   "version": "2.7.12"
  }
 },
 "nbformat": 4,
 "nbformat_minor": 0
}
