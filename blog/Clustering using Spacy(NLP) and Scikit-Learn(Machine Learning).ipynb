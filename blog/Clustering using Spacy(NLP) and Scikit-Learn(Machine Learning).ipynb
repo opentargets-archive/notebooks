{
 "cells": [
  {
   "cell_type": "code",
   "execution_count": 41,
   "metadata": {
    "collapsed": false
   },
   "outputs": [],
   "source": [
    "from __future__ import print_function\n",
    "\n",
    "import logging\n",
    "from optparse import OptionParser\n",
    "import sys\n",
    "from time import time\n",
    "\n",
    "import requests, json\n",
    "from sklearn.cluster import KMeans, MiniBatchKMeans\n",
    "from sklearn.decomposition import TruncatedSVD\n",
    "from sklearn.feature_extraction.text import HashingVectorizer\n",
    "from sklearn.feature_extraction.text import TfidfTransformer\n",
    "from sklearn.feature_extraction.text import TfidfVectorizer\n",
    "from sklearn.pipeline import make_pipeline\n",
    "from sklearn.preprocessing import Normalizer\n",
    "\n",
    "from IPython.core.display import display, HTML"
   ]
  },
  {
   "cell_type": "markdown",
   "metadata": {},
   "source": [
    "Retrieve Remote Abstracts using EuropePMC Rest Services (This is a one-time activity and can be commented after abstracts are stored in local DB)\n",
    "Disease Name - Diabetes\n",
    "Result Type - Core (to get metadata information containing abstracts,title,etc)\n",
    "Result Format - JSON\n",
    "\n"
   ]
  },
  {
   "cell_type": "code",
   "execution_count": 43,
   "metadata": {
    "collapsed": false,
    "scrolled": true
   },
   "outputs": [
    {
     "name": "stdout",
     "output_type": "stream",
     "text": [
      "http://www.ebi.ac.uk/europepmc/webservices/rest/search?query=asthma&format=json&resulttype=core&pageSize=1000&page=1\n",
      "http://www.ebi.ac.uk/europepmc/webservices/rest/search?query=asthma&format=json&resulttype=core&pageSize=1000&page=2\n",
      "http://www.ebi.ac.uk/europepmc/webservices/rest/search?query=asthma&format=json&resulttype=core&pageSize=1000&page=3\n",
      "http://www.ebi.ac.uk/europepmc/webservices/rest/search?query=asthma&format=json&resulttype=core&pageSize=1000&page=4\n",
      "http://www.ebi.ac.uk/europepmc/webservices/rest/search?query=asthma&format=json&resulttype=core&pageSize=1000&page=5\n",
      "http://www.ebi.ac.uk/europepmc/webservices/rest/search?query=asthma&format=json&resulttype=core&pageSize=1000&page=6\n",
      "http://www.ebi.ac.uk/europepmc/webservices/rest/search?query=asthma&format=json&resulttype=core&pageSize=1000&page=7\n",
      "CPU times: user 2.23 s, sys: 504 ms, total: 2.73 s\n",
      "Wall time: 2min 34s\n"
     ]
    }
   ],
   "source": [
    "%%time\n",
    "\n",
    "temp_abstract_list = list()\n",
    "for x in range(1, 8):\n",
    "   \n",
    "    europePMC_url = \"http://www.ebi.ac.uk/europepmc/webservices/rest/search?query=asthma&format=json&resulttype=core&pageSize=1000&page=%s\"%x\n",
    "    print(europePMC_url)\n",
    "    r = requests.get(europePMC_url)\n",
    "    data = json.loads(r.content)\n",
    "    for result in data['resultList']['result']:\n",
    "    \n",
    "        abstract = result.get('abstractText',None)\n",
    "    \n",
    "        if abstract is not None:\n",
    "            temp_abstract_list.append(abstract)\n",
    "      \n"
   ]
  },
  {
   "cell_type": "markdown",
   "metadata": {},
   "source": [
    "Print Total number of abstracts retrieved"
   ]
  },
  {
   "cell_type": "code",
   "execution_count": 93,
   "metadata": {
    "collapsed": false
   },
   "outputs": [
    {
     "name": "stdout",
     "output_type": "stream",
     "text": [
      "6995 abstracts\n"
     ]
    }
   ],
   "source": [
    "print(\"%d abstracts\" % len(temp_abstract_list))"
   ]
  },
  {
   "cell_type": "markdown",
   "metadata": {},
   "source": [
    "Store the abstracts using sqlite3 (lightweight disk-based database) - ONE TIME ACTIVITY"
   ]
  },
  {
   "cell_type": "code",
   "execution_count": 94,
   "metadata": {
    "collapsed": false
   },
   "outputs": [],
   "source": [
    "import sqlite3\n",
    "conn = sqlite3.connect('abstract.db')\n",
    "c = conn.cursor()\n",
    "disease_name = \"asthma\"\n",
    "\n",
    "# Uncomment below to Create table\n",
    "c.execute('''CREATE TABLE abstracts\n",
    "             (abstract text, disease text)''')\n",
    "# Uncomment below to insert abstracts specific to a disease to local db table\n",
    "for abstract in temp_abstract_list:\n",
    "     c.execute(\"INSERT INTO abstracts VALUES (?,?)\",(abstract,disease_name))\n",
    "# Save (commit) the changes\n",
    "conn.commit()\n",
    "\n",
    "\n"
   ]
  },
  {
   "cell_type": "markdown",
   "metadata": {},
   "source": [
    "Retrieve abstracts from local DB"
   ]
  },
  {
   "cell_type": "code",
   "execution_count": 95,
   "metadata": {
    "collapsed": false
   },
   "outputs": [
    {
     "name": "stdout",
     "output_type": "stream",
     "text": [
      "6995 abstracts from local db\n"
     ]
    }
   ],
   "source": [
    "disease_name = (\"asthma\",)\n",
    "\n",
    "c.execute(\"SELECT abstract FROM abstracts WHERE disease= ?\", disease_name)\n",
    "abstract_list = c.fetchall()\n",
    "# db returns a list of tuples, convert to list of strings as shown below\n",
    "abstract_list = [i for (i,) in abstract_list]\n",
    "print(\"%d abstracts from local db\" % len(abstract_list))"
   ]
  },
  {
   "cell_type": "markdown",
   "metadata": {},
   "source": [
    "Preprocess/Clean the abstract data using spaCy NLP\n",
    "1) Tokenize the abstract data\n",
    "2) Lemmatize the tokens\n",
    "3) Clean the tokens by applying stoplists"
   ]
  },
  {
   "cell_type": "code",
   "execution_count": 96,
   "metadata": {
    "collapsed": false
   },
   "outputs": [],
   "source": [
    "from sklearn.feature_extraction.stop_words import ENGLISH_STOP_WORDS\n",
    "from spacy import en\n",
    "import string\n",
    "from spacy.en import English"
   ]
  },
  {
   "cell_type": "code",
   "execution_count": 97,
   "metadata": {
    "collapsed": false
   },
   "outputs": [],
   "source": [
    "parser = English()\n",
    "\n",
    "# A custom stoplist\n",
    "STOPLIST = set()\n",
    "STOPLIST.update(en.STOPWORDS)\n",
    "STOPLIST.update([\"n't\", \"'s\", \"'m\", \"ca\",\"p\", \"t\"])\n",
    "STOPLIST.update(list(ENGLISH_STOP_WORDS))\n",
    "# List of symbols we don't care about\n",
    "SYMBOLS = \" \".join(string.punctuation).split(\" \") + [\"-----\", \"---\", \"...\",  \"'ve\"] \n",
    "def tokenize_text(sample):\n",
    "\n",
    "        # get the tokens using spaCy\n",
    "        tokens = parser(sample)\n",
    "\n",
    "        # lemmatize\n",
    "        lemmas = []\n",
    "        for tok in tokens:\n",
    "            lemmas.append(tok.lemma_.lower().strip() if tok.lemma_ != \"-PRON-\" else tok.lower_)\n",
    "            tokens = lemmas\n",
    "\n",
    "        # stoplist the tokens\n",
    "        tokens = [tok for tok in tokens if tok not in STOPLIST]\n",
    "\n",
    "        # stoplist symbols\n",
    "        tokens = [tok for tok in tokens if tok not in SYMBOLS]\n",
    "\n",
    "        # remove large strings of whitespace\n",
    "        while \"\" in tokens:\n",
    "            tokens.remove(\"\")\n",
    "        while \" \" in tokens:\n",
    "            tokens.remove(\" \")\n",
    "        while \"\\n\" in tokens:\n",
    "            tokens.remove(\"\\n\")\n",
    "        while \"\\n\\n\" in tokens:\n",
    "            tokens.remove(\"\\n\\n\")\n",
    "        #print tokens\n",
    "        return tokens"
   ]
  },
  {
   "cell_type": "markdown",
   "metadata": {
    "collapsed": true
   },
   "source": [
    "Convert above training corpus to sparse vectors using a TF-IDF sparse vectorizer and extract relevant features\n",
    "1) No. of features = 100000\n",
    "2) Remove Ascii Characters from Training Corpus "
   ]
  },
  {
   "cell_type": "code",
   "execution_count": 98,
   "metadata": {
    "collapsed": false
   },
   "outputs": [
    {
     "name": "stdout",
     "output_type": "stream",
     "text": [
      "n_samples: 6995, n_features: 19534\n",
      "CPU times: user 2min 9s, sys: 246 ms, total: 2min 10s\n",
      "Wall time: 2min 10s\n"
     ]
    }
   ],
   "source": [
    "%%time\n",
    "\n",
    "vectorizer = TfidfVectorizer(max_df=0.5, max_features=100000,\n",
    "                                 min_df=2,tokenizer=tokenize_text, stop_words='english',\n",
    "                                 use_idf=True,strip_accents =  'ascii')\n",
    "X = vectorizer.fit_transform(abstract_list)\n",
    "\n",
    "print(\"n_samples: %d, n_features: %d\" % X.shape)"
   ]
  },
  {
   "cell_type": "markdown",
   "metadata": {
    "collapsed": true
   },
   "source": [
    "Do the Actual Clustering using Scikit-Learn, KMeans Algo"
   ]
  },
  {
   "cell_type": "code",
   "execution_count": 99,
   "metadata": {
    "collapsed": false
   },
   "outputs": [
    {
     "name": "stdout",
     "output_type": "stream",
     "text": [
      "Clustering sparse data with KMeans(copy_x=True, init='k-means++', max_iter=100, n_clusters=5, n_init=1,\n",
      "    n_jobs=1, precompute_distances='auto', random_state=None, tol=0.0001,\n",
      "    verbose=False)\n",
      "\n",
      "CPU times: user 3.03 s, sys: 63.5 ms, total: 3.1 s\n",
      "Wall time: 844 ms\n"
     ]
    }
   ],
   "source": [
    "%%time\n",
    "\n",
    "km = KMeans(n_clusters=5, init='k-means++', max_iter=100, n_init=1,\n",
    "                verbose=False)\n",
    "print(\"Clustering sparse data with %s\" % km)\n",
    "km.fit(X)\n",
    "print()"
   ]
  },
  {
   "cell_type": "markdown",
   "metadata": {},
   "source": [
    "Persist the training model using joblib.dump 'pickling'"
   ]
  },
  {
   "cell_type": "code",
   "execution_count": 100,
   "metadata": {
    "collapsed": false
   },
   "outputs": [],
   "source": [
    "#from sklearn.externals import joblib\n",
    "# save the model\n",
    "#joblib.dump(km,  'diabetes_doc_cluster.pkl')\n",
    "\n",
    "# loading from the pickle\n",
    "#km = joblib.load('diabetes_doc_cluster.pkl')"
   ]
  },
  {
   "cell_type": "markdown",
   "metadata": {
    "collapsed": true
   },
   "source": [
    "Print the top terms per cluster"
   ]
  },
  {
   "cell_type": "code",
   "execution_count": 101,
   "metadata": {
    "collapsed": false
   },
   "outputs": [
    {
     "name": "stdout",
     "output_type": "stream",
     "text": [
      "Cluster 0:Label patient: patient, disease, group, treatment, control, clinical, case, symptom, level, high,\n",
      "Cluster 1:Label copd: copd, patient, acos, disease, exacerbation, obstructive, pulmonary, chronic, lung, smoker,\n",
      "Cluster 2:Label cell: cell, mouse, airway, expression, inflammation, lung, inflammatory, induce, t, response,\n",
      "Cluster 3:Label child: child, 95, ci, risk, age, year, associate, association, exposure, prevalence,\n",
      "Cluster 4:Label health: health, care, patient, intervention, cost, child, adherence, condition, management, disease,\n"
     ]
    }
   ],
   "source": [
    "order_centroids = km.cluster_centers_.argsort()[:, ::-1]\n",
    "terms = vectorizer.get_feature_names()\n",
    "for i in range(5):\n",
    "    j=0\n",
    "    print(\"Cluster %d:\" % i, end='')\n",
    "    \n",
    "    for ind in order_centroids[i, :10]:\n",
    "        if j==0:\n",
    "            print(\"Label %s:\" % terms[ind],end='')\n",
    "        j=j+1\n",
    "        print(' %s' % terms[ind], end=',')\n",
    "    print()"
   ]
  },
  {
   "cell_type": "markdown",
   "metadata": {},
   "source": [
    "Clustering using Mini Batch KMeans"
   ]
  },
  {
   "cell_type": "code",
   "execution_count": 105,
   "metadata": {
    "collapsed": false,
    "scrolled": false
   },
   "outputs": [
    {
     "name": "stdout",
     "output_type": "stream",
     "text": [
      "Clustering sparse data with MiniBatchKMeans(batch_size=1000, compute_labels=True, init='k-means++',\n",
      "        init_size=1000, max_iter=100, max_no_improvement=10, n_clusters=5,\n",
      "        n_init=1, random_state=None, reassignment_ratio=0.01, tol=0.0,\n",
      "        verbose=False)\n",
      "\n",
      "CPU times: user 168 ms, sys: 2.06 ms, total: 170 ms\n",
      "Wall time: 169 ms\n"
     ]
    }
   ],
   "source": [
    "%%time\n",
    "import warnings\n",
    "km = MiniBatchKMeans(n_clusters=5, init='k-means++', n_init=1,\n",
    "                         init_size=1000, batch_size=1000, verbose=False)\n",
    "print(\"Clustering sparse data with %s\" % km)\n",
    "with warnings.catch_warnings():\n",
    "    warnings.simplefilter(\"ignore\")\n",
    "    km.fit(X)\n",
    "print()"
   ]
  },
  {
   "cell_type": "markdown",
   "metadata": {},
   "source": [
    "FoamTree Display of clusters"
   ]
  },
  {
   "cell_type": "code",
   "execution_count": 106,
   "metadata": {
    "collapsed": false
   },
   "outputs": [
    {
     "name": "stdout",
     "output_type": "stream",
     "text": [
      "Cluster 0:Label cell: cell, airway, mouse, expression, inflammation, lung, t, inflammatory, induce, cytokine,\n",
      "Cluster 1:Label child: child, health, care, intervention, year, age, patient, ed, visit, school,\n",
      "Cluster 2:Label allergic: allergic, allergy, allergen, exposure, child, rhinitis, ige, food, risk, 95,\n",
      "Cluster 3:Label disease: disease, patient, group, treatment, control, clinical, effect, level, case, gene,\n",
      "Cluster 4:Label patient: patient, copd, ci, 95, disease, control, group, year, treatment, risk,\n"
     ]
    }
   ],
   "source": [
    "order_centroids = km.cluster_centers_.argsort()[:, ::-1]\n",
    "terms = vectorizer.get_feature_names()\n",
    "\n",
    "cluster_data_JSON = []\n",
    "for i in range(5):\n",
    "    j=0\n",
    "    print(\"Cluster %d:\" % i, end='')\n",
    "    cluster_dict = {}\n",
    "    cluster_dict[\"label\"] = str(km.labels_[i])\n",
    "    groups_list = []\n",
    "    for ind in order_centroids[i, :10]:\n",
    "        if j==0:\n",
    "            print(\"Label %s:\" % terms[ind],end='')\n",
    "            cluster_dict[\"label\"] = terms[ind]\n",
    "        j = j+1\n",
    "        print(' %s' % terms[ind], end=',')\n",
    "        group_dict = {}\n",
    "        group_dict[\"label\"] = str(terms[ind])\n",
    "        groups_list.append(group_dict)\n",
    "    cluster_dict[\"groups\"] = groups_list  \n",
    "    cluster_data_JSON.append(cluster_dict)\n",
    "    print()"
   ]
  },
  {
   "cell_type": "markdown",
   "metadata": {},
   "source": [
    "Javascript code for displaying cluster data(Mini-Batch KMeans ) in foamtree format. "
   ]
  },
  {
   "cell_type": "code",
   "execution_count": 104,
   "metadata": {
    "collapsed": false,
    "scrolled": true
   },
   "outputs": [
    {
     "data": {
      "text/html": [
       "\n",
       "<!DOCTYPE html>\n",
       "<html>\n",
       "  <head>\n",
       "    <title>FoamTree Quick Start</title>\n",
       "    <meta charset=\"utf-8\" />\n",
       "  </head>\n",
       "\n",
       "  <body>\n",
       "    <div id=\"visualization\" style=\"width: 950px; height: 600px\"></div>\n",
       "\n",
       "    <script src=\"carrotsearch.foamtree.js\"></script>\n",
       "    <script>\n",
       "      function init() {\n",
       "        var foamtree = new CarrotSearchFoamTree({\n",
       "          id: \"visualization\",\n",
       "          dataObject: {\n",
       "            groups:[{\"groups\": [{\"label\": \"cell\"}, {\"label\": \"expression\"}, {\"label\": \"airway\"}, {\"label\": \"mouse\"}, {\"label\": \"inflammatory\"}, {\"label\": \"lung\"}, {\"label\": \"induce\"}, {\"label\": \"inflammation\"}, {\"label\": \"t\"}, {\"label\": \"response\"}], \"label\": \"cell\"}, {\"groups\": [{\"label\": \"allergy\"}, {\"label\": \"allergic\"}, {\"label\": \"allergen\"}, {\"label\": \"food\"}, {\"label\": \"ige\"}, {\"label\": \"rhinitis\"}, {\"label\": \"patient\"}, {\"label\": \"child\"}, {\"label\": \"immunotherapy\"}, {\"label\": \"disease\"}], \"label\": \"allergy\"}, {\"groups\": [{\"label\": \"health\"}, {\"label\": \"child\"}, {\"label\": \"care\"}, {\"label\": \"disease\"}, {\"label\": \"respiratory\"}, {\"label\": \"intervention\"}, {\"label\": \"risk\"}, {\"label\": \"exposure\"}, {\"label\": \"year\"}, {\"label\": \"age\"}], \"label\": \"health\"}, {\"groups\": [{\"label\": \"patient\"}, {\"label\": \"treatment\"}, {\"label\": \"copd\"}, {\"label\": \"disease\"}, {\"label\": \"clinical\"}, {\"label\": \"therapy\"}, {\"label\": \"drug\"}, {\"label\": \"chronic\"}, {\"label\": \"symptom\"}, {\"label\": \"control\"}], \"label\": \"patient\"}, {\"groups\": [{\"label\": \"group\"}, {\"label\": \"child\"}, {\"label\": \"patient\"}, {\"label\": \"95\"}, {\"label\": \"ci\"}, {\"label\": \"control\"}, {\"label\": \"risk\"}, {\"label\": \"level\"}, {\"label\": \"associate\"}, {\"label\": \"age\"}], \"label\": \"group\"}]\n",
       "          }\n",
       "        });\n",
       "      }\n",
       "        \n",
       "    init();\n",
       "    </script>\n",
       "  </body>\n",
       " "
      ],
      "text/plain": [
       "<IPython.core.display.HTML object>"
      ]
     },
     "metadata": {},
     "output_type": "display_data"
    }
   ],
   "source": [
    "display(HTML(\"\"\"\n",
    "<!DOCTYPE html>\n",
    "<html>\n",
    "  <head>\n",
    "    <title>FoamTree Quick Start</title>\n",
    "    <meta charset=\"utf-8\" />\n",
    "  </head>\n",
    "\n",
    "  <body>\n",
    "    <div id=\"visualization\" style=\"width: 950px; height: 600px\"></div>\n",
    "\n",
    "    <script src=\"carrotsearch.foamtree.js\"></script>\n",
    "    <script>\n",
    "      function init() {\n",
    "        var foamtree = new CarrotSearchFoamTree({\n",
    "          id: \"visualization\",\n",
    "          dataObject: {\n",
    "            groups:\"\"\"\n",
    "             + \n",
    "             json.dumps(cluster_data_JSON)\n",
    "             +\n",
    "             \"\"\"\n",
    "          }\n",
    "        });\n",
    "      }\n",
    "        \n",
    "    init();\n",
    "    </script>\n",
    "  </body>\n",
    " \"\"\"))\n"
   ]
  },
  {
   "cell_type": "markdown",
   "metadata": {},
   "source": [
    "Bi-gram clustering???"
   ]
  },
  {
   "cell_type": "code",
   "execution_count": 89,
   "metadata": {
    "collapsed": false
   },
   "outputs": [
    {
     "name": "stdout",
     "output_type": "stream",
     "text": [
      "n_samples: 13990, n_features: 100000\n",
      "Clustering sparse data with KMeans(copy_x=True, init='k-means++', max_iter=100, n_clusters=5, n_init=1,\n",
      "    n_jobs=1, precompute_distances='auto', random_state=None, tol=0.0001,\n",
      "    verbose=False)\n",
      "\n",
      "Cluster 0:Label health: health, care, child, patient, intervention, year, cost, age, disease, condition,\n",
      "Cluster 1:Label child: child, ci, 95, 95 ci, allergy, allergic, risk, food, exposure, association,\n",
      "Cluster 2:Label patient: patient, group, treatment, disease, control, clinical, case, level, high, symptom,\n",
      "Cluster 3:Label copd: copd, patient, acos, disease, asthma copd, obstructive, exacerbation, pulmonary, chronic, chronic obstructive,\n",
      "Cluster 4:Label cell: cell, mouse, airway, expression, inflammation, lung, induce, inflammatory, t, response,\n",
      "CPU times: user 4min 43s, sys: 917 ms, total: 4min 44s\n",
      "Wall time: 4min 39s\n"
     ]
    }
   ],
   "source": [
    "%%time\n",
    "\n",
    "vectorizer = TfidfVectorizer(max_df=0.5, max_features=100000,\n",
    "                                 min_df=2,tokenizer=tokenize_text, stop_words='english',\n",
    "                                 use_idf=True,strip_accents =  'ascii',ngram_range=(1,2))\n",
    "X = vectorizer.fit_transform(abstract_list)\n",
    "\n",
    "print(\"n_samples: %d, n_features: %d\" % X.shape)\n",
    "km = KMeans(n_clusters=5, init='k-means++', max_iter=100, n_init=1,\n",
    "                verbose=False)\n",
    "print(\"Clustering sparse data with %s\" % km)\n",
    "km.fit(X)\n",
    "print()\n",
    "order_centroids = km.cluster_centers_.argsort()[:, ::-1]\n",
    "terms = vectorizer.get_feature_names()\n",
    "for i in range(5):\n",
    "    j=0\n",
    "    print(\"Cluster %d:\" % i, end='')\n",
    "    for ind in order_centroids[i, :10]:\n",
    "        if j==0:\n",
    "            print(\"Label %s:\" % terms[ind],end='')\n",
    "        j = j+1\n",
    "        print(' %s' % terms[ind], end=',')\n",
    "    print()"
   ]
  },
  {
   "cell_type": "code",
   "execution_count": null,
   "metadata": {
    "collapsed": true
   },
   "outputs": [],
   "source": [
    "# We can also close the connection if we are done with it.\n",
    "# Just be sure any changes have been committed or they will be lost.\n",
    "conn.close()"
   ]
  }
 ],
 "metadata": {
  "anaconda-cloud": {},
  "kernelspec": {
   "display_name": "Python [Root]",
   "language": "python",
   "name": "Python [Root]"
  },
  "language_info": {
   "codemirror_mode": {
    "name": "ipython",
    "version": 2
   },
   "file_extension": ".py",
   "mimetype": "text/x-python",
   "name": "python",
   "nbconvert_exporter": "python",
   "pygments_lexer": "ipython2",
   "version": "2.7.12"
  }
 },
 "nbformat": 4,
 "nbformat_minor": 0
}
