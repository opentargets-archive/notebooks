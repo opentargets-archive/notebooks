{
 "cells": [
  {
   "cell_type": "markdown",
   "metadata": {},
   "source": [
    "# Some commonly used functions from utilityOT class"
   ]
  },
  {
   "cell_type": "code",
   "execution_count": null,
   "metadata": {
    "collapsed": true
   },
   "outputs": [],
   "source": [
    "import requests\n",
    "import json\n",
    "import urllib\n",
    "import gzip\n",
    "import os.path\n",
    "import random\n",
    "\n",
    "import seaborn as sns\n",
    "import matplotlib as mpl\n",
    "import matplotlib.pyplot as plt"
   ]
  },
  {
   "cell_type": "code",
   "execution_count": null,
   "metadata": {
    "collapsed": true
   },
   "outputs": [],
   "source": [
    "'''\n",
    "    returns ensembl gene id for a gene symbol,\n",
    "    leveraging the ensembl rest api\n",
    "'''\n",
    "def symbol2ensemble(symbol):\n",
    "    \n",
    "    headers = {'content-type':'application/json'}\n",
    "    human_url = 'http://rest.ensembl.org/xrefs/symbol/homo_sapiens/'\n",
    "    r = requests.get(human_url + symbol, headers=headers)\n",
    "    return r.json()[0]['id']"
   ]
  },
  {
   "cell_type": "code",
   "execution_count": null,
   "metadata": {
    "collapsed": true
   },
   "outputs": [],
   "source": [
    "'''\n",
    "    uses the targetvalidation.org API to get ENS IDs\n",
    "'''\n",
    "def get_ensid(genesymbol, baseUrl='http://localhost:8008/api/latest/'):\n",
    "   \n",
    "    geneId=''\n",
    "    r = requests.get(baseUrl + 'public/search', \n",
    "                     params={'q':genesymbol,'size':1,'filter':'gene'})\n",
    "    if r.status_code == 200:\n",
    "        result = r.json()\n",
    "        if len(result[\"data\"]) > 0:\n",
    "            if result[\"data\"][0][\"data\"][\"approved_symbol\"] == genesymbol:\n",
    "                geneId = result[\"data\"][0][\"id\"]\n",
    "    else:\n",
    "        print 'got status_code=' + r.status_code\n",
    "    print 'genesymbol=' + genesymbol + ' geneId = ' +geneId\n",
    "    return geneId"
   ]
  },
  {
   "cell_type": "code",
   "execution_count": null,
   "metadata": {
    "collapsed": true
   },
   "outputs": [],
   "source": [
    "'''\n",
    "    uses the targetvalidation.org API to get EFO IDs\n",
    "'''\n",
    "def get_efoid(diseasestr, baseUrl='http://localhost:8008/api/latest/'):\n",
    "    \n",
    "    r = requests.get(baseUrl + 'public/search', \n",
    "                     params={'q':diseasestr,'size':1,'filter':'disease'})\n",
    "    result = r.json()\n",
    "    diseaseId = result[\"data\"][0][\"data\"][\"efo_code\"]\n",
    "    return diseaseId"
   ]
  },
  {
   "cell_type": "code",
   "execution_count": null,
   "metadata": {
    "collapsed": true
   },
   "outputs": [],
   "source": [
    "'''\n",
    "    create a diseasename.json file with results of the OT search\n",
    "'''   \n",
    "def search_disease(diseasestr,  baseUrl='http://localhost:8008/api/latest/'):\n",
    "   \n",
    "    durl= baseUrl + 'public/search?size=10&from=0&q=' +diseasestr\n",
    "    durlResponse=requests.get(durl)\n",
    "    doutput=durlResponse.json()\n",
    "    dJsonString = json.dumps(doutput, indent=2)\n",
    "    f = open(diseasestr +'Search.json', 'w')\n",
    "    f.write(dJsonString)\n",
    "    print asthmaJsonString\n",
    "    return None"
   ]
  },
  {
   "cell_type": "code",
   "execution_count": null,
   "metadata": {
    "collapsed": true
   },
   "outputs": [],
   "source": [
    "'''\n",
    "    Save all the genes in a file thePath + hgnc_symbol_set.txt'\n",
    "'''\n",
    "def get_all_gene_symbols(thePath=''):\n",
    "    \n",
    "    #first load the file with all gene info from EBI   \n",
    "    if os.path.exists(thePath + 'hgnc_symbol_set.txt') == False:\n",
    "        if os.path.exists(thePath + 'hgnc_complete_set.txt.gz') == False:\n",
    "            url = 'http://ftp.ebi.ac.uk/pub/databases/genenames/hgnc_complete_set.txt.gz'\n",
    "            theFile = urllib.URLopener()\n",
    "            theFile.retrieve(url, thePath + \"hgnc_complete_set.txt.gz\")\n",
    "          \n",
    "        #unzip it\n",
    "        if os.path.isfile(thePath+'hgnc_complete_set.txt.gz'): \n",
    "            zippedFile = gzip.open(thePath+'hgnc_complete_set.txt.gz', 'rb')\n",
    "            saveToFile = open(thePath+'hgnc_complete_set.txt', 'wb')\n",
    "            saveToFile.write(zippedFile.read())\n",
    "            \n",
    "            zippedFile.close()\n",
    "            saveToFile.close()\n",
    "        \n",
    "    #remove first line and then parse it and get second column\n",
    "    readFrom = open(thePath+'hgnc_complete_set.txt', 'r')    \n",
    "    writeTo = open(thePath+'hgnc_symbol_set.txt', 'w') \n",
    "    \n",
    "    #Skip first line of the complete set - it is column names - dont need that\n",
    "    theLine = readFrom.readline()\n",
    "    while theLine != '':\n",
    "        theLine = readFrom.readline()\n",
    "        #print theLine\n",
    "        #take second column\n",
    "        theColumns = theLine.split(\"\\t\", 2)\n",
    "        if len(theColumns) >=2:\n",
    "            secondColumn =  theColumns[1]\n",
    "        \n",
    "            if secondColumn.endswith('withdrawn') == False:\n",
    "                #print secondColumn\n",
    "                writeTo.write(secondColumn + \"\\n\")\n",
    "    \n",
    "    readFrom.close()\n",
    "    writeTo.close()\n",
    "    return None"
   ]
  },
  {
   "cell_type": "code",
   "execution_count": null,
   "metadata": {
    "collapsed": true
   },
   "outputs": [],
   "source": [
    "def get_random_gene_names(filename='hgnc_symbol_set.txt', numGenes=10):\n",
    "    #load all the lines in file into genes list, but strip newline/whitespace first\n",
    "    with open('hgnc_symbol_set.txt') as f:\n",
    "        genes = [line.rstrip() for line in f] \n",
    "    random.shuffle(genes)\n",
    "    #print(genes[:numGenes])\n",
    "    #random_genes = [utilityOT.get_ensid(x) for x in genes[:numGenes] if get_ensid(x) is not None]\n",
    "    random_genes = genes[:numGenes]\n",
    "    #print random_genes\n",
    "    return random_genes"
   ]
  },
  {
   "cell_type": "code",
   "execution_count": null,
   "metadata": {
    "collapsed": true
   },
   "outputs": [],
   "source": [
    "'''\n",
    "Take a list of genes and write them to a file one gene \n",
    "'''\n",
    "def write_genes_to_file(fileName, genes):\n",
    "    writeToFile = open(fileName, 'w');\n",
    "    for gene in genes:\n",
    "        writeToFile.write(gene+ '\\n')\n",
    "    return None\n",
    "'''Read genes from a file'''\n",
    "def read_genes_from_file(filename='genelist_pd.txt'):\n",
    "    with open(filename) as f:\n",
    "        genes = [line.rstrip() for line in f]\n",
    "    \n",
    "    return genes"
   ]
  },
  {
   "cell_type": "code",
   "execution_count": null,
   "metadata": {
    "collapsed": true
   },
   "outputs": [],
   "source": [
    "'''\n",
    "Take list of gene names and return a list of corresponding ENS gene codes\n",
    "'''\n",
    "def get_ens_genes(geneNames, baseUrl='http://localhost:8008/api/latest/'):\n",
    "    ens_genes = []\n",
    "    for x in geneNames: \n",
    "        ensid = get_ensid(x, baseUrl) \n",
    "        if ensid is not None:\n",
    "            ens_genes.append(ensid)   \n",
    "    return ens_genes"
   ]
  },
  {
   "cell_type": "code",
   "execution_count": null,
   "metadata": {
    "collapsed": true
   },
   "outputs": [],
   "source": [
    "def get_disease_info(disease, baseUrl='http://localhost:8008/api/latest/'):\n",
    "    disease_efo = get_efoid(disease, baseUrl)\n",
    "    \n",
    "    disease_csv = {'disease':disease_efo,\n",
    "          'outputstructure':'flat',\n",
    "          'facets':'false',\n",
    "          'format':'csv',\n",
    "          'size':'10000',\n",
    "          'fields':['target.gene_info.symbol',\n",
    "                    'association_score.overall',\n",
    "                    'association_score.datatypes.genetic_association',\n",
    "                    'association_score.datatypes.somatic_mutation',\n",
    "                    'association_score.datatypes.known_drug',\n",
    "                    'association_score.datatypes.affected_pathway',\n",
    "                    'association_score.datatypes.rna_expression',\n",
    "                    'association_score.datatypes.literature',\n",
    "                    'association_score.datatypes.animal_model',\n",
    "                    'target.gene_info.name'],\n",
    "          'from':'0',\n",
    "          'scorevalue_min':'0'\n",
    "          }\n",
    "    r = requests.get(baseUrl + 'public/association/filter', params = disease_csv)\n",
    "    \n",
    "    diseaseResults = open(disease + '.csv','w')\n",
    "    diseaseResults.write(r.text)\n",
    "    diseaseResults.close()\n",
    "    \n",
    "    return r.text"
   ]
  },
  {
   "cell_type": "code",
   "execution_count": null,
   "metadata": {
    "collapsed": true
   },
   "outputs": [],
   "source": [
    "def get_disease_and_target_info(disease,targets,fileName='',baseUrl='http://localhost:8008/api/latest/'):\n",
    "    disease_efo = get_efoid(disease, baseUrl)\n",
    "    \n",
    "    disease_csv = {'disease':disease_efo,\n",
    "                   'target':targets,\n",
    "          'outputstructure':'flat',\n",
    "          'facets':'false',\n",
    "          'format':'csv',\n",
    "          'size':'10000',\n",
    "          'fields':['target.gene_info.symbol',\n",
    "                    'association_score.overall',\n",
    "                    'association_score.datatypes.genetic_association',\n",
    "                    'association_score.datatypes.somatic_mutation',\n",
    "                    'association_score.datatypes.known_drug',\n",
    "                    'association_score.datatypes.affected_pathway',\n",
    "                    'association_score.datatypes.rna_expression',\n",
    "                    'association_score.datatypes.literature',\n",
    "                    'association_score.datatypes.animal_model',\n",
    "                    'target.gene_info.name'],\n",
    "          'from':'0',\n",
    "          'scorevalue_min':'0'\n",
    "          }\n",
    "    r = requests.get(baseUrl + 'public/association/filter', params = disease_csv)\n",
    "    if r.status_code == 200:\n",
    "        diseaseResults = open(disease + '_targets_'+ fileName+ '.csv','w')\n",
    "        diseaseResults.write(r.text)\n",
    "        diseaseResults.close()\n",
    "    \n",
    "    return r.text"
   ]
  },
  {
   "cell_type": "code",
   "execution_count": null,
   "metadata": {
    "collapsed": true
   },
   "outputs": [],
   "source": [
    "def get_disease_and_target_evidence_count(disease,targets,fileName='disease_target_count',baseUrl='http://localhost:8008/api/latest/'):\n",
    "    disease_efo = get_efoid(disease, baseUrl)\n",
    "    \n",
    "    disease_csv = {'disease':disease_efo,\n",
    "                   'target':targets,\n",
    "          'outputstructure':'flat',\n",
    "          'facets':'false',\n",
    "          'format':'csv',\n",
    "          'size':'10000',\n",
    "          'fields':['target.gene_info.symbol',\n",
    "                    'evidence_count.total',\n",
    "                    'evidence_count.datatypes.genetic_association',\n",
    "                    'evidence_count.datatypes.somatic_mutation',\n",
    "                    'evidence_count.datatypes.known_drug',\n",
    "                    'evidence_count.datatypes.affected_pathway',\n",
    "                    'evidence_count.datatypes.rna_expression',\n",
    "                    'evidence_count.datatypes.literature',\n",
    "                    'evidence_count.datatypes.animal_model',\n",
    "                    'evidence_count.datasources.gwas_catalog',\n",
    "                    'evidence_count.datasources.eva',\n",
    "                    'evidence_count.datasources.eva_somatic',\n",
    "                    'evidence_count.datasources.uniprot',\n",
    "                    'evidence_count.datasources.uniprot_literature'],\n",
    "          'from':'0',\n",
    "          'scorevalue_min':'0'\n",
    "          }\n",
    "    r = requests.get(baseUrl + 'public/association/filter', params = disease_csv)\n",
    "    print \"response status_code = \" +str( r.status_code)\n",
    "    if r.status_code == 200: \n",
    "        diseaseResults = open(fileName+'.csv','w')\n",
    "        diseaseResults.write(r.text)\n",
    "        diseaseResults.close()\n",
    "    else: \n",
    "        print r.text\n",
    "    return r.text"
   ]
  },
  {
   "cell_type": "code",
   "execution_count": null,
   "metadata": {
    "collapsed": true
   },
   "outputs": [],
   "source": [
    "def get_mendelian_count (row):\n",
    "    mendelian = row['uniprot'] + row['uniprot_literature'] + row['eva'] + row['eva_somatic']\n",
    "    return mendelian"
   ]
  },
  {
   "cell_type": "code",
   "execution_count": null,
   "metadata": {
    "collapsed": true
   },
   "outputs": [],
   "source": [
    "'''\n",
    "    Show data Frame as heatmap\n",
    "'''\n",
    "def show_heatmap(df, columns, height=5):\n",
    "    #Show heatmap for the df for parkinsonTextCSV\n",
    "    # copying from Theo.. \n",
    "    f, ax = plt.subplots(figsize=(columns,height)) #figsize(x,y) - are in inchs\n",
    "    #ax = sns.heatmap(df.iloc[:columns,0:columns], cmap=\"Blues\", annot=True, linewidths=2)\n",
    "    ax = sns.heatmap(df, cmap=\"Blues\", annot=True, fmt='g', linewidths=2)\n",
    "    # fix labels\n",
    "    #labels = [item.get_text().split('.')[-1] for item in ax.get_xticklabels()]\n",
    "    #labels = [item.get_text().split('.')[-1] for item in ax.get_xticklabels()]\n",
    "    #t = ax.set_xticklabels(labels)\n",
    "    print \"DONE\"\n",
    "    return None\n"
   ]
  },
  {
   "cell_type": "code",
   "execution_count": null,
   "metadata": {
    "collapsed": true
   },
   "outputs": [],
   "source": [
    "def edit_header(fileNameFrom, fileNameTo, numColumns):\n",
    "    readFrom = open(fileNameFrom, 'r')    \n",
    "    writeTo = open( fileNameTo, 'w+')\n",
    "     \n",
    "    theLine = readFrom.readline()\n",
    "    theColumns = theLine.split(\",\", numColumns)\n",
    "    labels = [item.split('.')[-1] for item in theColumns]\n",
    "    newEditedLine = \",\".join( labels )\n",
    "    print newEditedLine\n",
    "    writeTo.write(newEditedLine);\n",
    "    while theLine != '':\n",
    "        theLine = readFrom.readline()\n",
    "        writeTo.write(theLine)\n",
    "    readFrom.close()\n",
    "    writeTo.close()    \n",
    "    return None"
   ]
  },
  {
   "cell_type": "code",
   "execution_count": null,
   "metadata": {
    "collapsed": true
   },
   "outputs": [],
   "source": []
  }
 ],
 "metadata": {
  "anaconda-cloud": {},
  "kernelspec": {
   "display_name": "Python [Root]",
   "language": "python",
   "name": "Python [Root]"
  },
  "language_info": {
   "codemirror_mode": {
    "name": "ipython",
    "version": 2
   },
   "file_extension": ".py",
   "mimetype": "text/x-python",
   "name": "python",
   "nbconvert_exporter": "python",
   "pygments_lexer": "ipython2",
   "version": "2.7.12"
  }
 },
 "nbformat": 4,
 "nbformat_minor": 0
}
