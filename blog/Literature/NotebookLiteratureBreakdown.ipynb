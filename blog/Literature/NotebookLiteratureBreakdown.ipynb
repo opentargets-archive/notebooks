{
 "cells": [
  {
   "cell_type": "code",
   "execution_count": 1,
   "metadata": {
    "collapsed": false
   },
   "outputs": [],
   "source": [
    "import pandas as pd\n",
    "import seaborn as sns\n",
    "import matplotlib as mpl\n",
    "import matplotlib.pyplot as plt\n",
    "import json\n",
    "from io import StringIO\n",
    "import utilityOT\n",
    "%matplotlib inline\n",
    "from IPython.display import display, HTML \n",
    "from collections import Counter\n",
    "from operator import itemgetter\n",
    "sns.set_context(\"talk\")\n",
    "sns.set_style(\"whitegrid\")\n"
   ]
  },
  {
   "cell_type": "code",
   "execution_count": 2,
   "metadata": {
    "collapsed": false
   },
   "outputs": [
    {
     "name": "stdout",
     "output_type": "stream",
     "text": [
      "['DCC', 'CHCHD6', 'SFXN1', 'PUM1', 'SEPT7', 'CLK4', 'MSL1', 'SYTL5', 'SNX16', 'EPHX1', 'C10orf118', 'PUM1', 'SMC2', 'MPP6', 'SCARB1', 'THUMPD1', 'AKR1A1', 'LAMC1', 'OSBPL5', 'RANGAP1', 'CCNE2', 'C10orf2', 'HSPB1', 'TNFSF13', 'ATP1B1', 'LLGL2', 'ATP5B', 'SASH1', 'ABCC4', 'MCM8', 'KIF16B', 'DIP2A', 'DNAH12', 'BMI1', 'HSPA1L', 'CCNB2', 'UNC50', 'FLNA', 'NSUN7', 'FTH1', 'FTH1', 'RARS2', 'CHEK1', 'CDC14B', 'TRMT10A', 'EIF4EBP1', 'PRKG1', 'SERAC1', 'NLGN4Y', 'FTH1', 'OCA2', 'EIF5B', 'LAMA1', 'BLOC1S6', 'USP47', 'CALR', 'FMNL3', 'WDR92', 'SNORD14D', 'GRHPR', 'CELF2', 'RNF144A', 'SOD2', 'ANKFN1', 'DPF2', 'PPARD', 'SYTL5', 'ECT2', 'DUSP10', 'CASK', 'ACTR5', 'ABLIM2', 'SFSWAP', 'GPR139', 'KCNT2', 'LARP1B', 'MRPS28', 'TFAP4', 'ZBTB21', 'NUDCD3', 'PLBD2', 'PDE8A', 'KAZN', 'BRAP', 'CD63', 'ABCG1', 'SKP2', 'ACSL1', 'GPC5', 'SPECC1L', 'KCNA3', 'ZFYVE28', 'PCSK5', 'ADAM9', 'SAMD11', 'SNORA29', 'NDRG3', 'CHST14', 'CCDC86', 'ETV6', 'NUAK1', 'NTM', 'USP38', 'CEP78', 'NUAK2']\n"
     ]
    }
   ],
   "source": [
    "#We are now at the starting point - we have a list of genes in a file\n",
    "#and we want to go see what Oper Targets has for these genes\n",
    "\n",
    "gene_names_list = utilityOT.read_genes_from_file('genelist_pd.txt')\n",
    "print gene_names_list"
   ]
  },
  {
   "cell_type": "code",
   "execution_count": 3,
   "metadata": {
    "collapsed": false
   },
   "outputs": [
    {
     "name": "stdout",
     "output_type": "stream",
     "text": [
      "[u'ENSG00000187323', u'ENSG00000159685', u'ENSG00000164466', u'ENSG00000134644', u'ENSG00000122545', u'ENSG00000113240', u'ENSG00000188895', u'ENSG00000147041', u'ENSG00000104497', u'ENSG00000143819', '', u'ENSG00000134644', u'ENSG00000136824', u'ENSG00000105926', u'ENSG00000073060', u'ENSG00000066654', u'ENSG00000117448', u'ENSG00000135862', u'ENSG00000021762', u'ENSG00000100401', u'ENSG00000175305', u'ENSG00000107815', u'ENSG00000106211', u'ENSG00000161955', u'ENSG00000143153', u'ENSG00000073350', u'ENSG00000110955', u'ENSG00000111961', u'ENSG00000125257', u'ENSG00000125885', u'ENSG00000089177', u'ENSG00000160305', u'ENSG00000174844', u'ENSG00000168283', u'ENSG00000204390', u'ENSG00000157456', u'ENSG00000115446', u'ENSG00000196924', u'ENSG00000179299', u'ENSG00000167996', u'ENSG00000167996', u'ENSG00000146282', u'ENSG00000149554', u'ENSG00000081377', u'ENSG00000145331', u'ENSG00000187840', u'ENSG00000185532', u'ENSG00000122335', u'ENSG00000165246', u'ENSG00000167996', u'ENSG00000104044', u'ENSG00000158417', u'ENSG00000101680', u'ENSG00000104164', u'ENSG00000170242', u'ENSG00000179218', u'ENSG00000161791', u'ENSG00000243667', u'ENSG00000207118', u'ENSG00000137106', u'ENSG00000048740', u'ENSG00000151692', u'ENSG00000112096', u'ENSG00000153930', u'ENSG00000133884', u'ENSG00000112033', u'ENSG00000147041', u'ENSG00000114346', u'ENSG00000143507', u'ENSG00000147044', u'ENSG00000101442', u'ENSG00000163995', u'ENSG00000061936', u'ENSG00000180269', u'ENSG00000162687', u'ENSG00000138709', '', u'ENSG00000090447', u'ENSG00000173276', u'ENSG00000015676', u'ENSG00000151176', u'ENSG00000073417', u'ENSG00000189337', u'ENSG00000089234', u'ENSG00000135404', u'ENSG00000160179', u'ENSG00000145604', u'ENSG00000151726', u'ENSG00000179399', u'ENSG00000100014', u'ENSG00000177272', u'ENSG00000159733', u'ENSG00000099139', u'ENSG00000168615', u'ENSG00000187634', u'ENSG00000206910', u'ENSG00000101079', u'ENSG00000169105', u'ENSG00000110104', u'ENSG00000139083', u'ENSG00000074590', u'ENSG00000182667', u'ENSG00000170185', u'ENSG00000148019', u'ENSG00000163545']\n"
     ]
    }
   ],
   "source": [
    "#OT API takes target ENS codes, so lets get them\n",
    "myTargets = utilityOT.get_ens_genes(gene_names_list, 'http://targetvalidation.org/api/latest/')\n",
    "#print myTargets\n"
   ]
  },
  {
   "cell_type": "code",
   "execution_count": 4,
   "metadata": {
    "collapsed": true
   },
   "outputs": [],
   "source": [
    "#we also can save this into a file if we want to keep it and use read from file function \n",
    "utilityOT.write_genes_to_file('gene_ens_codes.txt', myTargets)"
   ]
  },
  {
   "cell_type": "code",
   "execution_count": 5,
   "metadata": {
    "collapsed": false
   },
   "outputs": [
    {
     "name": "stdout",
     "output_type": "stream",
     "text": [
      "response status_code = 200\n"
     ]
    }
   ],
   "source": [
    "#Do search for parkinson for myTargets and save result in the file\n",
    "myTargets =utilityOT.read_genes_from_file('gene_ens_codes.txt')\n",
    "literatureJson = utilityOT.get_literature_evidence('parkinson', myTargets, '/Users/rgaspary/GIT/CTTV/notebooks/blog/Literature/parkinson_counts_literature')"
   ]
  },
  {
   "cell_type": "code",
   "execution_count": 6,
   "metadata": {
    "collapsed": false,
    "scrolled": true
   },
   "outputs": [],
   "source": [
    "#Read targets from the file that is located in the folder provided\n",
    "targets= utilityOT.get_literature_breakdown('/Users/rgaspary/GIT/CTTV/notebooks/blog/Literature/', \"parkinson_counts_literature.json\")"
   ]
  },
  {
   "cell_type": "code",
   "execution_count": 7,
   "metadata": {
    "collapsed": false
   },
   "outputs": [],
   "source": [
    "json_string = json.dumps(targets, indent=3)\n",
    "targets_json = json.loads(json_string)\n",
    "with open('targets_literature_abstracts.json', 'w') as outfile:\n",
    "    json.dump(targets_json, outfile)"
   ]
  },
  {
   "cell_type": "code",
   "execution_count": 8,
   "metadata": {
    "collapsed": false
   },
   "outputs": [
    {
     "name": "stdout",
     "output_type": "stream",
     "text": [
      "1999\n",
      "2016\n"
     ]
    }
   ],
   "source": [
    "startEnd = utilityOT.format_json_for_visualization(targets, 'targets_literature_articles_visualization3.json')    \n",
    "startYear = startEnd[0]\n",
    "endYear = startEnd[1]\n",
    "print \"startYear = \" +str(startEnd[0])\n",
    "print \"endYear = \"+str(startEnd[1])\n"
   ]
  },
  {
   "cell_type": "code",
   "execution_count": 9,
   "metadata": {
    "collapsed": false
   },
   "outputs": [
    {
     "data": {
      "text/html": [
       " \n",
       "<html>\n",
       "<head>\n",
       "<script src=\"jquery.min.js\"></script>\n",
       "<script src=\"scripts.js\"></script>\n",
       "<style type=\"text/css\">\n",
       "body{font-family: Arial, sans-serif;font-size:10px;}\n",
       ".axis path,.axis line {fill: none;stroke:#b6b6b6;shape-rendering: crispEdges;}\n",
       "/*.tick line{fill:none;stroke:none;}*/\n",
       ".tick text{fill:#999;}\n",
       "g.journal.active{cursor:pointer;}\n",
       "text.label{font-size:12px;font-weight:bold;cursor:pointer;}\n",
       "text.value{font-size:12px;font-weight:bold;}\n",
       "</style>\n",
       "</head>\n",
       "<body>\n",
       "\n",
       "<script type=\"text/javascript\">\n",
       "function truncate(str, maxLength, suffix) {\n",
       "\tif(str.length > maxLength) {\n",
       "\t\tstr = str.substring(0, maxLength + 1); \n",
       "\t\tstr = str.substring(0, Math.min(str.length, str.lastIndexOf(\" \")));\n",
       "\t\tstr = str + suffix;\n",
       "\t}\n",
       "\treturn str;\n",
       "}\n",
       "\n",
       "var margin = {top: 20, right: 200, bottom: 0, left: 20},\n",
       "\twidth = 300,\n",
       "\theight = 650;\n",
       "\n",
       "var start_year = 1997,\n",
       "\tend_year = 2018;\n",
       "\n",
       "var c = d3.scale.category20c();\n",
       "\n",
       "var x = d3.scale.linear()\n",
       "\t.range([0, width]);\n",
       "\n",
       "var xAxis = d3.svg.axis()\n",
       "\t.scale(x)\n",
       "\t.orient(\"top\");\n",
       "\n",
       "var formatYears = d3.format(\"0000\");\n",
       "xAxis.tickFormat(formatYears);\n",
       "\n",
       "var svg = d3.select(\"body\").append(\"svg\")\n",
       "\t.attr(\"width\", width + margin.left + margin.right)\n",
       "\t.attr(\"height\", height + margin.top + margin.bottom)\n",
       "\t.style(\"margin-left\", margin.left + \"px\")\n",
       "\t.append(\"g\")\n",
       "\t.attr(\"transform\", \"translate(\" + margin.left + \",\" + margin.top + \")\");\n",
       "\n",
       "// var dataset = [[ [2002, 8], [2003, 1], [2004, 1], [2005, 1], [2006, 3], [2007, 3], [2009, 3], [2013, 3]], [ [2004, 5], [2005, 1], [2006, 2], [2010, 20], [2011, 3] ] ,[ [2001, 5], [2005, 15], [2006, 2], [2010, 20], [2012, 25] ]];\n",
       "// var dataset = [ [2001, 5], [2005, 15], [2006, 2], [2010, 20], [2012, 25] ];\n",
       "\n",
       "d3.json(\"targets_literature_articles_visualization2.json\", function(data) {\n",
       "\tx.domain([start_year, end_year]);\n",
       "\tvar xScale = d3.scale.linear()\n",
       "\t\t.domain([start_year, end_year])\n",
       "\t\t.range([0, width]);\n",
       "\n",
       "\tsvg.append(\"g\")\n",
       "\t\t.attr(\"class\", \"x axis\")\n",
       "\t\t.attr(\"transform\", \"translate(0,\" + 0 + \")\")\n",
       "\t\t.call(xAxis);\n",
       "\n",
       "\tfor (var j = 0; j < data.length; j++) {\n",
       "\t\tvar g = svg.append(\"g\").attr(\"class\",\"journal\");\n",
       "\n",
       "\t\tvar circles = g.selectAll(\"circle\")\n",
       "\t\t\t.data(data[j]['articles'])\n",
       "\t\t\t.enter()\n",
       "\t\t\t.append(\"circle\");\n",
       "\n",
       "\t\tvar text = g.selectAll(\"text\")\n",
       "\t\t\t.data(data[j]['articles'])\n",
       "\t\t\t.enter()\n",
       "\t\t\t.append(\"text\");\n",
       "\n",
       "\t\tvar rScale = d3.scale.linear()\n",
       "\t\t\t.domain([0, d3.max(data[j]['articles'], function(d) { return d[1]; })])\n",
       "\t\t\t.range([2, 9]);\n",
       "\n",
       "\t\tcircles\n",
       "\t\t\t.attr(\"cx\", function(d, i) { return xScale(d[0]); })\n",
       "\t\t\t.attr(\"cy\", j*20+20)\n",
       "\t\t\t.attr(\"r\", function(d) { return rScale(d[1]); })\n",
       "\t\t\t.style(\"fill\", function(d) { return c(j); });\n",
       "\n",
       "\t\ttext\n",
       "\t\t\t.attr(\"y\", j*20+25)\n",
       "\t\t\t.attr(\"x\",function(d, i) { return xScale(d[0])-5; })\n",
       "\t\t\t.attr(\"class\",\"value\")\n",
       "\t\t\t.text(function(d){ return d[1]; })\n",
       "\t\t\t.style(\"fill\", function(d) { return c(j); })\n",
       "\t\t\t.style(\"display\",\"none\");\n",
       "\n",
       "\t\tg.append(\"text\")\n",
       "\t\t\t.attr(\"y\", j*20+25)\n",
       "\t\t\t.attr(\"x\",width+20)\n",
       "\t\t\t.attr(\"class\",\"label\")\n",
       "\t\t\t.text(truncate(data[j]['name'],30,\"...\"))\n",
       "\t\t\t.style(\"fill\", function(d) { return c(j); })\n",
       "\t\t\t.on(\"mouseover\", mouseover)\n",
       "\t\t\t.on(\"mouseout\", mouseout);\n",
       "\t};\n",
       "\n",
       "\tfunction mouseover(p) {\n",
       "\t\tvar g = d3.select(this).node().parentNode;\n",
       "\t\td3.select(g).selectAll(\"circle\").style(\"display\",\"none\");\n",
       "\t\td3.select(g).selectAll(\"text.value\").style(\"display\",\"block\");\n",
       "\t}\n",
       "\n",
       "\tfunction mouseout(p) {\n",
       "\t\tvar g = d3.select(this).node().parentNode;\n",
       "\t\td3.select(g).selectAll(\"circle\").style(\"display\",\"block\");\n",
       "\t\td3.select(g).selectAll(\"text.value\").style(\"display\",\"none\");\n",
       "\t}\n",
       "});\n",
       "\n",
       "</script>\n",
       "\n",
       "</body>\n",
       "</html>\n",
       " "
      ],
      "text/plain": [
       "<IPython.core.display.HTML object>"
      ]
     },
     "metadata": {},
     "output_type": "display_data"
    }
   ],
   "source": [
    "display(HTML(\"\"\" \n",
    "<html>\n",
    "<head>\n",
    "<script src=\"jquery.min.js\"></script>\n",
    "<script src=\"scripts.js\"></script>\n",
    "<style type=\"text/css\">\n",
    "body{font-family: Arial, sans-serif;font-size:10px;}\n",
    ".axis path,.axis line {fill: none;stroke:#b6b6b6;shape-rendering: crispEdges;}\n",
    "/*.tick line{fill:none;stroke:none;}*/\n",
    ".tick text{fill:#999;}\n",
    "g.journal.active{cursor:pointer;}\n",
    "text.label{font-size:12px;font-weight:bold;cursor:pointer;}\n",
    "text.value{font-size:12px;font-weight:bold;}\n",
    "</style>\n",
    "</head>\n",
    "<body>\n",
    "\n",
    "<script type=\"text/javascript\">\n",
    "function truncate(str, maxLength, suffix) {\n",
    "\tif(str.length > maxLength) {\n",
    "\t\tstr = str.substring(0, maxLength + 1); \n",
    "\t\tstr = str.substring(0, Math.min(str.length, str.lastIndexOf(\" \")));\n",
    "\t\tstr = str + suffix;\n",
    "\t}\n",
    "\treturn str;\n",
    "}\n",
    "\n",
    "var margin = {top: 20, right: 200, bottom: 0, left: 20},\n",
    "\twidth = 300,\n",
    "\theight = 650;\n",
    "\n",
    "var start_year = %d,\n",
    "\tend_year = %d;\n",
    "\n",
    "var c = d3.scale.category20c();\n",
    "\n",
    "var x = d3.scale.linear()\n",
    "\t.range([0, width]);\n",
    "\n",
    "var xAxis = d3.svg.axis()\n",
    "\t.scale(x)\n",
    "\t.orient(\"top\");\n",
    "\n",
    "var formatYears = d3.format(\"0000\");\n",
    "xAxis.tickFormat(formatYears);\n",
    "\n",
    "var svg = d3.select(\"body\").append(\"svg\")\n",
    "\t.attr(\"width\", width + margin.left + margin.right)\n",
    "\t.attr(\"height\", height + margin.top + margin.bottom)\n",
    "\t.style(\"margin-left\", margin.left + \"px\")\n",
    "\t.append(\"g\")\n",
    "\t.attr(\"transform\", \"translate(\" + margin.left + \",\" + margin.top + \")\");\n",
    "\n",
    "// var dataset = [[ [2002, 8], [2003, 1], [2004, 1], [2005, 1], [2006, 3], [2007, 3], [2009, 3], [2013, 3]], [ [2004, 5], [2005, 1], [2006, 2], [2010, 20], [2011, 3] ] ,[ [2001, 5], [2005, 15], [2006, 2], [2010, 20], [2012, 25] ]];\n",
    "// var dataset = [ [2001, 5], [2005, 15], [2006, 2], [2010, 20], [2012, 25] ];\n",
    "\n",
    "d3.json(\"targets_literature_articles_visualization2.json\", function(data) {\n",
    "\tx.domain([start_year, end_year]);\n",
    "\tvar xScale = d3.scale.linear()\n",
    "\t\t.domain([start_year, end_year])\n",
    "\t\t.range([0, width]);\n",
    "\n",
    "\tsvg.append(\"g\")\n",
    "\t\t.attr(\"class\", \"x axis\")\n",
    "\t\t.attr(\"transform\", \"translate(0,\" + 0 + \")\")\n",
    "\t\t.call(xAxis);\n",
    "\n",
    "\tfor (var j = 0; j < data.length; j++) {\n",
    "\t\tvar g = svg.append(\"g\").attr(\"class\",\"journal\");\n",
    "\n",
    "\t\tvar circles = g.selectAll(\"circle\")\n",
    "\t\t\t.data(data[j]['articles'])\n",
    "\t\t\t.enter()\n",
    "\t\t\t.append(\"circle\");\n",
    "\n",
    "\t\tvar text = g.selectAll(\"text\")\n",
    "\t\t\t.data(data[j]['articles'])\n",
    "\t\t\t.enter()\n",
    "\t\t\t.append(\"text\");\n",
    "\n",
    "\t\tvar rScale = d3.scale.linear()\n",
    "\t\t\t.domain([0, d3.max(data[j]['articles'], function(d) { return d[1]; })])\n",
    "\t\t\t.range([2, 9]);\n",
    "\n",
    "\t\tcircles\n",
    "\t\t\t.attr(\"cx\", function(d, i) { return xScale(d[0]); })\n",
    "\t\t\t.attr(\"cy\", j*20+20)\n",
    "\t\t\t.attr(\"r\", function(d) { return rScale(d[1]); })\n",
    "\t\t\t.style(\"fill\", function(d) { return c(j); });\n",
    "\n",
    "\t\ttext\n",
    "\t\t\t.attr(\"y\", j*20+25)\n",
    "\t\t\t.attr(\"x\",function(d, i) { return xScale(d[0])-5; })\n",
    "\t\t\t.attr(\"class\",\"value\")\n",
    "\t\t\t.text(function(d){ return d[1]; })\n",
    "\t\t\t.style(\"fill\", function(d) { return c(j); })\n",
    "\t\t\t.style(\"display\",\"none\");\n",
    "\n",
    "\t\tg.append(\"text\")\n",
    "\t\t\t.attr(\"y\", j*20+25)\n",
    "\t\t\t.attr(\"x\",width+20)\n",
    "\t\t\t.attr(\"class\",\"label\")\n",
    "\t\t\t.text(truncate(data[j]['name'],30,\"...\"))\n",
    "\t\t\t.style(\"fill\", function(d) { return c(j); })\n",
    "\t\t\t.on(\"mouseover\", mouseover)\n",
    "\t\t\t.on(\"mouseout\", mouseout);\n",
    "\t};\n",
    "\n",
    "\tfunction mouseover(p) {\n",
    "\t\tvar g = d3.select(this).node().parentNode;\n",
    "\t\td3.select(g).selectAll(\"circle\").style(\"display\",\"none\");\n",
    "\t\td3.select(g).selectAll(\"text.value\").style(\"display\",\"block\");\n",
    "\t}\n",
    "\n",
    "\tfunction mouseout(p) {\n",
    "\t\tvar g = d3.select(this).node().parentNode;\n",
    "\t\td3.select(g).selectAll(\"circle\").style(\"display\",\"block\");\n",
    "\t\td3.select(g).selectAll(\"text.value\").style(\"display\",\"none\");\n",
    "\t}\n",
    "});\n",
    "\n",
    "</script>\n",
    "\n",
    "</body>\n",
    "</html>\n",
    " \"\"\" %(startYear-2, endYear+2)))"
   ]
  },
  {
   "cell_type": "code",
   "execution_count": null,
   "metadata": {
    "collapsed": true
   },
   "outputs": [],
   "source": []
  }
 ],
 "metadata": {
  "anaconda-cloud": {},
  "kernelspec": {
   "display_name": "Python [Root]",
   "language": "python",
   "name": "Python [Root]"
  },
  "language_info": {
   "codemirror_mode": {
    "name": "ipython",
    "version": 2
   },
   "file_extension": ".py",
   "mimetype": "text/x-python",
   "name": "python",
   "nbconvert_exporter": "python",
   "pygments_lexer": "ipython2",
   "version": "2.7.12"
  }
 },
 "nbformat": 4,
 "nbformat_minor": 0
}
