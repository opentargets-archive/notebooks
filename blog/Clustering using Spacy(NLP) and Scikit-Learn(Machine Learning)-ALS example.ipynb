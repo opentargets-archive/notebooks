{
 "cells": [
  {
   "cell_type": "code",
   "execution_count": 2,
   "metadata": {
    "collapsed": false
   },
   "outputs": [],
   "source": [
    "from __future__ import print_function\n",
    "\n",
    "import logging\n",
    "from optparse import OptionParser\n",
    "import sys\n",
    "from time import time\n",
    "\n",
    "import requests, json\n",
    "from sklearn.cluster import KMeans, MiniBatchKMeans\n",
    "from sklearn.decomposition import TruncatedSVD\n",
    "from sklearn.feature_extraction.text import HashingVectorizer\n",
    "from sklearn.feature_extraction.text import TfidfTransformer\n",
    "from sklearn.feature_extraction.text import TfidfVectorizer\n",
    "from sklearn.pipeline import make_pipeline\n",
    "from sklearn.preprocessing import Normalizer\n",
    "\n",
    "from IPython.core.display import display, HTML"
   ]
  },
  {
   "cell_type": "markdown",
   "metadata": {},
   "source": [
    "### Retrieve Remote Abstracts using EuropePMC Rest Services\n",
    "*(This is a one-time activity and can be commented after abstracts are stored in local DB)*\n",
    "\n",
    "* Disease Name - ALS (Amyotrophic Lateral Sclerosis)\n",
    "* Result Type - Core (to get metadata information containing abstracts,title,etc)\n",
    "* Result Format - JSON\n",
    "\n",
    "Store the abstracts using **sqlite3** (lightweight disk-based database).\n"
   ]
  },
  {
   "cell_type": "code",
   "execution_count": 4,
   "metadata": {
    "collapsed": false
   },
   "outputs": [
    {
     "name": "stdout",
     "output_type": "stream",
     "text": [
      "http://www.ebi.ac.uk/europepmc/webservices/rest/search?query=als&format=json&resulttype=core&pageSize=500&page=1\n",
      "CPU times: user 121 ms, sys: 35.7 ms, total: 157 ms\n",
      "Wall time: 7.73 s\n"
     ]
    }
   ],
   "source": [
    "%%time\n",
    "import sqlite3\n",
    "conn = sqlite3.connect('abstract.db')\n",
    "c = conn.cursor()\n",
    "disease_name = \"als\"\n",
    "temp_abstract_list = list()\n",
    "# # Uncomment below to Create table\n",
    "#c.execute('''CREATE TABLE abstract_data\n",
    "#            (abstract text, disease text, title text, pmid text)''')\n",
    "\n",
    "for x in range(1, 2):\n",
    "   \n",
    "    europePMC_url = \"http://www.ebi.ac.uk/europepmc/webservices/rest/search?query={}&format=json&resulttype=core&pageSize=500&page={}\".format(disease_name,x)\n",
    "    print(europePMC_url)\n",
    "    r = requests.get(europePMC_url)\n",
    "    data = json.loads(r.content)\n",
    "    for result in data['resultList']['result']:\n",
    "    \n",
    "        abstract = result.get('abstractText',None)\n",
    "        title = result.get('title',None)\n",
    "        pmid = result.get('pmid',None)\n",
    "    \n",
    "        if abstract is not None:\n",
    "            temp_abstract_list.append(abstract)\n",
    "            \n",
    "            #c.execute(\"INSERT INTO abstract_data VALUES (?,?,?,?)\",(abstract,disease_name,title,pmid))  \n",
    "    #conn.commit()\n"
   ]
  },
  {
   "cell_type": "markdown",
   "metadata": {},
   "source": [
    "Retrieve abstracts from local DB"
   ]
  },
  {
   "cell_type": "code",
   "execution_count": 5,
   "metadata": {
    "collapsed": false
   },
   "outputs": [
    {
     "name": "stdout",
     "output_type": "stream",
     "text": [
      "16816 abstracts from local db\n"
     ]
    }
   ],
   "source": [
    "disease_name = (\"als\",)\n",
    "\n",
    "c.execute(\"SELECT abstract FROM abstract_data WHERE disease= ?\", disease_name)\n",
    "abstract_list = c.fetchall()\n",
    "# db returns a list of tuples, convert to list of strings as shown below\n",
    "abstract_list = [i for (i,) in abstract_list]\n",
    "print(\"%d abstracts from local db\" % len(abstract_list))\n"
   ]
  },
  {
   "cell_type": "markdown",
   "metadata": {},
   "source": [
    "Preprocess/Clean the abstract data using **spaCy NLP**\n",
    "1. Tokenize the abstract data\n",
    "2. Lemmatize the tokens\n",
    "3. Clean the tokens by applying stoplists\n",
    "4. *Deal with **target/disease synonymns** here???*"
   ]
  },
  {
   "cell_type": "code",
   "execution_count": 6,
   "metadata": {
    "collapsed": false
   },
   "outputs": [],
   "source": [
    "from sklearn.feature_extraction.stop_words import ENGLISH_STOP_WORDS\n",
    "from spacy import en\n",
    "import string\n",
    "from spacy.en import English"
   ]
  },
  {
   "cell_type": "code",
   "execution_count": 7,
   "metadata": {
    "collapsed": false
   },
   "outputs": [],
   "source": [
    "parser = English()\n",
    "\n",
    "# A custom stoplist\n",
    "STOPLIST = set()\n",
    "STOPLIST.update(en.STOPWORDS)\n",
    "STOPLIST.update([\"n't\", \"'s\", \"'m\", \"ca\",\"p\", \"t\"])\n",
    "STOPLIST.update(list(ENGLISH_STOP_WORDS))\n",
    "# List of symbols we don't care about\n",
    "SYMBOLS = \" \".join(string.punctuation).split(\" \") + [\"-----\", \"---\", \"...\",  \"'ve\"] \n",
    "def tokenize_text(sample):\n",
    "\n",
    "        # get the tokens using spaCy\n",
    "        tokens = parser(sample)\n",
    "\n",
    "        # lemmatize\n",
    "        lemmas = []\n",
    "        for tok in tokens:\n",
    "            lemmas.append(tok.lemma_.lower().strip() if tok.lemma_ != \"-PRON-\" else tok.lower_)\n",
    "            tokens = lemmas\n",
    "\n",
    "        # stoplist the tokens\n",
    "        tokens = [tok for tok in tokens if tok not in STOPLIST]\n",
    "\n",
    "        # stoplist symbols\n",
    "        tokens = [tok for tok in tokens if tok not in SYMBOLS]\n",
    "\n",
    "        # remove large strings of whitespace\n",
    "        while \"\" in tokens:\n",
    "            tokens.remove(\"\")\n",
    "        while \" \" in tokens:\n",
    "            tokens.remove(\" \")\n",
    "        while \"\\n\" in tokens:\n",
    "            tokens.remove(\"\\n\")\n",
    "        while \"\\n\\n\" in tokens:\n",
    "            tokens.remove(\"\\n\\n\")\n",
    "        #print tokens\n",
    "        return tokens"
   ]
  },
  {
   "cell_type": "markdown",
   "metadata": {
    "collapsed": true
   },
   "source": [
    "Convert above training corpus to *sparse vectors* using a **TF-IDF** sparse vectorizer and extract relevant features\n",
    "\n",
    " Normalizing and weighting with diminishing importance tokens that occur in the majority of samples / documents.\n",
    "1. No. of features = 100000\n",
    "2. Remove Ascii Characters from Training Corpus "
   ]
  },
  {
   "cell_type": "code",
   "execution_count": 8,
   "metadata": {
    "collapsed": false,
    "scrolled": true
   },
   "outputs": [
    {
     "name": "stdout",
     "output_type": "stream",
     "text": [
      "n_samples: 16816, n_features: 24598\n",
      "CPU times: user 4min 25s, sys: 1.26 s, total: 4min 26s\n",
      "Wall time: 4min 27s\n"
     ]
    }
   ],
   "source": [
    "%%time\n",
    "\n",
    "vectorizer = TfidfVectorizer(max_df=0.5, max_features=800000,\n",
    "                                 min_df=2,tokenizer=tokenize_text, stop_words='english',\n",
    "                                 use_idf=True,strip_accents =  'ascii')\n",
    "X = vectorizer.fit_transform(abstract_list)\n",
    "\n",
    "print(\"n_samples: %d, n_features: %d\" % X.shape)"
   ]
  },
  {
   "cell_type": "markdown",
   "metadata": {
    "collapsed": true
   },
   "source": [
    "Do the Actual **Clustering** using **Scikit-Learn, KMeans Algo**"
   ]
  },
  {
   "cell_type": "code",
   "execution_count": 9,
   "metadata": {
    "collapsed": false
   },
   "outputs": [
    {
     "name": "stdout",
     "output_type": "stream",
     "text": [
      "Clustering sparse data with KMeans(copy_x=True, init='k-means++', max_iter=100, n_clusters=5, n_init=1,\n",
      "    n_jobs=1, precompute_distances='auto', random_state=None, tol=0.0001,\n",
      "    verbose=False)\n",
      "\n",
      "CPU times: user 961 ms, sys: 25.9 ms, total: 987 ms\n",
      "Wall time: 421 ms\n"
     ]
    }
   ],
   "source": [
    "%%time\n",
    "\n",
    "km = KMeans(n_clusters=5, init='k-means++', max_iter=100, n_init=1,\n",
    "                verbose=False)\n",
    "print(\"Clustering sparse data with %s\" % km)\n",
    "km.fit(X)\n",
    "print()"
   ]
  },
  {
   "cell_type": "markdown",
   "metadata": {},
   "source": [
    "~~Persist the training model using joblib.dump 'pickling'~~"
   ]
  },
  {
   "cell_type": "code",
   "execution_count": 10,
   "metadata": {
    "collapsed": false
   },
   "outputs": [],
   "source": [
    "#from sklearn.externals import joblib\n",
    "# save the model\n",
    "#joblib.dump(km,  'diabetes_doc_cluster.pkl')\n",
    "\n",
    "# loading from the pickle\n",
    "#km = joblib.load('diabetes_doc_cluster.pkl')"
   ]
  },
  {
   "cell_type": "markdown",
   "metadata": {
    "collapsed": true
   },
   "source": [
    "Print the top terms per cluster and display in foamtree format"
   ]
  },
  {
   "cell_type": "code",
   "execution_count": 13,
   "metadata": {
    "collapsed": false
   },
   "outputs": [
    {
     "name": "stdout",
     "output_type": "stream",
     "text": [
      "Cluster 0:Label al: al, patient, cell, motor, protein, neuron, study, mouse, sod1, mutation,\n",
      "Cluster 1:Label cancer: cancer, smr, survivor, mortality, al, death, melanoma, ci, parkinson, expect,\n",
      "Cluster 2:Label nippv: nippv, ventilation, pressure, patient, respiratory, al, fvc, peg, survival, use,\n",
      "Cluster 3:Label uric: uric, acid, level, serum, mg/dl, al, survival, alsfrs, r, adjust,\n",
      "Cluster 4:Label hdac4: hdac4, histone, hdacs, acetylation, deacetylation, transcriptional, class, chromatin, nucleosomal, mediate,\n"
     ]
    }
   ],
   "source": [
    "order_centroids = km.cluster_centers_.argsort()[:, ::-1]\n",
    "terms = vectorizer.get_feature_names()\n",
    "\n",
    "cluster_data_JSON = []\n",
    "for i in range(5):\n",
    "    j=0\n",
    "    print(\"Cluster %d:\" % i, end='')\n",
    "    cluster_dict = {}\n",
    "    cluster_dict[\"label\"] = str(km.labels_[i])\n",
    "    groups_list = []\n",
    "    for ind in order_centroids[i, :10]:\n",
    "        if j==0:\n",
    "            print(\"Label %s:\" % terms[ind],end='')\n",
    "            cluster_dict[\"label\"] = terms[ind]\n",
    "        j = j+1\n",
    "        print(' %s' % terms[ind], end=',')\n",
    "        group_dict = {}\n",
    "        group_dict[\"label\"] = str(terms[ind])\n",
    "        groups_list.append(group_dict)\n",
    "    cluster_dict[\"groups\"] = groups_list  \n",
    "    cluster_data_JSON.append(cluster_dict)\n",
    "    print()"
   ]
  },
  {
   "cell_type": "code",
   "execution_count": 14,
   "metadata": {
    "collapsed": false,
    "scrolled": false
   },
   "outputs": [
    {
     "data": {
      "text/html": [
       "\n",
       "<!DOCTYPE html>\n",
       "<html>\n",
       "  <head>\n",
       "    <title>FoamTree Quick Start</title>\n",
       "    <meta charset=\"utf-8\" />\n",
       "  </head>\n",
       "\n",
       "  <body>\n",
       "    <div id=\"visualization_kmeans\" style=\"width: 950px; height: 600px\"></div>\n",
       "\n",
       "    <script src=\"carrotsearch.foamtree.js\"></script>\n",
       "    <script>\n",
       "      function init() {\n",
       "        var foamtree = new CarrotSearchFoamTree({\n",
       "          id: \"visualization_kmeans\",\n",
       "          dataObject: {\n",
       "            groups:[{\"groups\": [{\"label\": \"al\"}, {\"label\": \"patient\"}, {\"label\": \"cell\"}, {\"label\": \"motor\"}, {\"label\": \"protein\"}, {\"label\": \"neuron\"}, {\"label\": \"study\"}, {\"label\": \"mouse\"}, {\"label\": \"sod1\"}, {\"label\": \"mutation\"}], \"label\": \"al\"}, {\"groups\": [{\"label\": \"cancer\"}, {\"label\": \"smr\"}, {\"label\": \"survivor\"}, {\"label\": \"mortality\"}, {\"label\": \"al\"}, {\"label\": \"death\"}, {\"label\": \"melanoma\"}, {\"label\": \"ci\"}, {\"label\": \"parkinson\"}, {\"label\": \"expect\"}], \"label\": \"cancer\"}, {\"groups\": [{\"label\": \"nippv\"}, {\"label\": \"ventilation\"}, {\"label\": \"pressure\"}, {\"label\": \"patient\"}, {\"label\": \"respiratory\"}, {\"label\": \"al\"}, {\"label\": \"fvc\"}, {\"label\": \"peg\"}, {\"label\": \"survival\"}, {\"label\": \"use\"}], \"label\": \"nippv\"}, {\"groups\": [{\"label\": \"uric\"}, {\"label\": \"acid\"}, {\"label\": \"level\"}, {\"label\": \"serum\"}, {\"label\": \"mg/dl\"}, {\"label\": \"al\"}, {\"label\": \"survival\"}, {\"label\": \"alsfrs\"}, {\"label\": \"r\"}, {\"label\": \"adjust\"}], \"label\": \"uric\"}, {\"groups\": [{\"label\": \"hdac4\"}, {\"label\": \"histone\"}, {\"label\": \"hdacs\"}, {\"label\": \"acetylation\"}, {\"label\": \"deacetylation\"}, {\"label\": \"transcriptional\"}, {\"label\": \"class\"}, {\"label\": \"chromatin\"}, {\"label\": \"nucleosomal\"}, {\"label\": \"mediate\"}], \"label\": \"hdac4\"}]\n",
       "          }\n",
       "        });\n",
       "      }\n",
       "        \n",
       "    init();\n",
       "    </script>\n",
       "  </body>\n",
       " "
      ],
      "text/plain": [
       "<IPython.core.display.HTML object>"
      ]
     },
     "metadata": {},
     "output_type": "display_data"
    }
   ],
   "source": [
    "display(HTML(\"\"\"\n",
    "<!DOCTYPE html>\n",
    "<html>\n",
    "  <head>\n",
    "    <title>FoamTree Quick Start</title>\n",
    "    <meta charset=\"utf-8\" />\n",
    "  </head>\n",
    "\n",
    "  <body>\n",
    "    <div id=\"visualization_kmeans\" style=\"width: 950px; height: 600px\"></div>\n",
    "\n",
    "    <script src=\"carrotsearch.foamtree.js\"></script>\n",
    "    <script>\n",
    "      function init() {\n",
    "        var foamtree = new CarrotSearchFoamTree({\n",
    "          id: \"visualization_kmeans\",\n",
    "          dataObject: {\n",
    "            groups:\"\"\"\n",
    "             + \n",
    "             json.dumps(cluster_data_JSON)\n",
    "             +\n",
    "             \"\"\"\n",
    "          }\n",
    "        });\n",
    "      }\n",
    "        \n",
    "    init();\n",
    "    </script>\n",
    "  </body>\n",
    " \"\"\"))\n"
   ]
  },
  {
   "cell_type": "markdown",
   "metadata": {},
   "source": [
    "Clustering using **Mini Batch KMeans**"
   ]
  },
  {
   "cell_type": "code",
   "execution_count": 15,
   "metadata": {
    "collapsed": false,
    "scrolled": false
   },
   "outputs": [
    {
     "name": "stdout",
     "output_type": "stream",
     "text": [
      "Clustering sparse data with MiniBatchKMeans(batch_size=10000, compute_labels=True, init='k-means++',\n",
      "        init_size=1000, max_iter=100, max_no_improvement=10, n_clusters=5,\n",
      "        n_init=1, random_state=None, reassignment_ratio=0.01, tol=0.0,\n",
      "        verbose=False)\n",
      "\n",
      "CPU times: user 545 ms, sys: 49.7 ms, total: 595 ms\n",
      "Wall time: 595 ms\n"
     ]
    }
   ],
   "source": [
    "%%time\n",
    "import warnings\n",
    "km = MiniBatchKMeans(n_clusters=5, init='k-means++', n_init=1,\n",
    "                         init_size=1000, batch_size=10000, verbose=False)\n",
    "print(\"Clustering sparse data with %s\" % km)\n",
    "with warnings.catch_warnings():\n",
    "    warnings.simplefilter(\"ignore\")\n",
    "    km.fit(X)\n",
    "print()"
   ]
  },
  {
   "cell_type": "markdown",
   "metadata": {},
   "source": [
    "**FoamTree Display** of clusters"
   ]
  },
  {
   "cell_type": "code",
   "execution_count": 16,
   "metadata": {
    "collapsed": false
   },
   "outputs": [
    {
     "name": "stdout",
     "output_type": "stream",
     "text": [
      "Cluster 0:Label tdp-43: tdp-43, fus, protein, al, inclusion, ftld, rna, bind, mutation, frontotemporal,\n",
      "Cluster 1:Label patient: patient, al, study, motor, clinical, control, use, muscle, group, diagnosis,\n",
      "Cluster 2:Label gene: gene, al, patient, repeat, study, mutation, protein, use, c9orf72, case,\n",
      "Cluster 3:Label cell: cell, protein, neurodegenerative, stem, brain, disorder, neuronal, neuron, role, mechanism,\n",
      "Cluster 4:Label sod1: sod1, al, mouse, motor, neuron, mutation, mutant, spinal, gene, protein,\n"
     ]
    }
   ],
   "source": [
    "order_centroids = km.cluster_centers_.argsort()[:, ::-1]\n",
    "terms = vectorizer.get_feature_names()\n",
    "\n",
    "cluster_data_JSON = []\n",
    "for i in range(5):\n",
    "    j=0\n",
    "    print(\"Cluster %d:\" % i, end='')\n",
    "    cluster_dict = {}\n",
    "    cluster_dict[\"label\"] = str(km.labels_[i])\n",
    "    groups_list = []\n",
    "    for ind in order_centroids[i, :10]:\n",
    "        if j==0:\n",
    "            print(\"Label %s:\" % terms[ind],end='')\n",
    "            cluster_dict[\"label\"] = terms[ind]\n",
    "        j = j+1\n",
    "        print(' %s' % terms[ind], end=',')\n",
    "        group_dict = {}\n",
    "        group_dict[\"label\"] = str(terms[ind])\n",
    "        groups_list.append(group_dict)\n",
    "    cluster_dict[\"groups\"] = groups_list  \n",
    "    cluster_data_JSON.append(cluster_dict)\n",
    "    print()"
   ]
  },
  {
   "cell_type": "markdown",
   "metadata": {},
   "source": [
    "Javascript code for displaying cluster data(Mini-Batch KMeans ) in foamtree format. "
   ]
  },
  {
   "cell_type": "code",
   "execution_count": 18,
   "metadata": {
    "collapsed": false,
    "scrolled": false
   },
   "outputs": [
    {
     "data": {
      "text/html": [
       "\n",
       "<!DOCTYPE html>\n",
       "<html>\n",
       "  <head>\n",
       "    <title>FoamTree Quick Start</title>\n",
       "    <meta charset=\"utf-8\" />\n",
       "  </head>\n",
       "\n",
       "  <body>\n",
       "    <div id=\"visualization\" style=\"width: 950px; height: 600px\"></div>\n",
       "\n",
       "    <script src=\"carrotsearch.foamtree.js\"></script>\n",
       "    <script>\n",
       "      function init() {\n",
       "        var foamtree = new CarrotSearchFoamTree({\n",
       "          id: \"visualization\",\n",
       "          dataObject: {\n",
       "            groups:[{\"groups\": [{\"label\": \"tdp-43\"}, {\"label\": \"fus\"}, {\"label\": \"protein\"}, {\"label\": \"al\"}, {\"label\": \"inclusion\"}, {\"label\": \"ftld\"}, {\"label\": \"rna\"}, {\"label\": \"bind\"}, {\"label\": \"mutation\"}, {\"label\": \"frontotemporal\"}], \"label\": \"tdp-43\"}, {\"groups\": [{\"label\": \"patient\"}, {\"label\": \"al\"}, {\"label\": \"study\"}, {\"label\": \"motor\"}, {\"label\": \"clinical\"}, {\"label\": \"control\"}, {\"label\": \"use\"}, {\"label\": \"muscle\"}, {\"label\": \"group\"}, {\"label\": \"diagnosis\"}], \"label\": \"patient\"}, {\"groups\": [{\"label\": \"gene\"}, {\"label\": \"al\"}, {\"label\": \"patient\"}, {\"label\": \"repeat\"}, {\"label\": \"study\"}, {\"label\": \"mutation\"}, {\"label\": \"protein\"}, {\"label\": \"use\"}, {\"label\": \"c9orf72\"}, {\"label\": \"case\"}], \"label\": \"gene\"}, {\"groups\": [{\"label\": \"cell\"}, {\"label\": \"protein\"}, {\"label\": \"neurodegenerative\"}, {\"label\": \"stem\"}, {\"label\": \"brain\"}, {\"label\": \"disorder\"}, {\"label\": \"neuronal\"}, {\"label\": \"neuron\"}, {\"label\": \"role\"}, {\"label\": \"mechanism\"}], \"label\": \"cell\"}, {\"groups\": [{\"label\": \"sod1\"}, {\"label\": \"al\"}, {\"label\": \"mouse\"}, {\"label\": \"motor\"}, {\"label\": \"neuron\"}, {\"label\": \"mutation\"}, {\"label\": \"mutant\"}, {\"label\": \"spinal\"}, {\"label\": \"gene\"}, {\"label\": \"protein\"}], \"label\": \"sod1\"}]\n",
       "          }\n",
       "        });\n",
       "      }\n",
       "        \n",
       "    init();\n",
       "    </script>\n",
       "  </body>\n",
       " "
      ],
      "text/plain": [
       "<IPython.core.display.HTML object>"
      ]
     },
     "metadata": {},
     "output_type": "display_data"
    }
   ],
   "source": [
    "display(HTML(\"\"\"\n",
    "<!DOCTYPE html>\n",
    "<html>\n",
    "  <head>\n",
    "    <title>FoamTree Quick Start</title>\n",
    "    <meta charset=\"utf-8\" />\n",
    "  </head>\n",
    "\n",
    "  <body>\n",
    "    <div id=\"visualization\" style=\"width: 950px; height: 600px\"></div>\n",
    "\n",
    "    <script src=\"carrotsearch.foamtree.js\"></script>\n",
    "    <script>\n",
    "      function init() {\n",
    "        var foamtree = new CarrotSearchFoamTree({\n",
    "          id: \"visualization\",\n",
    "          dataObject: {\n",
    "            groups:\"\"\"\n",
    "             + \n",
    "             json.dumps(cluster_data_JSON)\n",
    "             +\n",
    "             \"\"\"\n",
    "          }\n",
    "        });\n",
    "      }\n",
    "        \n",
    "    init();\n",
    "    </script>\n",
    "  </body>\n",
    " \"\"\"))\n"
   ]
  },
  {
   "cell_type": "markdown",
   "metadata": {},
   "source": [
    "### Bi-gram clustering\n",
    "\n",
    "In text classification, Unigrams are single words, **Bigrams are two related words (appear frequently next to each       other in text)**, and Trigram is just the next extension of that concept.Often considering Bigrams in a                 classification algorithm tends to really **boost performance**, since the increased long-tail specificity of the word     means that the classifier can easily determine which class has a higher probability, leading to better                 classifications. **Trigrams do not have offer the same boost as Bigrams**, but they are worth considering and could be     essential for certain types of classifiers. You could also go beyond Trigrams if you felt that the classification     problem requires it.The important thing to remember here is to apply the same logic for eliminating low quality       bigrams and trigrams as you would with unigrams."
   ]
  },
  {
   "cell_type": "code",
   "execution_count": 19,
   "metadata": {
    "collapsed": false,
    "scrolled": true
   },
   "outputs": [
    {
     "name": "stdout",
     "output_type": "stream",
     "text": [
      "n_samples: 16816, n_features: 215675\n",
      "Clustering sparse data with KMeans(copy_x=True, init='k-means++', max_iter=100, n_clusters=5, n_init=1,\n",
      "    n_jobs=1, precompute_distances='auto', random_state=None, tol=0.0001,\n",
      "    verbose=False)\n",
      "\n",
      "CPU times: user 4min 27s, sys: 1.1 s, total: 4min 28s\n",
      "Wall time: 4min 28s\n"
     ]
    }
   ],
   "source": [
    "%%time\n",
    "\n",
    "vectorizer = TfidfVectorizer(max_df=0.5, max_features=800000,\n",
    "                                 min_df=2,tokenizer=tokenize_text, stop_words='english',\n",
    "                                 use_idf=True,strip_accents =  'ascii',ngram_range=(1,2))\n",
    "X = vectorizer.fit_transform(abstract_list)\n",
    "\n",
    "print(\"n_samples: %d, n_features: %d\" % X.shape)\n",
    "km = KMeans(n_clusters=5, init='k-means++', max_iter=100, n_init=1,\n",
    "                verbose=False)\n",
    "print(\"Clustering sparse data with %s\" % km)\n",
    "km.fit(X)\n",
    "print()\n"
   ]
  },
  {
   "cell_type": "code",
   "execution_count": 20,
   "metadata": {
    "collapsed": false
   },
   "outputs": [
    {
     "name": "stdout",
     "output_type": "stream",
     "text": [
      "Cluster 0:Label sod1: sod1, oxidative, modification, homodimer, sod1 monomer, effect oxidative, monomer, cytotoxicity, oxidative stress, key,\n",
      "Cluster 1:Label global: global, phenotype, clinical phenotype, flail, progression, rate, survival, rat scale, rate progression, als/mnd,\n",
      "Cluster 2:Label al: al, gene, al gene, factor al, factor, susceptibility, dependent high, heterogeneous gene, neurodegeneration interaction, consider mutation,\n",
      "Cluster 3:Label al: al, patient, cell, motor, protein, neuron, study, mouse, motor neuron, sod1,\n",
      "Cluster 4:Label environmental factor: environmental factor, susceptible, roughly 20, case understand, exercise electrical, different influence, contribute 20, multiple include, 20 80, environmental,\n"
     ]
    }
   ],
   "source": [
    "order_centroids = km.cluster_centers_.argsort()[:, ::-1]\n",
    "terms = vectorizer.get_feature_names()\n",
    "\n",
    "bigram_cluster_data_JSON = []\n",
    "for i in range(5):\n",
    "    j=0\n",
    "    print(\"Cluster %d:\" % i, end='')\n",
    "    cluster_dict = {}\n",
    "    cluster_dict[\"label\"] = str(km.labels_[i])\n",
    "    groups_list = []\n",
    "    for ind in order_centroids[i, :10]:\n",
    "        if j==0:\n",
    "            print(\"Label %s:\" % terms[ind],end='')\n",
    "            cluster_dict[\"label\"] = terms[ind]\n",
    "        j = j+1\n",
    "        print(' %s' % terms[ind], end=',')\n",
    "        group_dict = {}\n",
    "        group_dict[\"label\"] = str(terms[ind])\n",
    "        groups_list.append(group_dict)\n",
    "    cluster_dict[\"groups\"] = groups_list  \n",
    "    bigram_cluster_data_JSON.append(cluster_dict)\n",
    "    print()"
   ]
  },
  {
   "cell_type": "code",
   "execution_count": 21,
   "metadata": {
    "collapsed": false,
    "scrolled": true
   },
   "outputs": [
    {
     "data": {
      "text/html": [
       "\n",
       "<!DOCTYPE html>\n",
       "<html>\n",
       "  \n",
       "\n",
       "  <body>\n",
       "    <div id=\"visualization1\" style=\"width: 950px; height: 600px\"></div>\n",
       "\n",
       "    <script src=\"carrotsearch.foamtree.js\"></script>\n",
       "    <script>\n",
       "      function init() {\n",
       "        var foamtree1 = new CarrotSearchFoamTree({\n",
       "          id: \"visualization1\",\n",
       "          dataObject: {\n",
       "            groups:[{\"groups\": [{\"label\": \"sod1\"}, {\"label\": \"oxidative\"}, {\"label\": \"modification\"}, {\"label\": \"homodimer\"}, {\"label\": \"sod1 monomer\"}, {\"label\": \"effect oxidative\"}, {\"label\": \"monomer\"}, {\"label\": \"cytotoxicity\"}, {\"label\": \"oxidative stress\"}, {\"label\": \"key\"}], \"label\": \"sod1\"}, {\"groups\": [{\"label\": \"global\"}, {\"label\": \"phenotype\"}, {\"label\": \"clinical phenotype\"}, {\"label\": \"flail\"}, {\"label\": \"progression\"}, {\"label\": \"rate\"}, {\"label\": \"survival\"}, {\"label\": \"rat scale\"}, {\"label\": \"rate progression\"}, {\"label\": \"als/mnd\"}], \"label\": \"global\"}, {\"groups\": [{\"label\": \"al\"}, {\"label\": \"gene\"}, {\"label\": \"al gene\"}, {\"label\": \"factor al\"}, {\"label\": \"factor\"}, {\"label\": \"susceptibility\"}, {\"label\": \"dependent high\"}, {\"label\": \"heterogeneous gene\"}, {\"label\": \"neurodegeneration interaction\"}, {\"label\": \"consider mutation\"}], \"label\": \"al\"}, {\"groups\": [{\"label\": \"al\"}, {\"label\": \"patient\"}, {\"label\": \"cell\"}, {\"label\": \"motor\"}, {\"label\": \"protein\"}, {\"label\": \"neuron\"}, {\"label\": \"study\"}, {\"label\": \"mouse\"}, {\"label\": \"motor neuron\"}, {\"label\": \"sod1\"}], \"label\": \"al\"}, {\"groups\": [{\"label\": \"environmental factor\"}, {\"label\": \"susceptible\"}, {\"label\": \"roughly 20\"}, {\"label\": \"case understand\"}, {\"label\": \"exercise electrical\"}, {\"label\": \"different influence\"}, {\"label\": \"contribute 20\"}, {\"label\": \"multiple include\"}, {\"label\": \"20 80\"}, {\"label\": \"environmental\"}], \"label\": \"environmental factor\"}]\n",
       "          }\n",
       "        });\n",
       "      }\n",
       "        \n",
       "    init();\n",
       "    </script>\n",
       "  </body>\n",
       " "
      ],
      "text/plain": [
       "<IPython.core.display.HTML object>"
      ]
     },
     "metadata": {},
     "output_type": "display_data"
    }
   ],
   "source": [
    "display(HTML(\"\"\"\n",
    "<!DOCTYPE html>\n",
    "<html>\n",
    "  \n",
    "\n",
    "  <body>\n",
    "    <div id=\"visualization1\" style=\"width: 950px; height: 600px\"></div>\n",
    "\n",
    "    <script src=\"carrotsearch.foamtree.js\"></script>\n",
    "    <script>\n",
    "      function init() {\n",
    "        var foamtree1 = new CarrotSearchFoamTree({\n",
    "          id: \"visualization1\",\n",
    "          dataObject: {\n",
    "            groups:\"\"\"\n",
    "             + \n",
    "             json.dumps(bigram_cluster_data_JSON)\n",
    "             +\n",
    "             \"\"\"\n",
    "          }\n",
    "        });\n",
    "      }\n",
    "        \n",
    "    init();\n",
    "    </script>\n",
    "  </body>\n",
    " \"\"\"))\n"
   ]
  },
  {
   "cell_type": "markdown",
   "metadata": {},
   "source": [
    "### Trigram Clustering example"
   ]
  },
  {
   "cell_type": "code",
   "execution_count": 22,
   "metadata": {
    "collapsed": false
   },
   "outputs": [
    {
     "name": "stdout",
     "output_type": "stream",
     "text": [
      "n_samples: 16816, n_features: 333536\n",
      "Clustering sparse data with KMeans(copy_x=True, init='k-means++', max_iter=100, n_clusters=5, n_init=1,\n",
      "    n_jobs=1, precompute_distances='auto', random_state=None, tol=0.0001,\n",
      "    verbose=False)\n",
      "\n",
      "CPU times: user 4min 45s, sys: 2 s, total: 4min 47s\n",
      "Wall time: 4min 41s\n"
     ]
    }
   ],
   "source": [
    "%%time\n",
    "\n",
    "vectorizer = TfidfVectorizer(max_df=0.5, max_features=800000,\n",
    "                                 min_df=2,tokenizer=tokenize_text, stop_words='english',\n",
    "                                 use_idf=True,strip_accents =  'ascii',ngram_range=(1,3))\n",
    "X = vectorizer.fit_transform(abstract_list)\n",
    "\n",
    "print(\"n_samples: %d, n_features: %d\" % X.shape)\n",
    "km = KMeans(n_clusters=5, init='k-means++', max_iter=100, n_init=1,\n",
    "                verbose=False)\n",
    "print(\"Clustering sparse data with %s\" % km)\n",
    "km.fit(X)\n",
    "print()\n",
    "\n"
   ]
  },
  {
   "cell_type": "code",
   "execution_count": 24,
   "metadata": {
    "collapsed": false
   },
   "outputs": [
    {
     "name": "stdout",
     "output_type": "stream",
     "text": [
      "Cluster 0:Label sod1: sod1, mutant, mutation, mutant sod1, al, fals, protein, superoxide, dismutase, superoxide dismutase,\n",
      "Cluster 1:Label tdp-43: tdp-43, fus, c9orf72, al, repeat, mutation, ftld, protein, expansion, inclusion,\n",
      "Cluster 2:Label motor: motor, al, neuron, mouse, motor neuron, spinal, cord, spinal cord, cell, model,\n",
      "Cluster 3:Label patient: patient, al, study, al patient, control, use, clinical, group, motor, muscle,\n",
      "Cluster 4:Label cell: cell, protein, neurodegenerative, brain, disorder, gene, study, use, role, human,\n"
     ]
    }
   ],
   "source": [
    "order_centroids = km.cluster_centers_.argsort()[:, ::-1]\n",
    "terms = vectorizer.get_feature_names()\n",
    "\n",
    "trigram_cluster_data_JSON = []\n",
    "for i in range(5):\n",
    "    j=0\n",
    "    print(\"Cluster %d:\" % i, end='')\n",
    "    cluster_dict = {}\n",
    "    cluster_dict[\"label\"] = str(km.labels_[i])\n",
    "    groups_list = []\n",
    "    for ind in order_centroids[i, :10]:\n",
    "        if j==0:\n",
    "            print(\"Label %s:\" % terms[ind],end='')\n",
    "            cluster_dict[\"label\"] = terms[ind]\n",
    "        j = j+1\n",
    "        print(' %s' % terms[ind], end=',')\n",
    "        group_dict = {}\n",
    "        group_dict[\"label\"] = str(terms[ind])\n",
    "        groups_list.append(group_dict)\n",
    "    cluster_dict[\"groups\"] = groups_list  \n",
    "    trigram_cluster_data_JSON.append(cluster_dict)\n",
    "    print()\n"
   ]
  },
  {
   "cell_type": "code",
   "execution_count": 25,
   "metadata": {
    "collapsed": false,
    "scrolled": false
   },
   "outputs": [
    {
     "data": {
      "text/html": [
       "\n",
       "<!DOCTYPE html>\n",
       "<html>\n",
       "  \n",
       "\n",
       "  <body>\n",
       "    <div id=\"visualization2\" style=\"width: 950px; height: 600px\"></div>\n",
       "\n",
       "    <script src=\"carrotsearch.foamtree.js\"></script>\n",
       "    <script>\n",
       "      function init() {\n",
       "        var foamtree1 = new CarrotSearchFoamTree({\n",
       "          id: \"visualization2\",\n",
       "          dataObject: {\n",
       "            groups:[{\"groups\": [{\"label\": \"sod1\"}, {\"label\": \"mutant\"}, {\"label\": \"mutation\"}, {\"label\": \"mutant sod1\"}, {\"label\": \"al\"}, {\"label\": \"fals\"}, {\"label\": \"protein\"}, {\"label\": \"superoxide\"}, {\"label\": \"dismutase\"}, {\"label\": \"superoxide dismutase\"}], \"label\": \"sod1\"}, {\"groups\": [{\"label\": \"tdp-43\"}, {\"label\": \"fus\"}, {\"label\": \"c9orf72\"}, {\"label\": \"al\"}, {\"label\": \"repeat\"}, {\"label\": \"mutation\"}, {\"label\": \"ftld\"}, {\"label\": \"protein\"}, {\"label\": \"expansion\"}, {\"label\": \"inclusion\"}], \"label\": \"tdp-43\"}, {\"groups\": [{\"label\": \"motor\"}, {\"label\": \"al\"}, {\"label\": \"neuron\"}, {\"label\": \"mouse\"}, {\"label\": \"motor neuron\"}, {\"label\": \"spinal\"}, {\"label\": \"cord\"}, {\"label\": \"spinal cord\"}, {\"label\": \"cell\"}, {\"label\": \"model\"}], \"label\": \"motor\"}, {\"groups\": [{\"label\": \"patient\"}, {\"label\": \"al\"}, {\"label\": \"study\"}, {\"label\": \"al patient\"}, {\"label\": \"control\"}, {\"label\": \"use\"}, {\"label\": \"clinical\"}, {\"label\": \"group\"}, {\"label\": \"motor\"}, {\"label\": \"muscle\"}], \"label\": \"patient\"}, {\"groups\": [{\"label\": \"cell\"}, {\"label\": \"protein\"}, {\"label\": \"neurodegenerative\"}, {\"label\": \"brain\"}, {\"label\": \"disorder\"}, {\"label\": \"gene\"}, {\"label\": \"study\"}, {\"label\": \"use\"}, {\"label\": \"role\"}, {\"label\": \"human\"}], \"label\": \"cell\"}]\n",
       "          }\n",
       "        });\n",
       "      }\n",
       "        \n",
       "    init();\n",
       "    </script>\n",
       "  </body>\n",
       " "
      ],
      "text/plain": [
       "<IPython.core.display.HTML object>"
      ]
     },
     "metadata": {},
     "output_type": "display_data"
    }
   ],
   "source": [
    "display(HTML(\"\"\"\n",
    "<!DOCTYPE html>\n",
    "<html>\n",
    "  \n",
    "\n",
    "  <body>\n",
    "    <div id=\"visualization2\" style=\"width: 950px; height: 600px\"></div>\n",
    "\n",
    "    <script src=\"carrotsearch.foamtree.js\"></script>\n",
    "    <script>\n",
    "      function init() {\n",
    "        var foamtree1 = new CarrotSearchFoamTree({\n",
    "          id: \"visualization2\",\n",
    "          dataObject: {\n",
    "            groups:\"\"\"\n",
    "             + \n",
    "             json.dumps(trigram_cluster_data_JSON)\n",
    "             +\n",
    "             \"\"\"\n",
    "          }\n",
    "        });\n",
    "      }\n",
    "        \n",
    "    init();\n",
    "    </script>\n",
    "  </body>\n",
    " \"\"\"))\n"
   ]
  },
  {
   "cell_type": "code",
   "execution_count": null,
   "metadata": {
    "collapsed": true
   },
   "outputs": [],
   "source": [
    "# We can also close the connection if we are done with it.\n",
    "# Just be sure any changes have been committed or they will be lost.\n",
    "conn.close()"
   ]
  }
 ],
 "metadata": {
  "anaconda-cloud": {},
  "kernelspec": {
   "display_name": "Python [Root]",
   "language": "python",
   "name": "Python [Root]"
  },
  "language_info": {
   "codemirror_mode": {
    "name": "ipython",
    "version": 2
   },
   "file_extension": ".py",
   "mimetype": "text/x-python",
   "name": "python",
   "nbconvert_exporter": "python",
   "pygments_lexer": "ipython2",
   "version": "2.7.12"
  }
 },
 "nbformat": 4,
 "nbformat_minor": 0
}
