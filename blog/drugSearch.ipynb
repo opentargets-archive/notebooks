{
 "cells": [
  {
   "cell_type": "code",
   "execution_count": 144,
   "metadata": {
    "collapsed": false
   },
   "outputs": [],
   "source": [
    "import requests\n",
    "import json"
   ]
  },
  {
   "cell_type": "markdown",
   "metadata": {},
   "source": [
    "Set the drug that we want to find associations for"
   ]
  },
  {
   "cell_type": "code",
   "execution_count": 145,
   "metadata": {
    "collapsed": false
   },
   "outputs": [],
   "source": [
    "myDrug = \"INFLIXIMAB\""
   ]
  },
  {
   "cell_type": "markdown",
   "metadata": {},
   "source": [
    "Make the API call to find all the drugs"
   ]
  },
  {
   "cell_type": "code",
   "execution_count": 146,
   "metadata": {
    "collapsed": false
   },
   "outputs": [],
   "source": [
    "esURL = 'http://172.17.7.25:80/16.08_evidence-data-generic/_search'\n",
    "\n",
    "query = json.dumps({\n",
    "        \"fields\": [\"disease.efo_info.therapeutic_area.labels\", \"drug.molecule_name\", \"target.gene_info.symbol\"],\n",
    "        \"query\": {\n",
    "            \"match\": {\n",
    "                \"drug.molecule_name\": myDrug\n",
    "            }\n",
    "        }\n",
    "    })\n",
    "\n",
    "response = requests.get(esURL, data=query)\n",
    "output = response.json()\n",
    "\n",
    "#print out the json for debug\n",
    "#print json.dumps(output, indent=2)"
   ]
  },
  {
   "cell_type": "markdown",
   "metadata": {},
   "source": [
    "Collect information about diseases and targets associated with our drug"
   ]
  },
  {
   "cell_type": "code",
   "execution_count": 147,
   "metadata": {
    "collapsed": false
   },
   "outputs": [
    {
     "name": "stdout",
     "output_type": "stream",
     "text": [
      "DRUG: INFLIXIMAB\n",
      "\n",
      "DISEASES: \n",
      "\teye disease\n",
      "\tskeletal system disease\n",
      "\timmune system disease\n",
      "\tskin disease\n",
      "\tcardiovascular disease\n",
      "\tnervous system disease\n",
      "\tdigestive system disease\n",
      "\n",
      "TARGETS:\n",
      "\tTNF\n"
     ]
    }
   ],
   "source": [
    "\n",
    "for data in output['hits']['hits']:\n",
    "    \n",
    "    #print json.dumps(data, indent=2)\n",
    "\n",
    "    for x in data['fields']['disease.efo_info.therapeutic_area.labels']:\n",
    "        diseases[x] = 'true'\n",
    "    for y in data['fields']['target.gene_info.symbol']:\n",
    "        targets[y] = 'true'\n",
    "\n",
    "print \"DRUG: \" + myDrug\n",
    "\n",
    "print \"\\nDISEASES: \"\n",
    "\n",
    "for key in diseases.keys():\n",
    "    print \"\\t\" + key\n",
    "    \n",
    "print \"\\nTARGETS:\"\n",
    "\n",
    "for key in targets.keys():\n",
    "    print \"\\t\" + key"
   ]
  },
  {
   "cell_type": "code",
   "execution_count": null,
   "metadata": {
    "collapsed": true
   },
   "outputs": [],
   "source": []
  }
 ],
 "metadata": {
  "anaconda-cloud": {},
  "celltoolbar": "Raw Cell Format",
  "kernelspec": {
   "display_name": "Python [Root]",
   "language": "python",
   "name": "Python [Root]"
  },
  "language_info": {
   "codemirror_mode": {
    "name": "ipython",
    "version": 2
   },
   "file_extension": ".py",
   "mimetype": "text/x-python",
   "name": "python",
   "nbconvert_exporter": "python",
   "pygments_lexer": "ipython2",
   "version": "2.7.12"
  }
 },
 "nbformat": 4,
 "nbformat_minor": 0
}
