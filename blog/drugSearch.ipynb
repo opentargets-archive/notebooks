{
 "cells": [
  {
   "cell_type": "code",
   "execution_count": 131,
   "metadata": {
    "collapsed": false
   },
   "outputs": [],
   "source": [
    "import requests\n",
    "import json\n",
    "from IPython.core.display import display, HTML"
   ]
  },
  {
   "cell_type": "markdown",
   "metadata": {},
   "source": [
    "Set the drug that we want to find associations for"
   ]
  },
  {
   "cell_type": "code",
   "execution_count": 132,
   "metadata": {
    "collapsed": false
   },
   "outputs": [],
   "source": [
    "#myDrug = \"INFLIXIMAB\"\n",
    "myDrug = \"GEFITINIB\""
   ]
  },
  {
   "cell_type": "markdown",
   "metadata": {},
   "source": [
    "Make the API call to find all the drugs"
   ]
  },
  {
   "cell_type": "code",
   "execution_count": 133,
   "metadata": {
    "collapsed": false
   },
   "outputs": [],
   "source": [
    "esURL = 'http://172.17.7.25:80/16.08_evidence-data-generic/_search'\n",
    "\n",
    "query = json.dumps({\n",
    "        \"fields\": [\"disease.efo_info.label\", \"drug.molecule_name\", \"drug.id\", \"target.gene_info.symbol\"],\n",
    "        \"query\": {\n",
    "            \"match\": {\n",
    "                \"drug.molecule_name\": myDrug\n",
    "            }\n",
    "        }\n",
    "    })\n",
    "\n",
    "response = requests.get(esURL, data=query)\n",
    "output = response.json()\n",
    "\n",
    "#print out the json for debug\n",
    "#print json.dumps(output, indent=2)"
   ]
  },
  {
   "cell_type": "markdown",
   "metadata": {},
   "source": [
    "Collect information about diseases and targets associated with our drug"
   ]
  },
  {
   "cell_type": "code",
   "execution_count": 134,
   "metadata": {
    "collapsed": false
   },
   "outputs": [],
   "source": [
    "diseaseDict = {}\n",
    "diseaseArray = []\n",
    "targetDict = {}\n",
    "targetArray = []\n",
    "\n",
    "for data in output['hits']['hits']:\n",
    "    \n",
    "    #print data['evidence']['drug']['max_phase_for_all_diseases']['numeric_index']\n",
    "    #print json.dumps(data, indent=2)\n",
    "\n",
    "    for x in data['fields']['disease.efo_info.label']:\n",
    "        diseaseDict[x] = 'true'\n",
    "    for y in data['fields']['target.gene_info.symbol']:\n",
    "        targetDict[y] = 'true'\n",
    "\n",
    "#print \"DRUG: \" + myDrug\n",
    "\n",
    "#print \"\\nDISEASES: \"\n",
    "\n",
    "for key in diseaseDict.keys():\n",
    "    diseaseArray.append({'label': key})\n",
    "#    print \"\\t\" + key\n",
    "    \n",
    "#print \"\\nTARGETS:\"\n",
    "\n",
    "for key in targetDict.keys():\n",
    "    targetArray.append({'label': key})\n",
    "#    print \"\\t\" + key\n",
    "    #display(HTML('<h1>' + key + '</h1>'))\n"
   ]
  },
  {
   "cell_type": "code",
   "execution_count": 135,
   "metadata": {
    "collapsed": false
   },
   "outputs": [],
   "source": [
    "dataJSON = [{'label': \"Diseases\", 'weight': 1.0},\n",
    "           {'label': \"Targets\", 'weight': 1.0}\n",
    "        ]\n",
    "\n",
    "dataJSON[0][\"groups\"] = diseaseArray\n",
    "dataJSON[1][\"groups\"] = targetArray    \n"
   ]
  },
  {
   "cell_type": "code",
   "execution_count": 136,
   "metadata": {
    "collapsed": false
   },
   "outputs": [
    {
     "data": {
      "text/html": [
       "\n",
       "<!DOCTYPE html>\n",
       "<html>\n",
       "  <head>\n",
       "    <title>FoamTree Quick Start</title>\n",
       "    <meta charset=\"utf-8\" />\n",
       "  </head>\n",
       "\n",
       "  <body>\n",
       "  <center><h1>GEFITINIB</h1>\n",
       "    <div id=\"visualization\" style=\"width: 800px; height: 500px\"></div></center>\n",
       "\n",
       "    <script src=\"carrotsearch.foamtree.js\"></script>\n",
       "    <script>\n",
       "      function init() {\n",
       "        var foamtree = new CarrotSearchFoamTree({\n",
       "          id: \"visualization\",\n",
       "          dataObject: {\n",
       "            groups:[{\"groups\": [{\"label\": \"lung adenocarcinoma\"}, {\"label\": \"non-small cell lung carcinoma\"}, {\"label\": \"skin neoplasm\"}, {\"label\": \"lung carcinoma\"}, {\"label\": \"breast carcinoma\"}], \"weight\": 1.0, \"label\": \"Diseases\"}, {\"groups\": [{\"label\": \"EGFR\"}], \"weight\": 1.0, \"label\": \"Targets\"}]\n",
       "          }\n",
       "        });\n",
       "      }\n",
       "        \n",
       "    init();\n",
       "    </script>\n",
       "  </body>\n",
       " "
      ],
      "text/plain": [
       "<IPython.core.display.HTML object>"
      ]
     },
     "metadata": {},
     "output_type": "display_data"
    }
   ],
   "source": [
    "display(HTML(\"\"\"\n",
    "<!DOCTYPE html>\n",
    "<html>\n",
    "  <head>\n",
    "    <title>FoamTree Quick Start</title>\n",
    "    <meta charset=\"utf-8\" />\n",
    "  </head>\n",
    "\n",
    "  <body>\n",
    "  <center><h1>\"\"\"\n",
    "  + myDrug +\n",
    "   \"\"\"</h1>\n",
    "    <div id=\"visualization\" style=\"width: 800px; height: 500px\"></div></center>\n",
    "\n",
    "    <script src=\"carrotsearch.foamtree.js\"></script>\n",
    "    <script>\n",
    "      function init() {\n",
    "        var foamtree = new CarrotSearchFoamTree({\n",
    "          id: \"visualization\",\n",
    "          dataObject: {\n",
    "            groups:\"\"\"\n",
    "             + \n",
    "             json.dumps(dataJSON)\n",
    "             +\n",
    "             \"\"\"\n",
    "          }\n",
    "        });\n",
    "      }\n",
    "        \n",
    "    init();\n",
    "    </script>\n",
    "  </body>\n",
    " \"\"\"))\n"
   ]
  },
  {
   "cell_type": "code",
   "execution_count": null,
   "metadata": {
    "collapsed": true
   },
   "outputs": [],
   "source": []
  }
 ],
 "metadata": {
  "anaconda-cloud": {},
  "celltoolbar": "Raw Cell Format",
  "kernelspec": {
   "display_name": "Python [Root]",
   "language": "python",
   "name": "Python [Root]"
  },
  "language_info": {
   "codemirror_mode": {
    "name": "ipython",
    "version": 2
   },
   "file_extension": ".py",
   "mimetype": "text/x-python",
   "name": "python",
   "nbconvert_exporter": "python",
   "pygments_lexer": "ipython2",
   "version": "2.7.12"
  }
 },
 "nbformat": 4,
 "nbformat_minor": 0
}
