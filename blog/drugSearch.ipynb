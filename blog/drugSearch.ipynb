{
 "cells": [
  {
   "cell_type": "code",
   "execution_count": 89,
   "metadata": {
    "collapsed": false
   },
   "outputs": [],
   "source": [
    "import requests\n",
    "import json"
   ]
  },
  {
   "cell_type": "markdown",
   "metadata": {},
   "source": [
    "Set the drug that we want to find associations for"
   ]
  },
  {
   "cell_type": "code",
   "execution_count": 90,
   "metadata": {
    "collapsed": false
   },
   "outputs": [],
   "source": [
    "myDrug = \"INFLIXIMAB\""
   ]
  },
  {
   "cell_type": "markdown",
   "metadata": {},
   "source": [
    "Make the API call to find all the drugs"
   ]
  },
  {
   "cell_type": "code",
   "execution_count": 91,
   "metadata": {
    "collapsed": false
   },
   "outputs": [],
   "source": [
    "size = 10000\n",
    "publicURL = 'https://www.targetvalidation.org/'\n",
    "biogenURL = 'http://localhost:8000/'\n",
    "link = publicURL + 'api/latest/public/evidence/filter?datatype=known_drug&fields=disease.efo_info.therapeutic_area.labels&fields=drug.molecule_name&fields=target.gene_info.symbol&size='\n",
    "url = link + str(size)\n",
    "\n",
    "response = requests.get(url)\n",
    "output = response.json()\n",
    "\n",
    "#print out the json for debug\n",
    "#print json.dumps(output, indent=2)"
   ]
  },
  {
   "cell_type": "markdown",
   "metadata": {},
   "source": [
    "Collect information about diseases and targets associated with our drug"
   ]
  },
  {
   "cell_type": "code",
   "execution_count": 92,
   "metadata": {
    "collapsed": false
   },
   "outputs": [
    {
     "name": "stdout",
     "output_type": "stream",
     "text": [
      "DRUG: INFLIXIMAB\n",
      "\n",
      "DISEASES: \n",
      "\teye disease\n",
      "\tskeletal system disease\n",
      "\timmune system disease\n",
      "\tskin disease\n",
      "\tcardiovascular disease\n",
      "\tnervous system disease\n",
      "\tdigestive system disease\n",
      "\n",
      "TARGETS:\n",
      "\tTNF\n"
     ]
    }
   ],
   "source": [
    "total = output['total']\n",
    "fromCount = size - 1\n",
    "diseases = {}\n",
    "targets = {}\n",
    "\n",
    "while (fromCount < total):\n",
    "    \n",
    "    if('data' in output):\n",
    "        for data in output['data']:\n",
    "        \n",
    "            if(myDrug.lower() == data['drug']['molecule_name'].lower()):\n",
    "                for x in data['disease']['efo_info']['therapeutic_area']['labels']:\n",
    "                    diseases[x] = 'true'\n",
    "                \n",
    "                targets[data['target']['gene_info']['symbol']] = 'true'\n",
    "                #print \"Drug: \" + data['drug']['molecule_name']\n",
    "                #print ', '.join([str(x) for x in data['disease']['efo_info']['therapeutic_area']['labels']])\n",
    "                #print \"Target: \" + data['target']['gene_info']['symbol']\n",
    "    \n",
    "    fromCount = fromCount + size\n",
    "    url = link + str(size) + \"&from=\" + str(fromCount)\n",
    "\n",
    "    response = requests.get(url)\n",
    "    output = response.json()\n",
    "    #print json.dumps(output, indent=2)\n",
    "    \n",
    "print \"DRUG: \" + myDrug\n",
    "\n",
    "print \"\\nDISEASES: \"\n",
    "\n",
    "for key in diseases.keys():\n",
    "    print \"\\t\" + key\n",
    "    \n",
    "print \"\\nTARGETS:\"\n",
    "\n",
    "for key in targets.keys():\n",
    "    print \"\\t\" + key"
   ]
  },
  {
   "cell_type": "code",
   "execution_count": null,
   "metadata": {
    "collapsed": true
   },
   "outputs": [],
   "source": []
  }
 ],
 "metadata": {
  "anaconda-cloud": {},
  "celltoolbar": "Raw Cell Format",
  "kernelspec": {
   "display_name": "Python [Root]",
   "language": "python",
   "name": "Python [Root]"
  },
  "language_info": {
   "codemirror_mode": {
    "name": "ipython",
    "version": 2
   },
   "file_extension": ".py",
   "mimetype": "text/x-python",
   "name": "python",
   "nbconvert_exporter": "python",
   "pygments_lexer": "ipython2",
   "version": "2.7.12"
  }
 },
 "nbformat": 4,
 "nbformat_minor": 0
}
