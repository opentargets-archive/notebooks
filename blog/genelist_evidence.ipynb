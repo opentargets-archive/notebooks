{
 "cells": [
  {
   "cell_type": "code",
   "execution_count": 11,
   "metadata": {
    "collapsed": true
   },
   "outputs": [],
   "source": [
    "import requests\n",
    "import random\n",
    "import pandas as pd\n",
    "import uuid\n",
    "import json"
   ]
  },
  {
   "cell_type": "code",
   "execution_count": 23,
   "metadata": {
    "collapsed": true
   },
   "outputs": [],
   "source": [
    "# This is a useful trick to explore API responses from https://github.com/caldwell/renderjson\n",
    "from IPython.display import display_javascript, display_html, display\n",
    "\n",
    "class RenderJSON(object):\n",
    "    def __init__(self, json_data):\n",
    "        if isinstance(json_data, dict):\n",
    "            self.json_str = json.dumps(json_data)\n",
    "        else:\n",
    "            self.json_str = json\n",
    "        self.uuid = str(uuid.uuid4())\n",
    "\n",
    "    def _ipython_display_(self):\n",
    "        display_html('<div id=\"{}\" style=\"height: 300px; width:100%;\"></div>'.format(self.uuid),\n",
    "            raw=True\n",
    "        )\n",
    "        display_javascript(\"\"\"\n",
    "        require([\"https://rawgit.com/caldwell/renderjson/master/renderjson.js\"], function() {\n",
    "          document.getElementById('%s').appendChild(renderjson(%s))\n",
    "        });\n",
    "        \"\"\" % (self.uuid, self.json_str), raw=True)\n"
   ]
  },
  {
   "cell_type": "markdown",
   "metadata": {},
   "source": [
    "# Find what's known for a list of genes"
   ]
  },
  {
   "cell_type": "markdown",
   "metadata": {},
   "source": [
    "> eg. Maria L in the fly group routinely screens lists of human genes for the presence of evidence in neurological diseases. She wants to understand a bit about the biology of these genes. She looks at open targets to find what is known about the target and to which disease it has already been connected.\n",
    "\n",
    "Compiling evidence relative to a list of genes can be a time-consuming and tedious task. Now the process can be automated, thanks to the targetvalidation.org API.\n",
    "\n",
    "This tutorial illustrates how to compile all the evidence contained in targetvalidation.org for a list of genes into a compact representation (eg. a spreadsheet) using python. \n",
    "You might have a list of genes being generated from an experiment or a genetic screen, or perhaps you are following a particular set of targets and would like to maintain an updated look at what evidence has been compiled around them.\n",
    "The process can be useful to reduce bias and increase success rates when prioritizing a list of genes for experimental follow-up. \n",
    "\n",
    "For this tutorial, we will use 20 random genes taken from the HGNC catalog. First, let's download the full catalog and create a list of symbols only."
   ]
  },
  {
   "cell_type": "code",
   "execution_count": 3,
   "metadata": {
    "collapsed": false
   },
   "outputs": [],
   "source": [
    "%%capture\n",
    "%%bash\n",
    "[ -f ../data/hgnc_complete_set.txt.gz ] || wget --directory-prefix=../data/ http://ftp.ebi.ac.uk/pub/databases/genenames/hgnc_complete_set.txt.gz \n",
    "[ -f ../data/hgnc_complete_set.txt ] || gunzip ../data/hgnc_complete_set.txt.gz \n",
    "tail -n +2 ../data/hgnc_complete_set.txt | cut -f2 | grep -v withdrawn > ../data/hgnc_symbol_set.txt"
   ]
  },
  {
   "cell_type": "markdown",
   "metadata": {},
   "source": [
    "To extract 20 random gene names:"
   ]
  },
  {
   "cell_type": "code",
   "execution_count": 1,
   "metadata": {
    "collapsed": false,
    "scrolled": true
   },
   "outputs": [
    {
     "data": {
      "text/plain": [
       "['CACYBP',\n",
       " 'CST4',\n",
       " 'DUXA',\n",
       " 'EIF4A1P10',\n",
       " 'C6orf201',\n",
       " 'ECSIT',\n",
       " 'CC2D1B',\n",
       " 'CFAP161',\n",
       " 'FTO',\n",
       " 'BCL2L15',\n",
       " 'CDC27P3',\n",
       " 'FREM1',\n",
       " 'GOLIM4',\n",
       " 'FER1L6-AS2',\n",
       " 'ADCK5',\n",
       " 'FAM168A',\n",
       " 'COX6C',\n",
       " 'C17orf96',\n",
       " 'FAM151A',\n",
       " 'AOC4P']"
      ]
     },
     "execution_count": 1,
     "metadata": {},
     "output_type": "execute_result"
    }
   ],
   "source": [
    "import random\n",
    "with open('hgnc_symbols.txt') as f:\n",
    "    genes = [line.rstrip() for line in f]\n",
    "random.shuffle(genes)\n",
    "genes[:20]"
   ]
  },
  {
   "cell_type": "markdown",
   "metadata": {
    "collapsed": true
   },
   "source": [
    "## how many disease in each therapeutic area are associated with each target"
   ]
  },
  {
   "cell_type": "code",
   "execution_count": 4,
   "metadata": {
    "collapsed": true
   },
   "outputs": [],
   "source": [
    "API = 'https://www.targetvalidation.org/api/1.1'"
   ]
  },
  {
   "cell_type": "code",
   "execution_count": 7,
   "metadata": {
    "collapsed": false
   },
   "outputs": [],
   "source": [
    "r = requests.post(API + '/public/association/filter', json = {'target':['ENSG00000157764','ENSG00000142168']})"
   ]
  },
  {
   "cell_type": "code",
   "execution_count": 24,
   "metadata": {
    "collapsed": false
   },
   "outputs": [
    {
     "data": {
      "text/html": [
       "<div id=\"31ec22a8-39ff-4540-a40d-5ac701fec423\" style=\"height: 300px; width:100%;\"></div>"
      ]
     },
     "metadata": {},
     "output_type": "display_data"
    },
    {
     "data": {
      "application/javascript": [
       "\n",
       "        require([\"https://rawgit.com/caldwell/renderjson/master/renderjson.js\"], function() {\n",
       "          document.getElementById('31ec22a8-39ff-4540-a40d-5ac701fec423').appendChild(renderjson({\"from\": 0, \"total\": 1389, \"facets\": {}, \"therapeutic_areas\": [], \"took\": 18, \"size\": 10, \"data\": [{\"id\": \"ENSG00000157764-EFO_0000616\", \"disease\": {\"id\": \"EFO_0000616\", \"efo_info\": {\"therapeutic_area\": {\"codes\": [], \"labels\": []}, \"label\": \"neoplasm\", \"path\": [[\"EFO_0000616\"]]}}, \"association_score\": {\"overall\": 1.0, \"datatypes\": {\"rna_expression\": 0.5077709509637639, \"literature\": 1.0, \"somatic_mutation\": 1.0, \"animal_model\": 0.5481809212075083, \"affected_pathway\": 0.0, \"genetic_association\": 1.0, \"known_drug\": 1.0}, \"datasources\": {\"expression_atlas\": 0.5077709509637639, \"cancer_gene_census\": 1.0, \"disgenet\": 0.0, \"gwas_catalog\": 0.0, \"phenodigm\": 0.5481809212075083, \"europepmc\": 1.0, \"uniprot\": 0.0, \"eva\": 0.0, \"reactome\": 0.0, \"uniprot_literature\": 1.0, \"chembl\": 1.0, \"eva_somatic\": 1.0}}, \"is_direct\": true, \"target\": {\"id\": \"ENSG00000157764\", \"gene_info\": {\"symbol\": \"BRAF\", \"name\": \"B-Raf proto-oncogene, serine/threonine kinase\"}}, \"evidence_count\": {\"total\": 9608.0, \"datatypes\": {\"rna_expression\": 38.0, \"literature\": 9326.0, \"somatic_mutation\": 138.0, \"animal_model\": 36.0, \"affected_pathway\": 0.0, \"genetic_association\": 6.0, \"known_drug\": 64.0}, \"datasources\": {\"expression_atlas\": 38.0, \"cancer_gene_census\": 112.0, \"disgenet\": 0.0, \"gwas_catalog\": 0.0, \"phenodigm\": 36.0, \"europepmc\": 9326.0, \"uniprot\": 0.0, \"eva\": 0.0, \"reactome\": 0.0, \"uniprot_literature\": 6.0, \"chembl\": 64.0, \"eva_somatic\": 26.0}}}, {\"id\": \"ENSG00000157764-EFO_0000311\", \"disease\": {\"id\": \"EFO_0000311\", \"efo_info\": {\"therapeutic_area\": {\"codes\": [\"EFO_0000616\"], \"labels\": [\"neoplasm\"]}, \"label\": \"cancer\", \"path\": [[\"EFO_0000616\", \"EFO_0000311\"]]}}, \"association_score\": {\"overall\": 1.0, \"datatypes\": {\"rna_expression\": 0.5055874836493606, \"literature\": 0.9524867193631976, \"somatic_mutation\": 1.0, \"animal_model\": 0.23078833333333332, \"affected_pathway\": 0.0, \"genetic_association\": 1.0, \"known_drug\": 1.0}, \"datasources\": {\"expression_atlas\": 0.5055874836493606, \"cancer_gene_census\": 1.0, \"disgenet\": 0.0, \"gwas_catalog\": 0.0, \"phenodigm\": 0.23078833333333332, \"europepmc\": 0.9524867193631976, \"uniprot\": 0.0, \"eva\": 0.0, \"reactome\": 0.0, \"uniprot_literature\": 1.0, \"chembl\": 1.0, \"eva_somatic\": 1.0}}, \"is_direct\": true, \"target\": {\"id\": \"ENSG00000157764\", \"gene_info\": {\"symbol\": \"BRAF\", \"name\": \"B-Raf proto-oncogene, serine/threonine kinase\"}}, \"evidence_count\": {\"total\": 6363.0, \"datatypes\": {\"rna_expression\": 37.0, \"literature\": 6140.0, \"somatic_mutation\": 122.0, \"animal_model\": 4.0, \"affected_pathway\": 0.0, \"genetic_association\": 5.0, \"known_drug\": 55.0}, \"datasources\": {\"expression_atlas\": 37.0, \"cancer_gene_census\": 96.0, \"disgenet\": 0.0, \"gwas_catalog\": 0.0, \"phenodigm\": 4.0, \"europepmc\": 6140.0, \"uniprot\": 0.0, \"eva\": 0.0, \"reactome\": 0.0, \"uniprot_literature\": 5.0, \"chembl\": 55.0, \"eva_somatic\": 26.0}}}, {\"id\": \"ENSG00000157764-EFO_0000313\", \"disease\": {\"id\": \"EFO_0000313\", \"efo_info\": {\"therapeutic_area\": {\"codes\": [\"EFO_0000616\"], \"labels\": [\"neoplasm\"]}, \"label\": \"carcinoma\", \"path\": [[\"EFO_0000616\", \"EFO_0000311\", \"EFO_0000313\"]]}}, \"association_score\": {\"overall\": 1.0, \"datatypes\": {\"rna_expression\": 0.4988902591563441, \"literature\": 0.9255629913246818, \"somatic_mutation\": 1.0, \"animal_model\": 0.0, \"affected_pathway\": 0.0, \"genetic_association\": 1.0, \"known_drug\": 1.0}, \"datasources\": {\"expression_atlas\": 0.4988902591563441, \"cancer_gene_census\": 1.0, \"disgenet\": 0.0, \"gwas_catalog\": 0.0, \"phenodigm\": 0.0, \"europepmc\": 0.9255629913246818, \"uniprot\": 0.0, \"eva\": 0.0, \"reactome\": 0.0, \"uniprot_literature\": 1.0, \"chembl\": 1.0, \"eva_somatic\": 1.0}}, \"is_direct\": true, \"target\": {\"id\": \"ENSG00000157764\", \"gene_info\": {\"symbol\": \"BRAF\", \"name\": \"B-Raf proto-oncogene, serine/threonine kinase\"}}, \"evidence_count\": {\"total\": 4469.0, \"datatypes\": {\"rna_expression\": 30.0, \"literature\": 4296.0, \"somatic_mutation\": 103.0, \"animal_model\": 0.0, \"affected_pathway\": 0.0, \"genetic_association\": 4.0, \"known_drug\": 36.0}, \"datasources\": {\"expression_atlas\": 30.0, \"cancer_gene_census\": 79.0, \"disgenet\": 0.0, \"gwas_catalog\": 0.0, \"phenodigm\": 0.0, \"europepmc\": 4296.0, \"uniprot\": 0.0, \"eva\": 0.0, \"reactome\": 0.0, \"uniprot_literature\": 4.0, \"chembl\": 36.0, \"eva_somatic\": 24.0}}}, {\"id\": \"ENSG00000157764-EFO_0000701\", \"disease\": {\"id\": \"EFO_0000701\", \"efo_info\": {\"therapeutic_area\": {\"codes\": [], \"labels\": []}, \"label\": \"skin disease\", \"path\": [[\"EFO_0000701\"]]}}, \"association_score\": {\"overall\": 1.0, \"datatypes\": {\"rna_expression\": 0.14751, \"literature\": 0.8992442807768021, \"somatic_mutation\": 1.0, \"animal_model\": 0.5516506695335316, \"affected_pathway\": 0.0, \"genetic_association\": 1.0, \"known_drug\": 1.0}, \"datasources\": {\"expression_atlas\": 0.14751, \"cancer_gene_census\": 1.0, \"disgenet\": 0.0, \"gwas_catalog\": 0.0, \"phenodigm\": 0.5516506695335316, \"europepmc\": 0.8992442807768021, \"uniprot\": 0.0, \"eva\": 1.0, \"reactome\": 0.0, \"uniprot_literature\": 1.0, \"chembl\": 1.0, \"eva_somatic\": 1.0}}, \"is_direct\": true, \"target\": {\"id\": \"ENSG00000157764\", \"gene_info\": {\"symbol\": \"BRAF\", \"name\": \"B-Raf proto-oncogene, serine/threonine kinase\"}}, \"evidence_count\": {\"total\": 2724.0, \"datatypes\": {\"rna_expression\": 2.0, \"literature\": 2617.0, \"somatic_mutation\": 16.0, \"animal_model\": 40.0, \"affected_pathway\": 0.0, \"genetic_association\": 41.0, \"known_drug\": 8.0}, \"datasources\": {\"expression_atlas\": 2.0, \"cancer_gene_census\": 15.0, \"disgenet\": 0.0, \"gwas_catalog\": 0.0, \"phenodigm\": 40.0, \"europepmc\": 2617.0, \"uniprot\": 0.0, \"eva\": 38.0, \"reactome\": 0.0, \"uniprot_literature\": 3.0, \"chembl\": 8.0, \"eva_somatic\": 1.0}}}, {\"id\": \"ENSG00000157764-EFO_0000684\", \"disease\": {\"id\": \"EFO_0000684\", \"efo_info\": {\"therapeutic_area\": {\"codes\": [], \"labels\": []}, \"label\": \"respiratory system disease\", \"path\": [[\"EFO_0000684\"]]}}, \"association_score\": {\"overall\": 1.0, \"datatypes\": {\"rna_expression\": 0.15024, \"literature\": 0.37860748745004297, \"somatic_mutation\": 1.0, \"animal_model\": 0.18555000000000002, \"affected_pathway\": 0.0, \"genetic_association\": 1.0, \"known_drug\": 0.3583333333333334}, \"datasources\": {\"expression_atlas\": 0.15024, \"cancer_gene_census\": 1.0, \"disgenet\": 0.0, \"gwas_catalog\": 0.0, \"phenodigm\": 0.18555000000000002, \"europepmc\": 0.37860748745004297, \"uniprot\": 0.0, \"eva\": 0.0, \"reactome\": 0.0, \"uniprot_literature\": 1.0, \"chembl\": 0.3583333333333334, \"eva_somatic\": 1.0}}, \"is_direct\": false, \"target\": {\"id\": \"ENSG00000157764\", \"gene_info\": {\"symbol\": \"BRAF\", \"name\": \"B-Raf proto-oncogene, serine/threonine kinase\"}}, \"evidence_count\": {\"total\": 328.0, \"datatypes\": {\"rna_expression\": 4.0, \"literature\": 287.0, \"somatic_mutation\": 28.0, \"animal_model\": 2.0, \"affected_pathway\": 0.0, \"genetic_association\": 3.0, \"known_drug\": 4.0}, \"datasources\": {\"expression_atlas\": 4.0, \"cancer_gene_census\": 14.0, \"disgenet\": 0.0, \"gwas_catalog\": 0.0, \"phenodigm\": 2.0, \"europepmc\": 287.0, \"uniprot\": 0.0, \"eva\": 0.0, \"reactome\": 0.0, \"uniprot_literature\": 3.0, \"chembl\": 4.0, \"eva_somatic\": 14.0}}}, {\"id\": \"ENSG00000157764-EFO_0003818\", \"disease\": {\"id\": \"EFO_0003818\", \"efo_info\": {\"therapeutic_area\": {\"codes\": [\"EFO_0000684\"], \"labels\": [\"respiratory system disease\"]}, \"label\": \"lung disease\", \"path\": [[\"EFO_0000684\", \"EFO_0003818\"]]}}, \"association_score\": {\"overall\": 1.0, \"datatypes\": {\"rna_expression\": 0.06176000000000001, \"literature\": 0.37832105858250253, \"somatic_mutation\": 1.0, \"animal_model\": 0.0, \"affected_pathway\": 0.0, \"genetic_association\": 1.0, \"known_drug\": 0.3583333333333334}, \"datasources\": {\"expression_atlas\": 0.06176000000000001, \"cancer_gene_census\": 1.0, \"disgenet\": 0.0, \"gwas_catalog\": 0.0, \"phenodigm\": 0.0, \"europepmc\": 0.37832105858250253, \"uniprot\": 0.0, \"eva\": 0.0, \"reactome\": 0.0, \"uniprot_literature\": 1.0, \"chembl\": 0.3583333333333334, \"eva_somatic\": 1.0}}, \"is_direct\": true, \"target\": {\"id\": \"ENSG00000157764\", \"gene_info\": {\"symbol\": \"BRAF\", \"name\": \"B-Raf proto-oncogene, serine/threonine kinase\"}}, \"evidence_count\": {\"total\": 323.0, \"datatypes\": {\"rna_expression\": 3.0, \"literature\": 285.0, \"somatic_mutation\": 28.0, \"animal_model\": 0.0, \"affected_pathway\": 0.0, \"genetic_association\": 3.0, \"known_drug\": 4.0}, \"datasources\": {\"expression_atlas\": 3.0, \"cancer_gene_census\": 14.0, \"disgenet\": 0.0, \"gwas_catalog\": 0.0, \"phenodigm\": 0.0, \"europepmc\": 285.0, \"uniprot\": 0.0, \"eva\": 0.0, \"reactome\": 0.0, \"uniprot_literature\": 3.0, \"chembl\": 4.0, \"eva_somatic\": 14.0}}}, {\"id\": \"ENSG00000157764-EFO_0003853\", \"disease\": {\"id\": \"EFO_0003853\", \"efo_info\": {\"therapeutic_area\": {\"codes\": [\"EFO_0000684\", \"EFO_0000616\"], \"labels\": [\"neoplasm\", \"respiratory system disease\"]}, \"label\": \"respiratory system neoplasm\", \"path\": [[\"EFO_0000684\", \"EFO_0003853\"], [\"EFO_0000616\", \"EFO_0003853\"]]}}, \"association_score\": {\"overall\": 1.0, \"datatypes\": {\"rna_expression\": 0.05856000000000001, \"literature\": 0.37801356180962187, \"somatic_mutation\": 1.0, \"animal_model\": 0.0, \"affected_pathway\": 0.0, \"genetic_association\": 1.0, \"known_drug\": 0.3583333333333334}, \"datasources\": {\"expression_atlas\": 0.05856000000000001, \"cancer_gene_census\": 1.0, \"disgenet\": 0.0, \"gwas_catalog\": 0.0, \"phenodigm\": 0.0, \"europepmc\": 0.37801356180962187, \"uniprot\": 0.0, \"eva\": 0.0, \"reactome\": 0.0, \"uniprot_literature\": 1.0, \"chembl\": 0.3583333333333334, \"eva_somatic\": 1.0}}, \"is_direct\": false, \"target\": {\"id\": \"ENSG00000157764\", \"gene_info\": {\"symbol\": \"BRAF\", \"name\": \"B-Raf proto-oncogene, serine/threonine kinase\"}}, \"evidence_count\": {\"total\": 317.0, \"datatypes\": {\"rna_expression\": 2.0, \"literature\": 280.0, \"somatic_mutation\": 28.0, \"animal_model\": 0.0, \"affected_pathway\": 0.0, \"genetic_association\": 3.0, \"known_drug\": 4.0}, \"datasources\": {\"expression_atlas\": 2.0, \"cancer_gene_census\": 14.0, \"disgenet\": 0.0, \"gwas_catalog\": 0.0, \"phenodigm\": 0.0, \"europepmc\": 280.0, \"uniprot\": 0.0, \"eva\": 0.0, \"reactome\": 0.0, \"uniprot_literature\": 3.0, \"chembl\": 4.0, \"eva_somatic\": 14.0}}}, {\"id\": \"ENSG00000157764-EFO_0001071\", \"disease\": {\"id\": \"EFO_0001071\", \"efo_info\": {\"therapeutic_area\": {\"codes\": [\"EFO_0000684\", \"EFO_0000616\"], \"labels\": [\"neoplasm\", \"respiratory system disease\"]}, \"label\": \"lung carcinoma\", \"path\": [[\"EFO_0000616\", \"EFO_0000311\", \"EFO_0000313\", \"EFO_0001071\"], [\"EFO_0000684\", \"EFO_0003853\", \"EFO_0001071\"], [\"EFO_0000616\", \"EFO_0003853\", \"EFO_0001071\"], [\"EFO_0000684\", \"EFO_0003818\", \"EFO_0001071\"]]}}, \"association_score\": {\"overall\": 1.0, \"datatypes\": {\"rna_expression\": 0.05856000000000001, \"literature\": 0.3777219977538969, \"somatic_mutation\": 1.0, \"animal_model\": 0.0, \"affected_pathway\": 0.0, \"genetic_association\": 1.0, \"known_drug\": 0.3583333333333334}, \"datasources\": {\"expression_atlas\": 0.05856000000000001, \"cancer_gene_census\": 1.0, \"disgenet\": 0.0, \"gwas_catalog\": 0.0, \"phenodigm\": 0.0, \"europepmc\": 0.3777219977538969, \"uniprot\": 0.0, \"eva\": 0.0, \"reactome\": 0.0, \"uniprot_literature\": 1.0, \"chembl\": 0.3583333333333334, \"eva_somatic\": 1.0}}, \"is_direct\": true, \"target\": {\"id\": \"ENSG00000157764\", \"gene_info\": {\"symbol\": \"BRAF\", \"name\": \"B-Raf proto-oncogene, serine/threonine kinase\"}}, \"evidence_count\": {\"total\": 315.0, \"datatypes\": {\"rna_expression\": 2.0, \"literature\": 278.0, \"somatic_mutation\": 28.0, \"animal_model\": 0.0, \"affected_pathway\": 0.0, \"genetic_association\": 3.0, \"known_drug\": 4.0}, \"datasources\": {\"expression_atlas\": 2.0, \"cancer_gene_census\": 14.0, \"disgenet\": 0.0, \"gwas_catalog\": 0.0, \"phenodigm\": 0.0, \"europepmc\": 278.0, \"uniprot\": 0.0, \"eva\": 0.0, \"reactome\": 0.0, \"uniprot_literature\": 3.0, \"chembl\": 4.0, \"eva_somatic\": 14.0}}}, {\"id\": \"ENSG00000157764-EFO_0001379\", \"disease\": {\"id\": \"EFO_0001379\", \"efo_info\": {\"therapeutic_area\": {\"codes\": [], \"labels\": []}, \"label\": \"endocrine system disease\", \"path\": [[\"EFO_0001379\"]]}}, \"association_score\": {\"overall\": 1.0, \"datatypes\": {\"rna_expression\": 0.1836947857142857, \"literature\": 0.33301916156305156, \"somatic_mutation\": 1.0, \"animal_model\": 0.5405235412464371, \"affected_pathway\": 0.0, \"genetic_association\": 1.0, \"known_drug\": 1.0}, \"datasources\": {\"expression_atlas\": 0.1836947857142857, \"cancer_gene_census\": 1.0, \"disgenet\": 0.0, \"gwas_catalog\": 0.0, \"phenodigm\": 0.5405235412464371, \"europepmc\": 0.33301916156305156, \"uniprot\": 0.0, \"eva\": 1.0, \"reactome\": 0.0, \"uniprot_literature\": 1.0, \"chembl\": 1.0, \"eva_somatic\": 1.0}}, \"is_direct\": false, \"target\": {\"id\": \"ENSG00000157764\", \"gene_info\": {\"symbol\": \"BRAF\", \"name\": \"B-Raf proto-oncogene, serine/threonine kinase\"}}, \"evidence_count\": {\"total\": 784.0, \"datatypes\": {\"rna_expression\": 8.0, \"literature\": 698.0, \"somatic_mutation\": 21.0, \"animal_model\": 36.0, \"affected_pathway\": 0.0, \"genetic_association\": 13.0, \"known_drug\": 8.0}, \"datasources\": {\"expression_atlas\": 8.0, \"cancer_gene_census\": 19.0, \"disgenet\": 0.0, \"gwas_catalog\": 0.0, \"phenodigm\": 36.0, \"europepmc\": 698.0, \"uniprot\": 0.0, \"eva\": 12.0, \"reactome\": 0.0, \"uniprot_literature\": 1.0, \"chembl\": 8.0, \"eva_somatic\": 2.0}}}, {\"id\": \"ENSG00000157764-EFO_0000228\", \"disease\": {\"id\": \"EFO_0000228\", \"efo_info\": {\"therapeutic_area\": {\"codes\": [\"EFO_0000616\"], \"labels\": [\"neoplasm\"]}, \"label\": \"adenocarcinoma\", \"path\": [[\"EFO_0000616\", \"EFO_0000311\", \"EFO_0000313\", \"EFO_0000228\"]]}}, \"association_score\": {\"overall\": 1.0, \"datatypes\": {\"rna_expression\": 0.13433399999999998, \"literature\": 0.3838279722186136, \"somatic_mutation\": 1.0, \"animal_model\": 0.0, \"affected_pathway\": 0.0, \"genetic_association\": 0.5, \"known_drug\": 0.33333333333333337}, \"datasources\": {\"expression_atlas\": 0.13433399999999998, \"cancer_gene_census\": 1.0, \"disgenet\": 0.0, \"gwas_catalog\": 0.0, \"phenodigm\": 0.0, \"europepmc\": 0.3838279722186136, \"uniprot\": 0.0, \"eva\": 0.0, \"reactome\": 0.0, \"uniprot_literature\": 0.5, \"chembl\": 0.33333333333333337, \"eva_somatic\": 1.0}}, \"is_direct\": true, \"target\": {\"id\": \"ENSG00000157764\", \"gene_info\": {\"symbol\": \"BRAF\", \"name\": \"B-Raf proto-oncogene, serine/threonine kinase\"}}, \"evidence_count\": {\"total\": 410.0, \"datatypes\": {\"rna_expression\": 5.0, \"literature\": 373.0, \"somatic_mutation\": 28.0, \"animal_model\": 0.0, \"affected_pathway\": 0.0, \"genetic_association\": 1.0, \"known_drug\": 3.0}, \"datasources\": {\"expression_atlas\": 5.0, \"cancer_gene_census\": 21.0, \"disgenet\": 0.0, \"gwas_catalog\": 0.0, \"phenodigm\": 0.0, \"europepmc\": 373.0, \"uniprot\": 0.0, \"eva\": 0.0, \"reactome\": 0.0, \"uniprot_literature\": 1.0, \"chembl\": 3.0, \"eva_somatic\": 7.0}}}]}))\n",
       "        });\n",
       "        "
      ]
     },
     "metadata": {},
     "output_type": "display_data"
    }
   ],
   "source": [
    "RenderJSON(r.json())"
   ]
  },
  {
   "cell_type": "markdown",
   "metadata": {
    "collapsed": true
   },
   "source": [
    "\n",
    "* displays list of top 3 diseases, name and Association Score.  Also shows number of disease associations\n",
    "\n",
    "* \n"
   ]
  }
 ],
 "metadata": {
  "kernelspec": {
   "display_name": "Python 3",
   "language": "python",
   "name": "python3"
  },
  "language_info": {
   "codemirror_mode": {
    "name": "ipython",
    "version": 3
   },
   "file_extension": ".py",
   "mimetype": "text/x-python",
   "name": "python",
   "nbconvert_exporter": "python",
   "pygments_lexer": "ipython3",
   "version": "3.5.1"
  }
 },
 "nbformat": 4,
 "nbformat_minor": 0
}
