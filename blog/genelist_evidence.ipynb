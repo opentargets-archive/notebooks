{
 "cells": [
  {
   "cell_type": "code",
   "execution_count": 11,
   "metadata": {
    "collapsed": true
   },
   "outputs": [],
   "source": [
    "import requests\n",
    "import random\n",
    "import pandas as pd\n",
    "import uuid\n",
    "import json"
   ]
  },
  {
   "cell_type": "code",
   "execution_count": 23,
   "metadata": {
    "collapsed": true
   },
   "outputs": [],
   "source": [
    "# This is a useful trick to explore API responses from https://github.com/caldwell/renderjson\n",
    "from IPython.display import display_javascript, display_html, display\n",
    "\n",
    "class RenderJSON(object):\n",
    "    def __init__(self, json_data):\n",
    "        if isinstance(json_data, dict):\n",
    "            self.json_str = json.dumps(json_data)\n",
    "        else:\n",
    "            self.json_str = json\n",
    "        self.uuid = str(uuid.uuid4())\n",
    "\n",
    "    def _ipython_display_(self):\n",
    "        display_html('<div id=\"{}\" style=\"height: 300px; width:100%;\"></div>'.format(self.uuid),\n",
    "            raw=True\n",
    "        )\n",
    "        display_javascript(\"\"\"\n",
    "        require([\"https://rawgit.com/caldwell/renderjson/master/renderjson.js\"], function() {\n",
    "          document.getElementById('%s').appendChild(renderjson(%s))\n",
    "        });\n",
    "        \"\"\" % (self.uuid, self.json_str), raw=True)\n"
   ]
  },
  {
   "cell_type": "code",
   "execution_count": 4,
   "metadata": {
    "collapsed": true
   },
   "outputs": [],
   "source": [
    "API = 'https://www.targetvalidation.org/api/1.1'"
   ]
  },
  {
   "cell_type": "markdown",
   "metadata": {},
   "source": [
    "# Find what's known for a list of genes"
   ]
  },
  {
   "cell_type": "markdown",
   "metadata": {},
   "source": [
    "> eg. Maria L in the fly group routinely screens lists of human genes for the presence of evidence in neurological diseases. She wants to understand a bit about the biology of these genes. She looks at open targets to find what is known about the target and to which disease it has already been connected.\n",
    "\n",
    "Compiling evidence relative to a list of genes can be a time-consuming and tedious task. Now the process can be automated, thanks to the targetvalidation.org API.\n",
    "\n",
    "This tutorial illustrates how to compile all the evidence contained in targetvalidation.org for a list of genes into a compact representation (eg. a spreadsheet) using python. \n",
    "You might have a list of genes being generated from an experiment or a genetic screen, or perhaps you are following a particular set of targets and would like to maintain an updated look at what evidence has been compiled around them.\n",
    "The process can be useful to reduce bias and increase success rates when prioritizing a list of genes for experimental follow-up. \n",
    "\n",
    "For this tutorial, we will use a list of random genes taken from the HGNC catalog. First, let's download the full catalog and create a list of symbols only."
   ]
  },
  {
   "cell_type": "code",
   "execution_count": 3,
   "metadata": {
    "collapsed": false
   },
   "outputs": [],
   "source": [
    "%%capture\n",
    "%%bash\n",
    "[ -f ../data/hgnc_complete_set.txt.gz ] || wget --directory-prefix=../data/ http://ftp.ebi.ac.uk/pub/databases/genenames/hgnc_complete_set.txt.gz \n",
    "[ -f ../data/hgnc_complete_set.txt ] || gunzip ../data/hgnc_complete_set.txt.gz \n",
    "tail -n +2 ../data/hgnc_complete_set.txt | cut -f2 | grep -v withdrawn > ../data/hgnc_symbol_set.txt"
   ]
  },
  {
   "cell_type": "markdown",
   "metadata": {},
   "source": [
    "We then print ten random gene names to check that our shuffling is working."
   ]
  },
  {
   "cell_type": "code",
   "execution_count": 57,
   "metadata": {
    "collapsed": false,
    "scrolled": false
   },
   "outputs": [
    {
     "name": "stdout",
     "output_type": "stream",
     "text": [
      "['HCG24', 'DPCD', 'IGAD1', 'FCGRT', 'CAMK2A', 'HMGA1P3', 'FOXD3-AS1', 'HMGN1P25', 'FOXD4L5', 'HMOX1']\n"
     ]
    }
   ],
   "source": [
    "import random\n",
    "with open('../data/hgnc_symbols.txt') as f:\n",
    "    genes = [line.rstrip() for line in f]\n",
    "random.shuffle(genes)\n",
    "print(genes[:10])"
   ]
  },
  {
   "cell_type": "markdown",
   "metadata": {},
   "source": [
    "To use them in querying the Target Validation API we have to convert them to Ensembl gene ids:"
   ]
  },
  {
   "cell_type": "code",
   "execution_count": 65,
   "metadata": {
    "collapsed": false
   },
   "outputs": [
    {
     "name": "stdout",
     "output_type": "stream",
     "text": [
      "['ENSG00000230313', 'ENSG00000166171', 'ENSG00000104870', 'ENSG00000070808', 'ENSG00000258011', 'ENSG00000230798', 'ENSG00000204779', 'ENSG00000100292', 'ENSG00000184844', 'ENSG00000169325', 'ENSG00000204165', 'ENSG00000168959', 'ENSG00000153107', 'ENSG00000232605', 'ENSG00000107984', 'ENSG00000176022', 'ENSG00000254722', 'ENSG00000107105', 'ENSG00000253540', 'ENSG00000214688', 'ENSG00000276550', 'ENSG00000230223', 'ENSG00000153046', 'ENSG00000090581']\n"
     ]
    }
   ],
   "source": [
    "def get_ensid(genesymbol):\n",
    "    '''\n",
    "    uses the targetvalidation.org API to get ENS IDs\n",
    "    '''\n",
    "    r = requests.get(API + '/public/search', \n",
    "                     params={'q':genesymbol,'size':1,'filter':'gene'})\n",
    "    result = r.json()\n",
    "    try:\n",
    "        if result[\"data\"][0][\"data\"][\"approved_symbol\"] == genesymbol:\n",
    "            geneId = result[\"data\"][0][\"id\"]\n",
    "            return geneId\n",
    "    except IndexError:\n",
    "            return None\n",
    "\n",
    "assert get_ensid('SOD1') == 'ENSG00000142168'\n",
    "\n",
    "random_genes = [get_ensid(x) for x in genes[:30] if get_ensid(x) is not None]\n",
    "print(random_genes)"
   ]
  },
  {
   "cell_type": "markdown",
   "metadata": {
    "collapsed": true
   },
   "source": [
    "## how many disease in each therapeutic area are associated with each target"
   ]
  },
  {
   "cell_type": "code",
   "execution_count": 76,
   "metadata": {
    "collapsed": false
   },
   "outputs": [],
   "source": [
    "r = requests.post(API + '/public/association/filter', json = {'target':random_genes,'facets':True})"
   ]
  },
  {
   "cell_type": "code",
   "execution_count": 77,
   "metadata": {
    "collapsed": false,
    "scrolled": true
   },
   "outputs": [
    {
     "data": {
      "text/html": [
       "<div id=\"439e63d4-7410-4fdd-bcbc-b038d813582d\" style=\"height: 300px; width:100%;\"></div>"
      ]
     },
     "metadata": {},
     "output_type": "display_data"
    },
    {
     "data": {
      "application/javascript": [
       "\n",
       "        require([\"https://rawgit.com/caldwell/renderjson/master/renderjson.js\"], function() {\n",
       "          document.getElementById('439e63d4-7410-4fdd-bcbc-b038d813582d').appendChild(renderjson({\"from\": 0, \"total\": 1974, \"facets\": {\"direct\": {\"sum_other_doc_count\": 0, \"doc_count_error_upper_bound\": 0, \"buckets\": [{\"key\": \"F\", \"unique_target_count\": {\"value\": 16}, \"doc_count\": 1106, \"unique_disease_count\": {\"value\": 503}}, {\"key\": \"T\", \"unique_target_count\": {\"value\": 16}, \"doc_count\": 868, \"unique_disease_count\": {\"value\": 569}}]}, \"disease\": {\"sum_other_doc_count\": 1863, \"doc_count_error_upper_bound\": 6, \"buckets\": [{\"key\": \"EFO_0000616\", \"unique_target_count\": {\"value\": 16}, \"doc_count\": 16, \"unique_disease_count\": {\"value\": 1}}, {\"key\": \"EFO_0000311\", \"unique_target_count\": {\"value\": 15}, \"doc_count\": 15, \"unique_disease_count\": {\"value\": 1}}, {\"key\": \"EFO_0000313\", \"unique_target_count\": {\"value\": 13}, \"doc_count\": 13, \"unique_disease_count\": {\"value\": 1}}, {\"key\": \"EFO_0000508\", \"unique_target_count\": {\"value\": 11}, \"doc_count\": 11, \"unique_disease_count\": {\"value\": 1}}, {\"key\": \"EFO_0000618\", \"unique_target_count\": {\"value\": 11}, \"doc_count\": 11, \"unique_disease_count\": {\"value\": 1}}, {\"key\": \"EFO_0005774\", \"unique_target_count\": {\"value\": 11}, \"doc_count\": 11, \"unique_disease_count\": {\"value\": 1}}, {\"key\": \"EFO_0000701\", \"unique_target_count\": {\"value\": 10}, \"doc_count\": 10, \"unique_disease_count\": {\"value\": 1}}, {\"key\": \"EFO_0000405\", \"unique_target_count\": {\"value\": 8}, \"doc_count\": 8, \"unique_disease_count\": {\"value\": 1}}, {\"key\": \"EFO_0002461\", \"unique_target_count\": {\"value\": 8}, \"doc_count\": 8, \"unique_disease_count\": {\"value\": 1}}, {\"key\": \"EFO_0003863\", \"unique_target_count\": {\"value\": 8}, \"doc_count\": 8, \"unique_disease_count\": {\"value\": 1}}]}, \"therapeutic_area\": {\"sum_other_doc_count\": 0, \"doc_count_error_upper_bound\": 0, \"buckets\": [{\"key\": \"efo_0000508\", \"unique_target_count\": {\"value\": 11}, \"doc_count\": 710, \"label\": \"genetic disorder\", \"unique_disease_count\": {\"value\": 419}}, {\"key\": \"efo_0000616\", \"unique_target_count\": {\"value\": 16}, \"doc_count\": 371, \"label\": \"neoplasm\", \"unique_disease_count\": {\"value\": 146}}, {\"key\": \"efo_0000651\", \"unique_target_count\": {\"value\": 6}, \"doc_count\": 223, \"label\": \"phenotype\", \"unique_disease_count\": {\"value\": 125}}, {\"key\": \"efo_0000618\", \"unique_target_count\": {\"value\": 11}, \"doc_count\": 213, \"label\": \"nervous system disease\", \"unique_disease_count\": {\"value\": 97}}, {\"key\": \"efo_0002461\", \"unique_target_count\": {\"value\": 10}, \"doc_count\": 133, \"label\": \"skeletal system disease\", \"unique_disease_count\": {\"value\": 76}}, {\"key\": \"efo_0003966\", \"unique_target_count\": {\"value\": 9}, \"doc_count\": 118, \"label\": \"eye disease\", \"unique_disease_count\": {\"value\": 79}}, {\"key\": \"efo_0001379\", \"unique_target_count\": {\"value\": 9}, \"doc_count\": 113, \"label\": \"endocrine system disease\", \"unique_disease_count\": {\"value\": 63}}, {\"key\": \"efo_0000701\", \"unique_target_count\": {\"value\": 10}, \"doc_count\": 98, \"label\": \"skin disease\", \"unique_disease_count\": {\"value\": 62}}, {\"key\": \"efo_0005803\", \"unique_target_count\": {\"value\": 8}, \"doc_count\": 96, \"label\": \"hematological system disease\", \"unique_disease_count\": {\"value\": 53}}, {\"key\": \"efo_0000540\", \"unique_target_count\": {\"value\": 6}, \"doc_count\": 92, \"label\": \"immune system disease\", \"unique_disease_count\": {\"value\": 60}}, {\"key\": \"efo_0000512\", \"unique_target_count\": {\"value\": 6}, \"doc_count\": 89, \"label\": \"reproductive system disease\", \"unique_disease_count\": {\"value\": 59}}, {\"key\": \"efo_0000319\", \"unique_target_count\": {\"value\": 3}, \"doc_count\": 81, \"label\": \"cardiovascular disease\", \"unique_disease_count\": {\"value\": 52}}, {\"key\": \"efo_0000405\", \"unique_target_count\": {\"value\": 8}, \"doc_count\": 74, \"label\": \"digestive system disease\", \"unique_disease_count\": {\"value\": 39}}, {\"key\": \"efo_0000684\", \"unique_target_count\": {\"value\": 7}, \"doc_count\": 69, \"label\": \"respiratory system disease\", \"unique_disease_count\": {\"value\": 41}}, {\"key\": \"efo_0000589\", \"unique_target_count\": {\"value\": 6}, \"doc_count\": 67, \"label\": \"metabolic disease\", \"unique_disease_count\": {\"value\": 47}}, {\"key\": \"efo_0005741\", \"unique_target_count\": {\"value\": 6}, \"doc_count\": 61, \"label\": \"infectious disease\", \"unique_disease_count\": {\"value\": 37}}, {\"key\": \"efo_0002970\", \"unique_target_count\": {\"value\": 7}, \"doc_count\": 54, \"label\": \"muscular disease\", \"unique_disease_count\": {\"value\": 29}}, {\"key\": \"efo_0001444\", \"unique_target_count\": {\"value\": 6}, \"doc_count\": 32, \"label\": \"measurement\", \"unique_disease_count\": {\"value\": 23}}, {\"key\": \"other\", \"unique_target_count\": {\"value\": 3}, \"doc_count\": 22, \"label\": \"other\", \"unique_disease_count\": {\"value\": 14}}]}, \"uniprotkw\": {\"doc_count\": 1974, \"buckets\": [{\"score\": 35.495826556122616, \"unique_target_count\": {\"value\": 1}, \"key\": \"Microsome\", \"doc_count\": 648, \"bg_count\": 6545, \"unique_disease_count\": {\"value\": 648}}, {\"score\": 30.945840583453652, \"unique_target_count\": {\"value\": 1}, \"key\": \"IgG-binding protein\", \"doc_count\": 156, \"bg_count\": 438, \"unique_disease_count\": {\"value\": 156}}, {\"score\": 26.65627567484151, \"unique_target_count\": {\"value\": 1}, \"key\": \"Heme\", \"doc_count\": 648, \"bg_count\": 8689, \"unique_disease_count\": {\"value\": 648}}, {\"score\": 13.13765805967439, \"unique_target_count\": {\"value\": 1}, \"key\": \"Iron\", \"doc_count\": 648, \"bg_count\": 17412, \"unique_disease_count\": {\"value\": 648}}, {\"score\": 9.500177126781844, \"unique_target_count\": {\"value\": 1}, \"key\": \"Wnt signaling pathway\", \"doc_count\": 405, \"bg_count\": 9437, \"unique_disease_count\": {\"value\": 405}}, {\"score\": 8.696701554671655, \"unique_target_count\": {\"value\": 1}, \"key\": \"Oxidoreductase\", \"doc_count\": 648, \"bg_count\": 25980, \"unique_disease_count\": {\"value\": 648}}, {\"score\": 7.247457739213812, \"unique_target_count\": {\"value\": 1}, \"key\": \"Apoptosis\", \"doc_count\": 648, \"bg_count\": 30950, \"unique_disease_count\": {\"value\": 648}}, {\"score\": 4.992102285630942, \"unique_target_count\": {\"value\": 1}, \"key\": \"Endoplasmic reticulum\", \"doc_count\": 648, \"bg_count\": 44070, \"unique_disease_count\": {\"value\": 648}}, {\"score\": 3.267043536981117, \"unique_target_count\": {\"value\": 1}, \"key\": \"Mucolipidosis\", \"doc_count\": 50, \"bg_count\": 424, \"unique_disease_count\": {\"value\": 50}}, {\"score\": 1.881007670367109, \"unique_target_count\": {\"value\": 1}, \"key\": \"Developmental protein\", \"doc_count\": 405, \"bg_count\": 43903, \"unique_disease_count\": {\"value\": 405}}, {\"score\": 1.4300675093211368, \"unique_target_count\": {\"value\": 1}, \"key\": \"Metal-binding\", \"doc_count\": 648, \"bg_count\": 133347, \"unique_disease_count\": {\"value\": 648}}, {\"score\": 1.3303376661634958, \"unique_target_count\": {\"value\": 1}, \"key\": \"G-protein coupled receptor\", \"doc_count\": 247, \"bg_count\": 23406, \"unique_disease_count\": {\"value\": 247}}, {\"score\": 1.141713474824569, \"unique_target_count\": {\"value\": 1}, \"key\": \"Transducer\", \"doc_count\": 247, \"bg_count\": 26891, \"unique_disease_count\": {\"value\": 247}}, {\"score\": 0.9420269320967367, \"unique_target_count\": {\"value\": 2}, \"key\": \"Receptor\", \"doc_count\": 403, \"bg_count\": 79121, \"unique_disease_count\": {\"value\": 338}}, {\"score\": 0.8604087396390796, \"unique_target_count\": {\"value\": 2}, \"key\": \"Secreted\", \"doc_count\": 455, \"bg_count\": 105967, \"unique_disease_count\": {\"value\": 425}}, {\"score\": 0.740462857281699, \"unique_target_count\": {\"value\": 1}, \"key\": \"Ehlers-Danlos syndrome\", \"doc_count\": 46, \"bg_count\": 1547, \"unique_disease_count\": {\"value\": 46}}, {\"score\": 0.7152346022230538, \"unique_target_count\": {\"value\": 5}, \"key\": \"Membrane\", \"doc_count\": 1160, \"bg_count\": 576698, \"unique_disease_count\": {\"value\": 802}}, {\"score\": 0.6975544874268862, \"unique_target_count\": {\"value\": 4}, \"key\": \"Disulfide bond\", \"doc_count\": 858, \"bg_count\": 363065, \"unique_disease_count\": {\"value\": 609}}, {\"score\": 0.6813674403640492, \"unique_target_count\": {\"value\": 4}, \"key\": \"Signal\", \"doc_count\": 858, \"bg_count\": 368331, \"unique_disease_count\": {\"value\": 609}}, {\"score\": 0.6246670531106289, \"unique_target_count\": {\"value\": 7}, \"key\": \"3D-structure\", \"doc_count\": 1610, \"bg_count\": 1004946, \"unique_disease_count\": {\"value\": 895}}, {\"score\": 0.4982898402863066, \"unique_target_count\": {\"value\": 1}, \"key\": \"Immunoglobulin domain\", \"doc_count\": 156, \"bg_count\": 23538, \"unique_disease_count\": {\"value\": 156}}, {\"score\": 0.30261125584017345, \"unique_target_count\": {\"value\": 1}, \"key\": \"Calmodulin-binding\", \"doc_count\": 63, \"bg_count\": 6625, \"unique_disease_count\": {\"value\": 63}}, {\"score\": 0.2489884831677526, \"unique_target_count\": {\"value\": 1}, \"key\": \"Mitosis\", \"doc_count\": 62, \"bg_count\": 7655, \"unique_disease_count\": {\"value\": 62}}, {\"score\": 0.23249824942086397, \"unique_target_count\": {\"value\": 1}, \"key\": \"Manganese\", \"doc_count\": 46, \"bg_count\": 4619, \"unique_disease_count\": {\"value\": 46}}, {\"score\": 0.2291186367616811, \"unique_target_count\": {\"value\": 5}, \"key\": \"Glycoprotein\", \"doc_count\": 904, \"bg_count\": 664155, \"unique_disease_count\": {\"value\": 626}}]}, \"pathway\": {\"sum_other_doc_count\": 0, \"doc_count_error_upper_bound\": 0, \"buckets\": [{\"unique_target_count\": {\"value\": 3}, \"label\": \"Signal Transduction\", \"key\": \"R-HSA-162582\", \"doc_count\": 715, \"pathway\": {\"sum_other_doc_count\": 441, \"doc_count_error_upper_bound\": 0, \"buckets\": [{\"key\": \"R-HSA-201681\", \"unique_target_count\": {\"value\": 1}, \"doc_count\": 405, \"label\": \"TCF dependent signaling in response to WNT\", \"unique_disease_count\": {\"value\": 405}}, {\"key\": \"R-HSA-3772470\", \"unique_target_count\": {\"value\": 1}, \"doc_count\": 405, \"label\": \"Negative regulation of TCF-dependent signaling by WNT ligand antagonists\", \"unique_disease_count\": {\"value\": 405}}, {\"key\": \"R-HSA-5339717\", \"unique_target_count\": {\"value\": 1}, \"doc_count\": 405, \"label\": \"Misspliced LRP5 mutants have enhanced beta-catenin-dependent signaling\", \"unique_disease_count\": {\"value\": 405}}, {\"key\": \"R-HSA-416476\", \"unique_target_count\": {\"value\": 1}, \"doc_count\": 247, \"label\": \"G alpha (q) signalling events\", \"unique_disease_count\": {\"value\": 247}}, {\"key\": \"R-HSA-420499\", \"unique_target_count\": {\"value\": 1}, \"doc_count\": 247, \"label\": \"Class C/3 (Metabotropic glutamate/pheromone receptors)\", \"unique_disease_count\": {\"value\": 247}}, {\"key\": \"R-HSA-3371571\", \"unique_target_count\": {\"value\": 1}, \"doc_count\": 63, \"label\": \"HSF1-dependent transactivation\", \"unique_disease_count\": {\"value\": 63}}, {\"key\": \"R-HSA-399719\", \"unique_target_count\": {\"value\": 1}, \"doc_count\": 63, \"label\": \"Trafficking of AMPA receptors\", \"unique_disease_count\": {\"value\": 63}}, {\"key\": \"R-HSA-4086398\", \"unique_target_count\": {\"value\": 1}, \"doc_count\": 63, \"label\": \"Ca2+ pathway\", \"unique_disease_count\": {\"value\": 63}}, {\"key\": \"R-HSA-438066\", \"unique_target_count\": {\"value\": 1}, \"doc_count\": 63, \"label\": \"Unblocking of NMDA receptor, glutamate binding and activation\", \"unique_disease_count\": {\"value\": 63}}, {\"key\": \"R-HSA-442729\", \"unique_target_count\": {\"value\": 1}, \"doc_count\": 63, \"label\": \"CREB phosphorylation through the activation of CaMKII\", \"unique_disease_count\": {\"value\": 63}}]}, \"unique_disease_count\": {\"value\": 538}}, {\"unique_target_count\": {\"value\": 2}, \"label\": \"Transmembrane transport of small molecules\", \"key\": \"R-HSA-382551\", \"doc_count\": 711, \"pathway\": {\"sum_other_doc_count\": 252, \"doc_count_error_upper_bound\": 0, \"buckets\": [{\"key\": \"R-HSA-189483\", \"unique_target_count\": {\"value\": 1}, \"doc_count\": 648, \"label\": \"Heme degradation\", \"unique_disease_count\": {\"value\": 648}}, {\"key\": \"R-HSA-917937\", \"unique_target_count\": {\"value\": 1}, \"doc_count\": 648, \"label\": \"Iron uptake and transport\", \"unique_disease_count\": {\"value\": 648}}, {\"key\": \"R-HSA-3371571\", \"unique_target_count\": {\"value\": 1}, \"doc_count\": 63, \"label\": \"HSF1-dependent transactivation\", \"unique_disease_count\": {\"value\": 63}}, {\"key\": \"R-HSA-399719\", \"unique_target_count\": {\"value\": 1}, \"doc_count\": 63, \"label\": \"Trafficking of AMPA receptors\", \"unique_disease_count\": {\"value\": 63}}, {\"key\": \"R-HSA-4086398\", \"unique_target_count\": {\"value\": 1}, \"doc_count\": 63, \"label\": \"Ca2+ pathway\", \"unique_disease_count\": {\"value\": 63}}, {\"key\": \"R-HSA-438066\", \"unique_target_count\": {\"value\": 1}, \"doc_count\": 63, \"label\": \"Unblocking of NMDA receptor, glutamate binding and activation\", \"unique_disease_count\": {\"value\": 63}}, {\"key\": \"R-HSA-442729\", \"unique_target_count\": {\"value\": 1}, \"doc_count\": 63, \"label\": \"CREB phosphorylation through the activation of CaMKII\", \"unique_disease_count\": {\"value\": 63}}, {\"key\": \"R-HSA-442742\", \"unique_target_count\": {\"value\": 1}, \"doc_count\": 63, \"label\": \"CREB phosphorylation through the activation of Ras\", \"unique_disease_count\": {\"value\": 63}}, {\"key\": \"R-HSA-442982\", \"unique_target_count\": {\"value\": 1}, \"doc_count\": 63, \"label\": \"Ras activation uopn Ca2+ infux through NMDA receptor\", \"unique_disease_count\": {\"value\": 63}}, {\"key\": \"R-HSA-5576892\", \"unique_target_count\": {\"value\": 1}, \"doc_count\": 63, \"label\": \"R-HSA-5576892\", \"unique_disease_count\": {\"value\": 63}}]}, \"unique_disease_count\": {\"value\": 677}}, {\"unique_target_count\": {\"value\": 2}, \"label\": \"Metabolism\", \"key\": \"R-HSA-1430728\", \"doc_count\": 694, \"pathway\": {\"sum_other_doc_count\": 0, \"doc_count_error_upper_bound\": 0, \"buckets\": [{\"key\": \"R-HSA-189483\", \"unique_target_count\": {\"value\": 1}, \"doc_count\": 648, \"label\": \"Heme degradation\", \"unique_disease_count\": {\"value\": 648}}, {\"key\": \"R-HSA-917937\", \"unique_target_count\": {\"value\": 1}, \"doc_count\": 648, \"label\": \"Iron uptake and transport\", \"unique_disease_count\": {\"value\": 648}}, {\"key\": \"R-HSA-1971475\", \"unique_target_count\": {\"value\": 1}, \"doc_count\": 46, \"label\": \"A tetrasaccharide linker sequence is required for GAG synthesis\", \"unique_disease_count\": {\"value\": 46}}, {\"key\": \"R-HSA-4420332\", \"unique_target_count\": {\"value\": 1}, \"doc_count\": 46, \"label\": \"Defective B3GALT6 causes EDSP2 and SEMDJL1\", \"unique_disease_count\": {\"value\": 46}}]}, \"unique_disease_count\": {\"value\": 668}}, {\"unique_target_count\": {\"value\": 2}, \"label\": \"Disease\", \"key\": \"R-HSA-1643685\", \"doc_count\": 451, \"pathway\": {\"sum_other_doc_count\": 0, \"doc_count_error_upper_bound\": 0, \"buckets\": [{\"key\": \"R-HSA-201681\", \"unique_target_count\": {\"value\": 1}, \"doc_count\": 405, \"label\": \"TCF dependent signaling in response to WNT\", \"unique_disease_count\": {\"value\": 405}}, {\"key\": \"R-HSA-3772470\", \"unique_target_count\": {\"value\": 1}, \"doc_count\": 405, \"label\": \"Negative regulation of TCF-dependent signaling by WNT ligand antagonists\", \"unique_disease_count\": {\"value\": 405}}, {\"key\": \"R-HSA-5339717\", \"unique_target_count\": {\"value\": 1}, \"doc_count\": 405, \"label\": \"Misspliced LRP5 mutants have enhanced beta-catenin-dependent signaling\", \"unique_disease_count\": {\"value\": 405}}, {\"key\": \"R-HSA-1971475\", \"unique_target_count\": {\"value\": 1}, \"doc_count\": 46, \"label\": \"A tetrasaccharide linker sequence is required for GAG synthesis\", \"unique_disease_count\": {\"value\": 46}}, {\"key\": \"R-HSA-4420332\", \"unique_target_count\": {\"value\": 1}, \"doc_count\": 46, \"label\": \"Defective B3GALT6 causes EDSP2 and SEMDJL1\", \"unique_disease_count\": {\"value\": 46}}]}, \"unique_disease_count\": {\"value\": 425}}, {\"unique_target_count\": {\"value\": 2}, \"label\": \"Immune System\", \"key\": \"R-HSA-168256\", \"doc_count\": 125, \"pathway\": {\"sum_other_doc_count\": 994, \"doc_count_error_upper_bound\": 0, \"buckets\": [{\"key\": \"R-HSA-3371571\", \"unique_target_count\": {\"value\": 1}, \"doc_count\": 63, \"label\": \"HSF1-dependent transactivation\", \"unique_disease_count\": {\"value\": 63}}, {\"key\": \"R-HSA-399719\", \"unique_target_count\": {\"value\": 1}, \"doc_count\": 63, \"label\": \"Trafficking of AMPA receptors\", \"unique_disease_count\": {\"value\": 63}}, {\"key\": \"R-HSA-4086398\", \"unique_target_count\": {\"value\": 1}, \"doc_count\": 63, \"label\": \"Ca2+ pathway\", \"unique_disease_count\": {\"value\": 63}}, {\"key\": \"R-HSA-438066\", \"unique_target_count\": {\"value\": 1}, \"doc_count\": 63, \"label\": \"Unblocking of NMDA receptor, glutamate binding and activation\", \"unique_disease_count\": {\"value\": 63}}, {\"key\": \"R-HSA-442729\", \"unique_target_count\": {\"value\": 1}, \"doc_count\": 63, \"label\": \"CREB phosphorylation through the activation of CaMKII\", \"unique_disease_count\": {\"value\": 63}}, {\"key\": \"R-HSA-442742\", \"unique_target_count\": {\"value\": 1}, \"doc_count\": 63, \"label\": \"CREB phosphorylation through the activation of Ras\", \"unique_disease_count\": {\"value\": 63}}, {\"key\": \"R-HSA-442982\", \"unique_target_count\": {\"value\": 1}, \"doc_count\": 63, \"label\": \"Ras activation uopn Ca2+ infux through NMDA receptor\", \"unique_disease_count\": {\"value\": 63}}, {\"key\": \"R-HSA-5576892\", \"unique_target_count\": {\"value\": 1}, \"doc_count\": 63, \"label\": \"R-HSA-5576892\", \"unique_disease_count\": {\"value\": 63}}, {\"key\": \"R-HSA-5578775\", \"unique_target_count\": {\"value\": 1}, \"doc_count\": 63, \"label\": \"R-HSA-5578775\", \"unique_disease_count\": {\"value\": 63}}, {\"key\": \"R-HSA-5673001\", \"unique_target_count\": {\"value\": 1}, \"doc_count\": 63, \"label\": \"RAF/MAP kinase cascade\", \"unique_disease_count\": {\"value\": 63}}]}, \"unique_disease_count\": {\"value\": 109}}, {\"unique_target_count\": {\"value\": 2}, \"label\": \"Cellular responses to stress\", \"key\": \"R-HSA-2262752\", \"doc_count\": 125, \"pathway\": {\"sum_other_doc_count\": 994, \"doc_count_error_upper_bound\": 0, \"buckets\": [{\"key\": \"R-HSA-3371571\", \"unique_target_count\": {\"value\": 1}, \"doc_count\": 63, \"label\": \"HSF1-dependent transactivation\", \"unique_disease_count\": {\"value\": 63}}, {\"key\": \"R-HSA-399719\", \"unique_target_count\": {\"value\": 1}, \"doc_count\": 63, \"label\": \"Trafficking of AMPA receptors\", \"unique_disease_count\": {\"value\": 63}}, {\"key\": \"R-HSA-4086398\", \"unique_target_count\": {\"value\": 1}, \"doc_count\": 63, \"label\": \"Ca2+ pathway\", \"unique_disease_count\": {\"value\": 63}}, {\"key\": \"R-HSA-438066\", \"unique_target_count\": {\"value\": 1}, \"doc_count\": 63, \"label\": \"Unblocking of NMDA receptor, glutamate binding and activation\", \"unique_disease_count\": {\"value\": 63}}, {\"key\": \"R-HSA-442729\", \"unique_target_count\": {\"value\": 1}, \"doc_count\": 63, \"label\": \"CREB phosphorylation through the activation of CaMKII\", \"unique_disease_count\": {\"value\": 63}}, {\"key\": \"R-HSA-442742\", \"unique_target_count\": {\"value\": 1}, \"doc_count\": 63, \"label\": \"CREB phosphorylation through the activation of Ras\", \"unique_disease_count\": {\"value\": 63}}, {\"key\": \"R-HSA-442982\", \"unique_target_count\": {\"value\": 1}, \"doc_count\": 63, \"label\": \"Ras activation uopn Ca2+ infux through NMDA receptor\", \"unique_disease_count\": {\"value\": 63}}, {\"key\": \"R-HSA-5576892\", \"unique_target_count\": {\"value\": 1}, \"doc_count\": 63, \"label\": \"R-HSA-5576892\", \"unique_disease_count\": {\"value\": 63}}, {\"key\": \"R-HSA-5578775\", \"unique_target_count\": {\"value\": 1}, \"doc_count\": 63, \"label\": \"R-HSA-5578775\", \"unique_disease_count\": {\"value\": 63}}, {\"key\": \"R-HSA-5673001\", \"unique_target_count\": {\"value\": 1}, \"doc_count\": 63, \"label\": \"RAF/MAP kinase cascade\", \"unique_disease_count\": {\"value\": 63}}]}, \"unique_disease_count\": {\"value\": 109}}, {\"unique_target_count\": {\"value\": 1}, \"label\": \"Neuronal System\", \"key\": \"R-HSA-112316\", \"doc_count\": 63, \"pathway\": {\"sum_other_doc_count\": 126, \"doc_count_error_upper_bound\": 0, \"buckets\": [{\"key\": \"R-HSA-3371571\", \"unique_target_count\": {\"value\": 1}, \"doc_count\": 63, \"label\": \"HSF1-dependent transactivation\", \"unique_disease_count\": {\"value\": 63}}, {\"key\": \"R-HSA-399719\", \"unique_target_count\": {\"value\": 1}, \"doc_count\": 63, \"label\": \"Trafficking of AMPA receptors\", \"unique_disease_count\": {\"value\": 63}}, {\"key\": \"R-HSA-4086398\", \"unique_target_count\": {\"value\": 1}, \"doc_count\": 63, \"label\": \"Ca2+ pathway\", \"unique_disease_count\": {\"value\": 63}}, {\"key\": \"R-HSA-438066\", \"unique_target_count\": {\"value\": 1}, \"doc_count\": 63, \"label\": \"Unblocking of NMDA receptor, glutamate binding and activation\", \"unique_disease_count\": {\"value\": 63}}, {\"key\": \"R-HSA-442729\", \"unique_target_count\": {\"value\": 1}, \"doc_count\": 63, \"label\": \"CREB phosphorylation through the activation of CaMKII\", \"unique_disease_count\": {\"value\": 63}}, {\"key\": \"R-HSA-442742\", \"unique_target_count\": {\"value\": 1}, \"doc_count\": 63, \"label\": \"CREB phosphorylation through the activation of Ras\", \"unique_disease_count\": {\"value\": 63}}, {\"key\": \"R-HSA-442982\", \"unique_target_count\": {\"value\": 1}, \"doc_count\": 63, \"label\": \"Ras activation uopn Ca2+ infux through NMDA receptor\", \"unique_disease_count\": {\"value\": 63}}, {\"key\": \"R-HSA-5576892\", \"unique_target_count\": {\"value\": 1}, \"doc_count\": 63, \"label\": \"R-HSA-5576892\", \"unique_disease_count\": {\"value\": 63}}, {\"key\": \"R-HSA-5578775\", \"unique_target_count\": {\"value\": 1}, \"doc_count\": 63, \"label\": \"R-HSA-5578775\", \"unique_disease_count\": {\"value\": 63}}, {\"key\": \"R-HSA-5673001\", \"unique_target_count\": {\"value\": 1}, \"doc_count\": 63, \"label\": \"RAF/MAP kinase cascade\", \"unique_disease_count\": {\"value\": 63}}]}, \"unique_disease_count\": {\"value\": 63}}, {\"unique_target_count\": {\"value\": 1}, \"label\": \"Developmental Biology\", \"key\": \"R-HSA-1266738\", \"doc_count\": 63, \"pathway\": {\"sum_other_doc_count\": 126, \"doc_count_error_upper_bound\": 0, \"buckets\": [{\"key\": \"R-HSA-3371571\", \"unique_target_count\": {\"value\": 1}, \"doc_count\": 63, \"label\": \"HSF1-dependent transactivation\", \"unique_disease_count\": {\"value\": 63}}, {\"key\": \"R-HSA-399719\", \"unique_target_count\": {\"value\": 1}, \"doc_count\": 63, \"label\": \"Trafficking of AMPA receptors\", \"unique_disease_count\": {\"value\": 63}}, {\"key\": \"R-HSA-4086398\", \"unique_target_count\": {\"value\": 1}, \"doc_count\": 63, \"label\": \"Ca2+ pathway\", \"unique_disease_count\": {\"value\": 63}}, {\"key\": \"R-HSA-438066\", \"unique_target_count\": {\"value\": 1}, \"doc_count\": 63, \"label\": \"Unblocking of NMDA receptor, glutamate binding and activation\", \"unique_disease_count\": {\"value\": 63}}, {\"key\": \"R-HSA-442729\", \"unique_target_count\": {\"value\": 1}, \"doc_count\": 63, \"label\": \"CREB phosphorylation through the activation of CaMKII\", \"unique_disease_count\": {\"value\": 63}}, {\"key\": \"R-HSA-442742\", \"unique_target_count\": {\"value\": 1}, \"doc_count\": 63, \"label\": \"CREB phosphorylation through the activation of Ras\", \"unique_disease_count\": {\"value\": 63}}, {\"key\": \"R-HSA-442982\", \"unique_target_count\": {\"value\": 1}, \"doc_count\": 63, \"label\": \"Ras activation uopn Ca2+ infux through NMDA receptor\", \"unique_disease_count\": {\"value\": 63}}, {\"key\": \"R-HSA-5576892\", \"unique_target_count\": {\"value\": 1}, \"doc_count\": 63, \"label\": \"R-HSA-5576892\", \"unique_disease_count\": {\"value\": 63}}, {\"key\": \"R-HSA-5578775\", \"unique_target_count\": {\"value\": 1}, \"doc_count\": 63, \"label\": \"R-HSA-5578775\", \"unique_disease_count\": {\"value\": 63}}, {\"key\": \"R-HSA-5673001\", \"unique_target_count\": {\"value\": 1}, \"doc_count\": 63, \"label\": \"RAF/MAP kinase cascade\", \"unique_disease_count\": {\"value\": 63}}]}, \"unique_disease_count\": {\"value\": 63}}, {\"unique_target_count\": {\"value\": 1}, \"label\": \"Muscle contraction\", \"key\": \"R-HSA-397014\", \"doc_count\": 63, \"pathway\": {\"sum_other_doc_count\": 126, \"doc_count_error_upper_bound\": 0, \"buckets\": [{\"key\": \"R-HSA-3371571\", \"unique_target_count\": {\"value\": 1}, \"doc_count\": 63, \"label\": \"HSF1-dependent transactivation\", \"unique_disease_count\": {\"value\": 63}}, {\"key\": \"R-HSA-399719\", \"unique_target_count\": {\"value\": 1}, \"doc_count\": 63, \"label\": \"Trafficking of AMPA receptors\", \"unique_disease_count\": {\"value\": 63}}, {\"key\": \"R-HSA-4086398\", \"unique_target_count\": {\"value\": 1}, \"doc_count\": 63, \"label\": \"Ca2+ pathway\", \"unique_disease_count\": {\"value\": 63}}, {\"key\": \"R-HSA-438066\", \"unique_target_count\": {\"value\": 1}, \"doc_count\": 63, \"label\": \"Unblocking of NMDA receptor, glutamate binding and activation\", \"unique_disease_count\": {\"value\": 63}}, {\"key\": \"R-HSA-442729\", \"unique_target_count\": {\"value\": 1}, \"doc_count\": 63, \"label\": \"CREB phosphorylation through the activation of CaMKII\", \"unique_disease_count\": {\"value\": 63}}, {\"key\": \"R-HSA-442742\", \"unique_target_count\": {\"value\": 1}, \"doc_count\": 63, \"label\": \"CREB phosphorylation through the activation of Ras\", \"unique_disease_count\": {\"value\": 63}}, {\"key\": \"R-HSA-442982\", \"unique_target_count\": {\"value\": 1}, \"doc_count\": 63, \"label\": \"Ras activation uopn Ca2+ infux through NMDA receptor\", \"unique_disease_count\": {\"value\": 63}}, {\"key\": \"R-HSA-5576892\", \"unique_target_count\": {\"value\": 1}, \"doc_count\": 63, \"label\": \"R-HSA-5576892\", \"unique_disease_count\": {\"value\": 63}}, {\"key\": \"R-HSA-5578775\", \"unique_target_count\": {\"value\": 1}, \"doc_count\": 63, \"label\": \"R-HSA-5578775\", \"unique_disease_count\": {\"value\": 63}}, {\"key\": \"R-HSA-5673001\", \"unique_target_count\": {\"value\": 1}, \"doc_count\": 63, \"label\": \"RAF/MAP kinase cascade\", \"unique_disease_count\": {\"value\": 63}}]}, \"unique_disease_count\": {\"value\": 63}}, {\"unique_target_count\": {\"value\": 1}, \"label\": \"Cell Cycle\", \"key\": \"R-HSA-1640170\", \"doc_count\": 62, \"pathway\": {\"sum_other_doc_count\": 248, \"doc_count_error_upper_bound\": 0, \"buckets\": [{\"key\": \"R-HSA-141430\", \"unique_target_count\": {\"value\": 1}, \"doc_count\": 62, \"label\": \"Inactivation of APC/C via direct inhibition of the APC/C complex\", \"unique_disease_count\": {\"value\": 62}}, {\"key\": \"R-HSA-174048\", \"unique_target_count\": {\"value\": 1}, \"doc_count\": 62, \"label\": \"APC/C:Cdc20 mediated degradation of Cyclin B\", \"unique_disease_count\": {\"value\": 62}}, {\"key\": \"R-HSA-174084\", \"unique_target_count\": {\"value\": 1}, \"doc_count\": 62, \"label\": \"Autodegradation of Cdh1 by Cdh1:APC/C\", \"unique_disease_count\": {\"value\": 62}}, {\"key\": \"R-HSA-174154\", \"unique_target_count\": {\"value\": 1}, \"doc_count\": 62, \"label\": \"APC/C:Cdc20 mediated degradation of Securin\", \"unique_disease_count\": {\"value\": 62}}, {\"key\": \"R-HSA-174178\", \"unique_target_count\": {\"value\": 1}, \"doc_count\": 62, \"label\": \"APC/C:Cdh1 mediated degradation of Cdc20 and other APC/C:Cdh1 targeted proteins in late mitosis/early G1\", \"unique_disease_count\": {\"value\": 62}}, {\"key\": \"R-HSA-174184\", \"unique_target_count\": {\"value\": 1}, \"doc_count\": 62, \"label\": \"Cdc20:Phospho-APC/C mediated degradation of Cyclin A\", \"unique_disease_count\": {\"value\": 62}}, {\"key\": \"R-HSA-176407\", \"unique_target_count\": {\"value\": 1}, \"doc_count\": 62, \"label\": \"Conversion from APC/C:Cdc20 to APC/C:Cdh1 in late anaphase\", \"unique_disease_count\": {\"value\": 62}}, {\"key\": \"R-HSA-176408\", \"unique_target_count\": {\"value\": 1}, \"doc_count\": 62, \"label\": \"Regulation of APC/C activators between G1/S and early anaphase\", \"unique_disease_count\": {\"value\": 62}}, {\"key\": \"R-HSA-176409\", \"unique_target_count\": {\"value\": 1}, \"doc_count\": 62, \"label\": \"APC/C:Cdc20 mediated degradation of mitotic proteins\", \"unique_disease_count\": {\"value\": 62}}, {\"key\": \"R-HSA-176412\", \"unique_target_count\": {\"value\": 1}, \"doc_count\": 62, \"label\": \"Phosphorylation of the APC/C\", \"unique_disease_count\": {\"value\": 62}}]}, \"unique_disease_count\": {\"value\": 62}}]}, \"datatype\": {\"sum_other_doc_count\": 0, \"doc_count_error_upper_bound\": 0, \"buckets\": [{\"key\": \"literature\", \"unique_target_count\": {\"value\": 11}, \"datasource\": {\"sum_other_doc_count\": 0, \"doc_count_error_upper_bound\": 0, \"buckets\": [{\"key\": \"europepmc\", \"unique_target_count\": {\"value\": 11}, \"doc_count\": 1592, \"unique_disease_count\": {\"value\": 874}}]}, \"doc_count\": 1592, \"unique_disease_count\": {\"value\": 874}}, {\"key\": \"rna_expression\", \"unique_target_count\": {\"value\": 13}, \"datasource\": {\"sum_other_doc_count\": 0, \"doc_count_error_upper_bound\": 0, \"buckets\": [{\"key\": \"expression_atlas\", \"unique_target_count\": {\"value\": 13}, \"doc_count\": 347, \"unique_disease_count\": {\"value\": 123}}]}, \"doc_count\": 347, \"unique_disease_count\": {\"value\": 123}}, {\"key\": \"animal_model\", \"unique_target_count\": {\"value\": 4}, \"datasource\": {\"sum_other_doc_count\": 0, \"doc_count_error_upper_bound\": 0, \"buckets\": [{\"key\": \"phenodigm\", \"unique_target_count\": {\"value\": 4}, \"doc_count\": 200, \"unique_disease_count\": {\"value\": 192}}]}, \"doc_count\": 200, \"unique_disease_count\": {\"value\": 192}}, {\"key\": \"genetic_association\", \"unique_target_count\": {\"value\": 9}, \"datasource\": {\"sum_other_doc_count\": 0, \"doc_count_error_upper_bound\": 0, \"buckets\": [{\"key\": \"gwas_catalog\", \"unique_target_count\": {\"value\": 7}, \"doc_count\": 62, \"unique_disease_count\": {\"value\": 51}}, {\"key\": \"uniprot_literature\", \"unique_target_count\": {\"value\": 2}, \"doc_count\": 43, \"unique_disease_count\": {\"value\": 35}}, {\"key\": \"eva\", \"unique_target_count\": {\"value\": 2}, \"doc_count\": 38, \"unique_disease_count\": {\"value\": 33}}, {\"key\": \"uniprot\", \"unique_target_count\": {\"value\": 1}, \"doc_count\": 22, \"unique_disease_count\": {\"value\": 22}}]}, \"doc_count\": 105, \"unique_disease_count\": {\"value\": 85}}, {\"key\": \"known_drug\", \"unique_target_count\": {\"value\": 1}, \"datasource\": {\"sum_other_doc_count\": 0, \"doc_count_error_upper_bound\": 0, \"buckets\": [{\"key\": \"chembl\", \"unique_target_count\": {\"value\": 1}, \"doc_count\": 37, \"unique_disease_count\": {\"value\": 37}}]}, \"doc_count\": 37, \"unique_disease_count\": {\"value\": 37}}, {\"key\": \"affected_pathway\", \"unique_target_count\": {\"value\": 1}, \"datasource\": {\"sum_other_doc_count\": 0, \"doc_count_error_upper_bound\": 0, \"buckets\": [{\"key\": \"reactome\", \"unique_target_count\": {\"value\": 1}, \"doc_count\": 16, \"unique_disease_count\": {\"value\": 16}}]}, \"doc_count\": 16, \"unique_disease_count\": {\"value\": 16}}]}}, \"therapeutic_areas\": [], \"took\": 207, \"size\": 10, \"data\": [{\"id\": \"ENSG00000176022-Orphanet_183530\", \"disease\": {\"id\": \"Orphanet_183530\", \"efo_info\": {\"therapeutic_area\": {\"codes\": [\"EFO_0000508\"], \"labels\": [\"genetic disorder\"]}, \"label\": \"Rare genetic developmental defect during embryogenesis\", \"path\": [[\"EFO_0000508\", \"Orphanet_183530\"]]}}, \"association_score\": {\"overall\": 1.0, \"datatypes\": {\"rna_expression\": 0.0, \"literature\": 0.05213333333333333, \"somatic_mutation\": 0.0, \"animal_model\": 0.0, \"affected_pathway\": 1.0, \"genetic_association\": 1.0, \"known_drug\": 0.0}, \"datasources\": {\"expression_atlas\": 0.0, \"cancer_gene_census\": 0.0, \"disgenet\": 0.0, \"gwas_catalog\": 0.0, \"phenodigm\": 0.0, \"europepmc\": 0.05213333333333333, \"uniprot\": 0.7, \"eva\": 1.0, \"reactome\": 1.0, \"uniprot_literature\": 1.0, \"chembl\": 0.0, \"eva_somatic\": 0.0}}, \"is_direct\": false, \"target\": {\"id\": \"ENSG00000176022\", \"gene_info\": {\"symbol\": \"B3GALT6\", \"name\": \"Beta-1,3-galactosyltransferase 6\"}}, \"evidence_count\": {\"total\": 35.0, \"datatypes\": {\"rna_expression\": 0.0, \"literature\": 6.0, \"somatic_mutation\": 0.0, \"animal_model\": 0.0, \"affected_pathway\": 20.0, \"genetic_association\": 9.0, \"known_drug\": 0.0}, \"datasources\": {\"expression_atlas\": 0.0, \"cancer_gene_census\": 0.0, \"disgenet\": 0.0, \"gwas_catalog\": 0.0, \"phenodigm\": 0.0, \"europepmc\": 6.0, \"uniprot\": 1.0, \"eva\": 6.0, \"reactome\": 20.0, \"uniprot_literature\": 2.0, \"chembl\": 0.0, \"eva_somatic\": 0.0}}}, {\"id\": \"ENSG00000176022-EFO_0000508\", \"disease\": {\"id\": \"EFO_0000508\", \"efo_info\": {\"therapeutic_area\": {\"codes\": [], \"labels\": []}, \"label\": \"genetic disorder\", \"path\": [[\"EFO_0000508\"]]}}, \"association_score\": {\"overall\": 1.0, \"datatypes\": {\"rna_expression\": 0.0, \"literature\": 0.05213333333333333, \"somatic_mutation\": 0.0, \"animal_model\": 0.0, \"affected_pathway\": 1.0, \"genetic_association\": 1.0, \"known_drug\": 0.0}, \"datasources\": {\"expression_atlas\": 0.0, \"cancer_gene_census\": 0.0, \"disgenet\": 0.0, \"gwas_catalog\": 0.0, \"phenodigm\": 0.0, \"europepmc\": 0.05213333333333333, \"uniprot\": 0.7, \"eva\": 1.0, \"reactome\": 1.0, \"uniprot_literature\": 1.0, \"chembl\": 0.0, \"eva_somatic\": 0.0}}, \"is_direct\": false, \"target\": {\"id\": \"ENSG00000176022\", \"gene_info\": {\"symbol\": \"B3GALT6\", \"name\": \"Beta-1,3-galactosyltransferase 6\"}}, \"evidence_count\": {\"total\": 35.0, \"datatypes\": {\"rna_expression\": 0.0, \"literature\": 6.0, \"somatic_mutation\": 0.0, \"animal_model\": 0.0, \"affected_pathway\": 20.0, \"genetic_association\": 9.0, \"known_drug\": 0.0}, \"datasources\": {\"expression_atlas\": 0.0, \"cancer_gene_census\": 0.0, \"disgenet\": 0.0, \"gwas_catalog\": 0.0, \"phenodigm\": 0.0, \"europepmc\": 6.0, \"uniprot\": 1.0, \"eva\": 6.0, \"reactome\": 20.0, \"uniprot_literature\": 2.0, \"chembl\": 0.0, \"eva_somatic\": 0.0}}}, {\"id\": \"ENSG00000176022-Orphanet_68346\", \"disease\": {\"id\": \"Orphanet_68346\", \"efo_info\": {\"therapeutic_area\": {\"codes\": [\"EFO_0000701\", \"EFO_0000508\"], \"labels\": [\"skin disease\", \"genetic disorder\"]}, \"label\": \"Rare genetic skin disease\", \"path\": [[\"EFO_0000508\", \"Orphanet_68346\"], [\"EFO_0000701\", \"Orphanet_68346\"]]}}, \"association_score\": {\"overall\": 1.0, \"datatypes\": {\"rna_expression\": 0.0, \"literature\": 0.05213333333333333, \"somatic_mutation\": 0.0, \"animal_model\": 0.0, \"affected_pathway\": 1.0, \"genetic_association\": 1.0, \"known_drug\": 0.0}, \"datasources\": {\"expression_atlas\": 0.0, \"cancer_gene_census\": 0.0, \"disgenet\": 0.0, \"gwas_catalog\": 0.0, \"phenodigm\": 0.0, \"europepmc\": 0.05213333333333333, \"uniprot\": 0.7, \"eva\": 1.0, \"reactome\": 1.0, \"uniprot_literature\": 1.0, \"chembl\": 0.0, \"eva_somatic\": 0.0}}, \"is_direct\": false, \"target\": {\"id\": \"ENSG00000176022\", \"gene_info\": {\"symbol\": \"B3GALT6\", \"name\": \"Beta-1,3-galactosyltransferase 6\"}}, \"evidence_count\": {\"total\": 25.0, \"datatypes\": {\"rna_expression\": 0.0, \"literature\": 6.0, \"somatic_mutation\": 0.0, \"animal_model\": 0.0, \"affected_pathway\": 10.0, \"genetic_association\": 9.0, \"known_drug\": 0.0}, \"datasources\": {\"expression_atlas\": 0.0, \"cancer_gene_census\": 0.0, \"disgenet\": 0.0, \"gwas_catalog\": 0.0, \"phenodigm\": 0.0, \"europepmc\": 6.0, \"uniprot\": 1.0, \"eva\": 6.0, \"reactome\": 10.0, \"uniprot_literature\": 2.0, \"chembl\": 0.0, \"eva_somatic\": 0.0}}}, {\"id\": \"ENSG00000176022-EFO_0000701\", \"disease\": {\"id\": \"EFO_0000701\", \"efo_info\": {\"therapeutic_area\": {\"codes\": [], \"labels\": []}, \"label\": \"skin disease\", \"path\": [[\"EFO_0000701\"]]}}, \"association_score\": {\"overall\": 1.0, \"datatypes\": {\"rna_expression\": 0.0, \"literature\": 0.05213333333333333, \"somatic_mutation\": 0.0, \"animal_model\": 0.0, \"affected_pathway\": 1.0, \"genetic_association\": 1.0, \"known_drug\": 0.0}, \"datasources\": {\"expression_atlas\": 0.0, \"cancer_gene_census\": 0.0, \"disgenet\": 0.0, \"gwas_catalog\": 0.0, \"phenodigm\": 0.0, \"europepmc\": 0.05213333333333333, \"uniprot\": 0.7, \"eva\": 1.0, \"reactome\": 1.0, \"uniprot_literature\": 1.0, \"chembl\": 0.0, \"eva_somatic\": 0.0}}, \"is_direct\": false, \"target\": {\"id\": \"ENSG00000176022\", \"gene_info\": {\"symbol\": \"B3GALT6\", \"name\": \"Beta-1,3-galactosyltransferase 6\"}}, \"evidence_count\": {\"total\": 25.0, \"datatypes\": {\"rna_expression\": 0.0, \"literature\": 6.0, \"somatic_mutation\": 0.0, \"animal_model\": 0.0, \"affected_pathway\": 10.0, \"genetic_association\": 9.0, \"known_drug\": 0.0}, \"datasources\": {\"expression_atlas\": 0.0, \"cancer_gene_census\": 0.0, \"disgenet\": 0.0, \"gwas_catalog\": 0.0, \"phenodigm\": 0.0, \"europepmc\": 6.0, \"uniprot\": 1.0, \"eva\": 6.0, \"reactome\": 10.0, \"uniprot_literature\": 2.0, \"chembl\": 0.0, \"eva_somatic\": 0.0}}}, {\"id\": \"ENSG00000176022-Orphanet_183524\", \"disease\": {\"id\": \"Orphanet_183524\", \"efo_info\": {\"therapeutic_area\": {\"codes\": [\"EFO_0002461\", \"EFO_0000508\"], \"labels\": [\"genetic disorder\", \"skeletal system disease\"]}, \"label\": \"Rare genetic bone disease\", \"path\": [[\"EFO_0000508\", \"Orphanet_183524\"], [\"EFO_0002461\", \"EFO_0004260\", \"Orphanet_183524\"]]}}, \"association_score\": {\"overall\": 1.0, \"datatypes\": {\"rna_expression\": 0.0, \"literature\": 0.024, \"somatic_mutation\": 0.0, \"animal_model\": 0.0, \"affected_pathway\": 1.0, \"genetic_association\": 1.0, \"known_drug\": 0.0}, \"datasources\": {\"expression_atlas\": 0.0, \"cancer_gene_census\": 0.0, \"disgenet\": 0.0, \"gwas_catalog\": 0.0, \"phenodigm\": 0.0, \"europepmc\": 0.024, \"uniprot\": 0.7, \"eva\": 1.0, \"reactome\": 1.0, \"uniprot_literature\": 1.0, \"chembl\": 0.0, \"eva_somatic\": 0.0}}, \"is_direct\": false, \"target\": {\"id\": \"ENSG00000176022\", \"gene_info\": {\"symbol\": \"B3GALT6\", \"name\": \"Beta-1,3-galactosyltransferase 6\"}}, \"evidence_count\": {\"total\": 21.0, \"datatypes\": {\"rna_expression\": 0.0, \"literature\": 2.0, \"somatic_mutation\": 0.0, \"animal_model\": 0.0, \"affected_pathway\": 10.0, \"genetic_association\": 9.0, \"known_drug\": 0.0}, \"datasources\": {\"expression_atlas\": 0.0, \"cancer_gene_census\": 0.0, \"disgenet\": 0.0, \"gwas_catalog\": 0.0, \"phenodigm\": 0.0, \"europepmc\": 2.0, \"uniprot\": 1.0, \"eva\": 6.0, \"reactome\": 10.0, \"uniprot_literature\": 2.0, \"chembl\": 0.0, \"eva_somatic\": 0.0}}}, {\"id\": \"ENSG00000176022-EFO_0002461\", \"disease\": {\"id\": \"EFO_0002461\", \"efo_info\": {\"therapeutic_area\": {\"codes\": [], \"labels\": []}, \"label\": \"skeletal system disease\", \"path\": [[\"EFO_0002461\"]]}}, \"association_score\": {\"overall\": 1.0, \"datatypes\": {\"rna_expression\": 0.0, \"literature\": 0.024, \"somatic_mutation\": 0.0, \"animal_model\": 0.0, \"affected_pathway\": 1.0, \"genetic_association\": 1.0, \"known_drug\": 0.0}, \"datasources\": {\"expression_atlas\": 0.0, \"cancer_gene_census\": 0.0, \"disgenet\": 0.0, \"gwas_catalog\": 0.0, \"phenodigm\": 0.0, \"europepmc\": 0.024, \"uniprot\": 0.7, \"eva\": 1.0, \"reactome\": 1.0, \"uniprot_literature\": 1.0, \"chembl\": 0.0, \"eva_somatic\": 0.0}}, \"is_direct\": false, \"target\": {\"id\": \"ENSG00000176022\", \"gene_info\": {\"symbol\": \"B3GALT6\", \"name\": \"Beta-1,3-galactosyltransferase 6\"}}, \"evidence_count\": {\"total\": 21.0, \"datatypes\": {\"rna_expression\": 0.0, \"literature\": 2.0, \"somatic_mutation\": 0.0, \"animal_model\": 0.0, \"affected_pathway\": 10.0, \"genetic_association\": 9.0, \"known_drug\": 0.0}, \"datasources\": {\"expression_atlas\": 0.0, \"cancer_gene_census\": 0.0, \"disgenet\": 0.0, \"gwas_catalog\": 0.0, \"phenodigm\": 0.0, \"europepmc\": 2.0, \"uniprot\": 1.0, \"eva\": 6.0, \"reactome\": 10.0, \"uniprot_literature\": 2.0, \"chembl\": 0.0, \"eva_somatic\": 0.0}}}, {\"id\": \"ENSG00000176022-Orphanet_404584\", \"disease\": {\"id\": \"Orphanet_404584\", \"efo_info\": {\"therapeutic_area\": {\"codes\": [\"EFO_0000508\"], \"labels\": [\"genetic disorder\"]}, \"label\": \"Rare genetic bone development disorder\", \"path\": [[\"EFO_0000508\", \"Orphanet_183530\", \"Orphanet_404584\"]]}}, \"association_score\": {\"overall\": 1.0, \"datatypes\": {\"rna_expression\": 0.0, \"literature\": 0.024, \"somatic_mutation\": 0.0, \"animal_model\": 0.0, \"affected_pathway\": 1.0, \"genetic_association\": 1.0, \"known_drug\": 0.0}, \"datasources\": {\"expression_atlas\": 0.0, \"cancer_gene_census\": 0.0, \"disgenet\": 0.0, \"gwas_catalog\": 0.0, \"phenodigm\": 0.0, \"europepmc\": 0.024, \"uniprot\": 0.7, \"eva\": 1.0, \"reactome\": 1.0, \"uniprot_literature\": 1.0, \"chembl\": 0.0, \"eva_somatic\": 0.0}}, \"is_direct\": false, \"target\": {\"id\": \"ENSG00000176022\", \"gene_info\": {\"symbol\": \"B3GALT6\", \"name\": \"Beta-1,3-galactosyltransferase 6\"}}, \"evidence_count\": {\"total\": 21.0, \"datatypes\": {\"rna_expression\": 0.0, \"literature\": 2.0, \"somatic_mutation\": 0.0, \"animal_model\": 0.0, \"affected_pathway\": 10.0, \"genetic_association\": 9.0, \"known_drug\": 0.0}, \"datasources\": {\"expression_atlas\": 0.0, \"cancer_gene_census\": 0.0, \"disgenet\": 0.0, \"gwas_catalog\": 0.0, \"phenodigm\": 0.0, \"europepmc\": 2.0, \"uniprot\": 1.0, \"eva\": 6.0, \"reactome\": 10.0, \"uniprot_literature\": 2.0, \"chembl\": 0.0, \"eva_somatic\": 0.0}}}, {\"id\": \"ENSG00000176022-Orphanet_364526\", \"disease\": {\"id\": \"Orphanet_364526\", \"efo_info\": {\"therapeutic_area\": {\"codes\": [\"EFO_0002461\", \"EFO_0000508\"], \"labels\": [\"genetic disorder\", \"skeletal system disease\"]}, \"label\": \"Primary bone dysplasia\", \"path\": [[\"EFO_0002461\", \"EFO_0004260\", \"Orphanet_183524\", \"Orphanet_364526\"], [\"EFO_0000508\", \"Orphanet_183530\", \"Orphanet_404584\", \"Orphanet_364526\"], [\"EFO_0000508\", \"Orphanet_183524\", \"Orphanet_364526\"]]}}, \"association_score\": {\"overall\": 1.0, \"datatypes\": {\"rna_expression\": 0.0, \"literature\": 0.024, \"somatic_mutation\": 0.0, \"animal_model\": 0.0, \"affected_pathway\": 1.0, \"genetic_association\": 1.0, \"known_drug\": 0.0}, \"datasources\": {\"expression_atlas\": 0.0, \"cancer_gene_census\": 0.0, \"disgenet\": 0.0, \"gwas_catalog\": 0.0, \"phenodigm\": 0.0, \"europepmc\": 0.024, \"uniprot\": 0.7, \"eva\": 1.0, \"reactome\": 1.0, \"uniprot_literature\": 1.0, \"chembl\": 0.0, \"eva_somatic\": 0.0}}, \"is_direct\": false, \"target\": {\"id\": \"ENSG00000176022\", \"gene_info\": {\"symbol\": \"B3GALT6\", \"name\": \"Beta-1,3-galactosyltransferase 6\"}}, \"evidence_count\": {\"total\": 21.0, \"datatypes\": {\"rna_expression\": 0.0, \"literature\": 2.0, \"somatic_mutation\": 0.0, \"animal_model\": 0.0, \"affected_pathway\": 10.0, \"genetic_association\": 9.0, \"known_drug\": 0.0}, \"datasources\": {\"expression_atlas\": 0.0, \"cancer_gene_census\": 0.0, \"disgenet\": 0.0, \"gwas_catalog\": 0.0, \"phenodigm\": 0.0, \"europepmc\": 2.0, \"uniprot\": 1.0, \"eva\": 6.0, \"reactome\": 10.0, \"uniprot_literature\": 2.0, \"chembl\": 0.0, \"eva_somatic\": 0.0}}}, {\"id\": \"ENSG00000176022-EFO_0004260\", \"disease\": {\"id\": \"EFO_0004260\", \"efo_info\": {\"therapeutic_area\": {\"codes\": [\"EFO_0002461\"], \"labels\": [\"skeletal system disease\"]}, \"label\": \"bone disease\", \"path\": [[\"EFO_0002461\", \"EFO_0004260\"]]}}, \"association_score\": {\"overall\": 1.0, \"datatypes\": {\"rna_expression\": 0.0, \"literature\": 0.024, \"somatic_mutation\": 0.0, \"animal_model\": 0.0, \"affected_pathway\": 1.0, \"genetic_association\": 1.0, \"known_drug\": 0.0}, \"datasources\": {\"expression_atlas\": 0.0, \"cancer_gene_census\": 0.0, \"disgenet\": 0.0, \"gwas_catalog\": 0.0, \"phenodigm\": 0.0, \"europepmc\": 0.024, \"uniprot\": 0.7, \"eva\": 1.0, \"reactome\": 1.0, \"uniprot_literature\": 1.0, \"chembl\": 0.0, \"eva_somatic\": 0.0}}, \"is_direct\": false, \"target\": {\"id\": \"ENSG00000176022\", \"gene_info\": {\"symbol\": \"B3GALT6\", \"name\": \"Beta-1,3-galactosyltransferase 6\"}}, \"evidence_count\": {\"total\": 21.0, \"datatypes\": {\"rna_expression\": 0.0, \"literature\": 2.0, \"somatic_mutation\": 0.0, \"animal_model\": 0.0, \"affected_pathway\": 10.0, \"genetic_association\": 9.0, \"known_drug\": 0.0}, \"datasources\": {\"expression_atlas\": 0.0, \"cancer_gene_census\": 0.0, \"disgenet\": 0.0, \"gwas_catalog\": 0.0, \"phenodigm\": 0.0, \"europepmc\": 2.0, \"uniprot\": 1.0, \"eva\": 6.0, \"reactome\": 10.0, \"uniprot_literature\": 2.0, \"chembl\": 0.0, \"eva_somatic\": 0.0}}}, {\"id\": \"ENSG00000176022-Orphanet_253\", \"disease\": {\"id\": \"Orphanet_253\", \"efo_info\": {\"therapeutic_area\": {\"codes\": [\"EFO_0002461\", \"EFO_0000508\"], \"labels\": [\"genetic disorder\", \"skeletal system disease\"]}, \"label\": \"Spondyloepiphyseal dysplasia and spondyloepimetaphyseal dysplasia\", \"path\": [[\"EFO_0002461\", \"EFO_0004260\", \"Orphanet_183524\", \"Orphanet_364526\", \"Orphanet_253\"], [\"EFO_0000508\", \"Orphanet_183524\", \"Orphanet_364526\", \"Orphanet_253\"], [\"EFO_0000508\", \"Orphanet_183530\", \"Orphanet_404584\", \"Orphanet_364526\", \"Orphanet_253\"]]}}, \"association_score\": {\"overall\": 1.0, \"datatypes\": {\"rna_expression\": 0.0, \"literature\": 0.024, \"somatic_mutation\": 0.0, \"animal_model\": 0.0, \"affected_pathway\": 1.0, \"genetic_association\": 1.0, \"known_drug\": 0.0}, \"datasources\": {\"expression_atlas\": 0.0, \"cancer_gene_census\": 0.0, \"disgenet\": 0.0, \"gwas_catalog\": 0.0, \"phenodigm\": 0.0, \"europepmc\": 0.024, \"uniprot\": 0.7, \"eva\": 1.0, \"reactome\": 1.0, \"uniprot_literature\": 1.0, \"chembl\": 0.0, \"eva_somatic\": 0.0}}, \"is_direct\": true, \"target\": {\"id\": \"ENSG00000176022\", \"gene_info\": {\"symbol\": \"B3GALT6\", \"name\": \"Beta-1,3-galactosyltransferase 6\"}}, \"evidence_count\": {\"total\": 18.0, \"datatypes\": {\"rna_expression\": 0.0, \"literature\": 2.0, \"somatic_mutation\": 0.0, \"animal_model\": 0.0, \"affected_pathway\": 10.0, \"genetic_association\": 6.0, \"known_drug\": 0.0}, \"datasources\": {\"expression_atlas\": 0.0, \"cancer_gene_census\": 0.0, \"disgenet\": 0.0, \"gwas_catalog\": 0.0, \"phenodigm\": 0.0, \"europepmc\": 2.0, \"uniprot\": 1.0, \"eva\": 4.0, \"reactome\": 10.0, \"uniprot_literature\": 1.0, \"chembl\": 0.0, \"eva_somatic\": 0.0}}}]}))\n",
       "        });\n",
       "        "
      ]
     },
     "metadata": {},
     "output_type": "display_data"
    }
   ],
   "source": [
    "RenderJSON(r.json())"
   ]
  },
  {
   "cell_type": "code",
   "execution_count": 83,
   "metadata": {
    "collapsed": false
   },
   "outputs": [
    {
     "data": {
      "text/html": [
       "<div>\n",
       "<table border=\"1\" class=\"dataframe\">\n",
       "  <thead>\n",
       "    <tr style=\"text-align: right;\">\n",
       "      <th></th>\n",
       "      <th>disease_count</th>\n",
       "      <th>key</th>\n",
       "      <th>target_count</th>\n",
       "      <th>therapeutic_area</th>\n",
       "    </tr>\n",
       "  </thead>\n",
       "  <tbody>\n",
       "    <tr>\n",
       "      <th>1</th>\n",
       "      <td>146</td>\n",
       "      <td>efo_0000616</td>\n",
       "      <td>16</td>\n",
       "      <td>neoplasm</td>\n",
       "    </tr>\n",
       "    <tr>\n",
       "      <th>0</th>\n",
       "      <td>419</td>\n",
       "      <td>efo_0000508</td>\n",
       "      <td>11</td>\n",
       "      <td>genetic disorder</td>\n",
       "    </tr>\n",
       "    <tr>\n",
       "      <th>3</th>\n",
       "      <td>97</td>\n",
       "      <td>efo_0000618</td>\n",
       "      <td>11</td>\n",
       "      <td>nervous system disease</td>\n",
       "    </tr>\n",
       "    <tr>\n",
       "      <th>4</th>\n",
       "      <td>76</td>\n",
       "      <td>efo_0002461</td>\n",
       "      <td>10</td>\n",
       "      <td>skeletal system disease</td>\n",
       "    </tr>\n",
       "    <tr>\n",
       "      <th>7</th>\n",
       "      <td>62</td>\n",
       "      <td>efo_0000701</td>\n",
       "      <td>10</td>\n",
       "      <td>skin disease</td>\n",
       "    </tr>\n",
       "  </tbody>\n",
       "</table>\n",
       "</div>"
      ],
      "text/plain": [
       "   disease_count          key  target_count         therapeutic_area\n",
       "1            146  efo_0000616            16                 neoplasm\n",
       "0            419  efo_0000508            11         genetic disorder\n",
       "3             97  efo_0000618            11   nervous system disease\n",
       "4             76  efo_0002461            10  skeletal system disease\n",
       "7             62  efo_0000701            10             skin disease"
      ]
     },
     "execution_count": 83,
     "metadata": {},
     "output_type": "execute_result"
    }
   ],
   "source": [
    "therapeuticareas = []\n",
    "\n",
    "for bucket in r.json()['facets']['therapeutic_area']['buckets']:\n",
    "    therapeuticareas.append({\n",
    "            'target_count' : bucket['unique_target_count']['value'], \n",
    "            'disease_count' : bucket['unique_disease_count']['value'],\n",
    "            'therapeutic_area' : bucket['label'],\n",
    "            'key' : bucket['key']\n",
    "        })\n",
    "\n",
    "df = pd.DataFrame(therapeuticareas)\n",
    "df.sort_values(by='target_count',ascending=False).head()"
   ]
  },
  {
   "cell_type": "markdown",
   "metadata": {
    "collapsed": true
   },
   "source": [
    "### TODO:\n",
    "* Show the weight of genetic evidence behind the link (divide in mendelian vs gwas)\n",
    "* displays list of top 3 diseases, name and Association Score.  \n",
    "* show number of disease associations\n",
    "\n",
    "* show pathway and .groupby pathway so that you bring the genes with shared biology at the top\n"
   ]
  },
  {
   "cell_type": "code",
   "execution_count": null,
   "metadata": {
    "collapsed": true
   },
   "outputs": [],
   "source": []
  }
 ],
 "metadata": {
  "kernelspec": {
   "display_name": "Python 3",
   "language": "python",
   "name": "python3"
  },
  "language_info": {
   "codemirror_mode": {
    "name": "ipython",
    "version": 3
   },
   "file_extension": ".py",
   "mimetype": "text/x-python",
   "name": "python",
   "nbconvert_exporter": "python",
   "pygments_lexer": "ipython3",
   "version": "3.5.1"
  }
 },
 "nbformat": 4,
 "nbformat_minor": 0
}
