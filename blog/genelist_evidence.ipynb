{
 "cells": [
  {
   "cell_type": "markdown",
   "metadata": {},
   "source": [
    "# Find what's known for a list of genes"
   ]
  },
  {
   "cell_type": "markdown",
   "metadata": {},
   "source": [
    "> eg. Maria L in the fly group routinely screens lists of human genes for the presence of evidence in neurological diseases. She wants to understand a bit about the biology of these genes. She looks at open targets to find what is known about the target and to which disease it has already been connected.\n",
    "\n",
    "Compiling evidence relative to a list of genes can be a time-consuming and tedious task. Now the process can be automated, thanks to the targetvalidation.org API.\n",
    "\n",
    "This tutorial illustrates how to compile all the evidence contained in targetvalidation.org for a list of genes into a compact representation (eg. a spreadsheet) using python. \n",
    "You might have a list of genes being generated from an experiment or a genetic screen, or perhaps you are following a particular set of targets and would like to maintain an updated look at what evidence has been compiled around them.\n",
    "The process can be useful to reduce bias and increase success rates when prioritizing a list of genes for experimental follow-up. \n",
    "\n",
    "For this tutorial, we will use 20 random genes taken from the HGNC catalog. First, let's download the full catalog and create a list of symbols only."
   ]
  },
  {
   "cell_type": "code",
   "execution_count": 2,
   "metadata": {
    "collapsed": false
   },
   "outputs": [
    {
     "name": "stderr",
     "output_type": "stream",
     "text": [
      "gunzip: hgnc_complete_set.txt already exists -- skipping\n",
      "cut: stdin: Illegal byte sequence\n"
     ]
    }
   ],
   "source": [
    "%%bash\n",
    "[ -f hgnc_complete_set.txt.gz ] || wget http://ftp.ebi.ac.uk/pub/databases/genenames/hgnc_complete_set.txt.gz \n",
    "[ -f hgnc_complete_set.txt ] || gunzip hgnc_complete_set.txt.gz \n",
    "tail -n +2 hgnc_complete_set.txt | cut -f2 | grep -v withdrawn > hgnc_symbols.txt"
   ]
  },
  {
   "cell_type": "markdown",
   "metadata": {},
   "source": [
    "To extract 20 random gene names:"
   ]
  },
  {
   "cell_type": "code",
   "execution_count": 1,
   "metadata": {
    "collapsed": false,
    "scrolled": true
   },
   "outputs": [
    {
     "data": {
      "text/plain": [
       "['CACYBP',\n",
       " 'CST4',\n",
       " 'DUXA',\n",
       " 'EIF4A1P10',\n",
       " 'C6orf201',\n",
       " 'ECSIT',\n",
       " 'CC2D1B',\n",
       " 'CFAP161',\n",
       " 'FTO',\n",
       " 'BCL2L15',\n",
       " 'CDC27P3',\n",
       " 'FREM1',\n",
       " 'GOLIM4',\n",
       " 'FER1L6-AS2',\n",
       " 'ADCK5',\n",
       " 'FAM168A',\n",
       " 'COX6C',\n",
       " 'C17orf96',\n",
       " 'FAM151A',\n",
       " 'AOC4P']"
      ]
     },
     "execution_count": 1,
     "metadata": {},
     "output_type": "execute_result"
    }
   ],
   "source": [
    "import random\n",
    "with open('hgnc_symbols.txt') as f:\n",
    "    genes = [line.rstrip() for line in f]\n",
    "random.shuffle(genes)\n",
    "genes[:20]"
   ]
  },
  {
   "cell_type": "code",
   "execution_count": null,
   "metadata": {
    "collapsed": true
   },
   "outputs": [],
   "source": [
    "#how many disease in each therapeutic area are associated with it"
   ]
  },
  {
   "cell_type": "code",
   "execution_count": 9,
   "metadata": {
    "collapsed": true
   },
   "outputs": [],
   "source": [
    "import requests\n",
    "API = 'https://www.targetvalidation.org/api/1.1'"
   ]
  },
  {
   "cell_type": "code",
   "execution_count": 16,
   "metadata": {
    "collapsed": true
   },
   "outputs": [],
   "source": [
    "r = requests.post(API + '/public/association/filter', json = {'target':['ENSG00000157764','ENSG00000142168']})"
   ]
  },
  {
   "cell_type": "code",
   "execution_count": 18,
   "metadata": {
    "collapsed": false
   },
   "outputs": [
    {
     "data": {
      "text/plain": [
       "'https://www.targetvalidation.org/api/1.1/public/association/filter'"
      ]
     },
     "execution_count": 18,
     "metadata": {},
     "output_type": "execute_result"
    }
   ],
   "source": [
    "r.url"
   ]
  },
  {
   "cell_type": "code",
   "execution_count": null,
   "metadata": {
    "collapsed": true
   },
   "outputs": [],
   "source": []
  }
 ],
 "metadata": {
  "kernelspec": {
   "display_name": "Python 3",
   "language": "python",
   "name": "python3"
  },
  "language_info": {
   "codemirror_mode": {
    "name": "ipython",
    "version": 3
   },
   "file_extension": ".py",
   "mimetype": "text/x-python",
   "name": "python",
   "nbconvert_exporter": "python",
   "pygments_lexer": "ipython3",
   "version": "3.5.1"
  }
 },
 "nbformat": 4,
 "nbformat_minor": 0
}
