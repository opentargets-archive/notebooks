{
 "cells": [
  {
   "cell_type": "code",
   "execution_count": 1,
   "metadata": {
    "collapsed": false
   },
   "outputs": [],
   "source": [
    "from __future__ import print_function\n",
    "\n",
    "import logging\n",
    "import sys\n",
    "from time import time\n",
    "\n",
    "import requests, json\n",
    "from sklearn.decomposition import TruncatedSVD\n",
    "from sklearn.feature_extraction.text import TfidfTransformer\n",
    "from sklearn.feature_extraction.text import TfidfVectorizer\n",
    "from sklearn.preprocessing import Normalizer\n",
    "\n",
    "from IPython.core.display import display, HTML"
   ]
  },
  {
   "cell_type": "markdown",
   "metadata": {},
   "source": [
    "### Retrieve Remote Abstracts using EuropePMC Rest Services\n",
    "*(This is a one-time activity and can be commented after abstracts are stored in local DB)*\n",
    "\n",
    "* Disease Name - Diabetes\n",
    "* Result Type - Core (to get metadata information containing abstracts,title,etc)\n",
    "* Result Format - JSON\n"
   ]
  },
  {
   "cell_type": "code",
   "execution_count": 19,
   "metadata": {
    "collapsed": false
   },
   "outputs": [
    {
     "name": "stdout",
     "output_type": "stream",
     "text": [
      "http://www.ebi.ac.uk/europepmc/webservices/rest/search?query=diabetes&format=json&resulttype=core&pageSize=100&page=1\n",
      "CPU times: user 127 ms, sys: 6.93 ms, total: 134 ms\n",
      "Wall time: 2.18 s\n"
     ]
    }
   ],
   "source": [
    "%%time\n",
    "\n",
    "abstract_list = list()\n",
    "titles_list = list()\n",
    "pmid_list = list()\n",
    "for x in range(1, 2):\n",
    "   \n",
    "    europePMC_url = \"http://www.ebi.ac.uk/europepmc/webservices/rest/search?query=diabetes&format=json&resulttype=core&pageSize=100&page=%s\"%x\n",
    "    print(europePMC_url)\n",
    "    r = requests.get(europePMC_url)\n",
    "    data = json.loads(r.content)\n",
    "    for result in data['resultList']['result']:\n",
    "    \n",
    "        abstract = result.get('abstractText',None)\n",
    "        title = result.get('title',None)\n",
    "        pmid = result.get('pmid',None)\n",
    "        if abstract is not None:\n",
    "            abstract_list.append(abstract)\n",
    "            titles_list.append(abstract)\n",
    "            pmid_list.append(pmid)\n",
    "            \n",
    "            #temp_list = list()\n",
    "            #temp_list.append(abstract)\n",
    "            #temp_list.append(title)\n",
    "            #abstract_details_list.append(temp_list)"
   ]
  },
  {
   "cell_type": "code",
   "execution_count": 20,
   "metadata": {
    "collapsed": false
   },
   "outputs": [
    {
     "name": "stdout",
     "output_type": "stream",
     "text": [
      "74 abstracts\n",
      "74 titles\n",
      "74 pmids\n"
     ]
    }
   ],
   "source": [
    "print(\"%d abstracts\" % len(abstract_list))\n",
    "print(\"%d titles\" % len(titles_list))\n",
    "print(\"%d pmids\" % len(pmid_list))"
   ]
  },
  {
   "cell_type": "markdown",
   "metadata": {},
   "source": [
    "Preprocess/Clean the abstract data using **spaCy NLP**\n",
    "1. Tokenize the abstract data\n",
    "2. Lemmatize the tokens\n",
    "3. Clean the tokens by applying stoplists"
   ]
  },
  {
   "cell_type": "code",
   "execution_count": 21,
   "metadata": {
    "collapsed": false
   },
   "outputs": [],
   "source": [
    "from sklearn.feature_extraction.stop_words import ENGLISH_STOP_WORDS\n",
    "from spacy import en\n",
    "import string\n",
    "from spacy.en import English"
   ]
  },
  {
   "cell_type": "code",
   "execution_count": 22,
   "metadata": {
    "collapsed": false
   },
   "outputs": [],
   "source": [
    "parser = English()\n",
    "\n",
    "# A custom stoplist\n",
    "STOPLIST = set()\n",
    "STOPLIST.update(en.STOPWORDS)\n",
    "STOPLIST.update([\"n't\", \"'s\", \"'m\", \"ca\",\"p\", \"t\"])\n",
    "STOPLIST.update(list(ENGLISH_STOP_WORDS))\n",
    "# List of symbols we don't care about\n",
    "SYMBOLS = \" \".join(string.punctuation).split(\" \") + [\"-----\", \"---\", \"...\",  \"'ve\"] \n",
    "def tokenize_text(sample):\n",
    "\n",
    "        # get the tokens using spaCy\n",
    "        tokens = parser(sample)\n",
    "\n",
    "        # lemmatize\n",
    "        lemmas = []\n",
    "        for tok in tokens:\n",
    "            lemmas.append(tok.lemma_.lower().strip() if tok.lemma_ != \"-PRON-\" else tok.lower_)\n",
    "            tokens = lemmas\n",
    "\n",
    "        # stoplist the tokens\n",
    "        tokens = [tok for tok in tokens if tok not in STOPLIST]\n",
    "\n",
    "        # stoplist symbols\n",
    "        tokens = [tok for tok in tokens if tok not in SYMBOLS]\n",
    "\n",
    "        # remove large strings of whitespace\n",
    "        while \"\" in tokens:\n",
    "            tokens.remove(\"\")\n",
    "        while \" \" in tokens:\n",
    "            tokens.remove(\" \")\n",
    "        while \"\\n\" in tokens:\n",
    "            tokens.remove(\"\\n\")\n",
    "        while \"\\n\\n\" in tokens:\n",
    "            tokens.remove(\"\\n\\n\")\n",
    "        #print tokens\n",
    "        return tokens"
   ]
  },
  {
   "cell_type": "markdown",
   "metadata": {
    "collapsed": true
   },
   "source": [
    "Convert above training corpus to *sparse vectors* using a **TF-IDF** sparse vectorizer and extract relevant features\n",
    "1. No. of features = 100000\n",
    "2. Remove Ascii Characters from Training Corpus "
   ]
  },
  {
   "cell_type": "code",
   "execution_count": 23,
   "metadata": {
    "collapsed": false
   },
   "outputs": [
    {
     "name": "stdout",
     "output_type": "stream",
     "text": [
      "n_samples: 74, n_features: 965\n",
      "CPU times: user 1.53 s, sys: 6.3 ms, total: 1.53 s\n",
      "Wall time: 1.53 s\n"
     ]
    }
   ],
   "source": [
    "%%time\n",
    "\n",
    "vectorizer = TfidfVectorizer(max_df=0.5, max_features=100000,\n",
    "                                 min_df=2,tokenizer=tokenize_text, stop_words='english',\n",
    "                                 use_idf=True,strip_accents =  'ascii')\n",
    "X = vectorizer.fit_transform(abstract_list)\n",
    "\n",
    "print(\"n_samples: %d, n_features: %d\" % X.shape)\n"
   ]
  },
  {
   "cell_type": "markdown",
   "metadata": {},
   "source": [
    "terms - **vocabulary**, a list of the features used in the *tf-idf matrix*."
   ]
  },
  {
   "cell_type": "code",
   "execution_count": 24,
   "metadata": {
    "collapsed": true
   },
   "outputs": [],
   "source": [
    "terms = vectorizer.get_feature_names()"
   ]
  },
  {
   "cell_type": "markdown",
   "metadata": {
    "collapsed": true
   },
   "source": [
    "dist : **1 - the cosine similarity of each document.**\n",
    "\n",
    "  Cosine similarity is measured against the tf-idf matrix and can be used   to generate a measure of similarity between each document and the other   documents in the corpus. Subtracting it from 1 provides cosine distance   which will be used for plotting on a euclidean (2-dimensional) plane.\n",
    "  Note that with dist it is possible to evaluate the similarity of any two   or more abstracts."
   ]
  },
  {
   "cell_type": "code",
   "execution_count": 25,
   "metadata": {
    "collapsed": false
   },
   "outputs": [
    {
     "data": {
      "text/plain": [
       "<function print>"
      ]
     },
     "execution_count": 25,
     "metadata": {},
     "output_type": "execute_result"
    }
   ],
   "source": [
    "from sklearn.metrics.pairwise import cosine_similarity\n",
    "dist = 1 - cosine_similarity(X)\n",
    "print\n",
    "print"
   ]
  },
  {
   "cell_type": "markdown",
   "metadata": {},
   "source": [
    "##Hierarchial Clustering using Ward Clustering Algorithm.\n",
    "\n",
    "  Ward clustering is an **agglomerative clustering method**, meaning that   at each stage, the pair of clusters with minimum between-cluster           distance are merged. \n",
    "  The precomputed cosine distance matrix viz. dist is used to calculate a   **linkage_matrix**.\n",
    "  \n",
    "  >In case you encounter following error after installing matplotlib package \n",
    "  >RuntimeError: Python is not installed as a framework....\n",
    "  \n",
    "  >Solution: \n",
    "   After installing with pip matplotlib, there is a directory in     root     called ~/.matplotlib.\n",
    "   Create a file ~/.matplotlib/matplotlibrc there and add the following       code: backend: TkAgg"
   ]
  },
  {
   "cell_type": "code",
   "execution_count": 26,
   "metadata": {
    "collapsed": false
   },
   "outputs": [
    {
     "data": {
      "text/plain": [
       "<function print>"
      ]
     },
     "execution_count": 26,
     "metadata": {},
     "output_type": "execute_result"
    }
   ],
   "source": [
    "from scipy.cluster.hierarchy import ward, dendrogram\n",
    "import matplotlib.pyplot as plt\n",
    "\n",
    "\n",
    "linkage_matrix = ward(dist) #define the linkage_matrix using ward clustering pre-computed distances\n",
    "\n",
    "fig, ax = plt.subplots(figsize=(15, 20)) # set size\n",
    "ax = dendrogram(linkage_matrix, orientation=\"right\", labels=pmid_list);\n",
    "\n",
    "plt.tight_layout() #show plot with tight layout\n",
    "#plt.show()\n",
    "\n",
    "#uncomment below to save figure\n",
    "plt.savefig('ward_clusters.png', dpi=200) #save figure as ward_clusters\n",
    "print"
   ]
  },
  {
   "cell_type": "code",
   "execution_count": 27,
   "metadata": {
    "collapsed": true
   },
   "outputs": [],
   "source": [
    "plt.close()"
   ]
  },
  {
   "cell_type": "code",
   "execution_count": null,
   "metadata": {
    "collapsed": true
   },
   "outputs": [],
   "source": []
  }
 ],
 "metadata": {
  "anaconda-cloud": {},
  "kernelspec": {
   "display_name": "Python [Root]",
   "language": "python",
   "name": "Python [Root]"
  },
  "language_info": {
   "codemirror_mode": {
    "name": "ipython",
    "version": 2
   },
   "file_extension": ".py",
   "mimetype": "text/x-python",
   "name": "python",
   "nbconvert_exporter": "python",
   "pygments_lexer": "ipython2",
   "version": "2.7.12"
  }
 },
 "nbformat": 4,
 "nbformat_minor": 0
}
