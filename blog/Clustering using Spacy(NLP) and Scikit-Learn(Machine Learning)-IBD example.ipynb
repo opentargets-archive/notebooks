{
 "cells": [
  {
   "cell_type": "code",
   "execution_count": 1,
   "metadata": {
    "collapsed": false
   },
   "outputs": [],
   "source": [
    "from __future__ import print_function\n",
    "\n",
    "import logging\n",
    "from optparse import OptionParser\n",
    "import sys\n",
    "from time import time\n",
    "\n",
    "import requests, json\n",
    "from sklearn.cluster import KMeans, MiniBatchKMeans\n",
    "from sklearn.decomposition import TruncatedSVD\n",
    "from sklearn.feature_extraction.text import HashingVectorizer\n",
    "from sklearn.feature_extraction.text import TfidfTransformer\n",
    "from sklearn.feature_extraction.text import TfidfVectorizer\n",
    "from sklearn.pipeline import make_pipeline\n",
    "from sklearn.preprocessing import Normalizer\n",
    "\n",
    "from IPython.core.display import display, HTML"
   ]
  },
  {
   "cell_type": "markdown",
   "metadata": {},
   "source": [
    "### Retrieve Remote Abstracts using EuropePMC Rest Services\n",
    "*(This is a one-time activity and can be commented after abstracts are stored in local DB)*\n",
    "\n",
    "* Disease Name - IBD (Inflammatory Bowel Disease)\n",
    "* Result Type - Core (to get metadata information containing abstracts,title,etc)\n",
    "* Result Format - JSON\n",
    "\n",
    "Store the abstracts using **sqlite3** (lightweight disk-based database).\n"
   ]
  },
  {
   "cell_type": "code",
   "execution_count": 3,
   "metadata": {
    "collapsed": false,
    "scrolled": false
   },
   "outputs": [
    {
     "name": "stdout",
     "output_type": "stream",
     "text": [
      "http://www.ebi.ac.uk/europepmc/webservices/rest/search?query=ibd&format=json&resulttype=core&pageSize=500&page=1\n",
      "CPU times: user 126 ms, sys: 45.2 ms, total: 171 ms\n",
      "Wall time: 28.6 s\n"
     ]
    }
   ],
   "source": [
    "%%time\n",
    "import sqlite3\n",
    "conn = sqlite3.connect('abstract.db')\n",
    "c = conn.cursor()\n",
    "disease_name = \"ibd\"\n",
    "temp_abstract_list = list()\n",
    "# # Uncomment below to Create table\n",
    "#c.execute('''CREATE TABLE abstract_data\n",
    "#            (abstract text, disease text, title text, pmid text)''')\n",
    "\n",
    "for x in range(1, 2):\n",
    "   \n",
    "    europePMC_url = \"http://www.ebi.ac.uk/europepmc/webservices/rest/search?query={}&format=json&resulttype=core&pageSize=500&page={}\".format(disease_name,x)\n",
    "    print(europePMC_url)\n",
    "    r = requests.get(europePMC_url)\n",
    "    data = json.loads(r.content)\n",
    "    for result in data['resultList']['result']:\n",
    "    \n",
    "        abstract = result.get('abstractText',None)\n",
    "        title = result.get('title',None)\n",
    "        pmid = result.get('pmid',None)\n",
    "    \n",
    "        if abstract is not None:\n",
    "            temp_abstract_list.append(abstract)\n",
    "            \n",
    "            #c.execute(\"INSERT INTO abstract_data VALUES (?,?,?,?)\",(abstract,disease_name,title,pmid))  \n",
    "    #conn.commit()\n"
   ]
  },
  {
   "cell_type": "markdown",
   "metadata": {},
   "source": [
    "Retrieve abstracts from local DB"
   ]
  },
  {
   "cell_type": "code",
   "execution_count": 4,
   "metadata": {
    "collapsed": false
   },
   "outputs": [
    {
     "name": "stdout",
     "output_type": "stream",
     "text": [
      "18255 abstracts from local db\n"
     ]
    }
   ],
   "source": [
    "disease_name = (\"ibd\",)\n",
    "\n",
    "c.execute(\"SELECT abstract FROM abstract_data WHERE disease= ?\", disease_name)\n",
    "abstract_list = c.fetchall()\n",
    "# db returns a list of tuples, convert to list of strings as shown below\n",
    "abstract_list = [i for (i,) in abstract_list]\n",
    "print(\"%d abstracts from local db\" % len(abstract_list))\n"
   ]
  },
  {
   "cell_type": "markdown",
   "metadata": {},
   "source": [
    "Preprocess/Clean the abstract data using **spaCy NLP**\n",
    "1. Tokenize the abstract data\n",
    "2. Lemmatize the tokens\n",
    "3. Clean the tokens by applying stoplists\n",
    "4. *Deal with **target/disease synonymns** here???*"
   ]
  },
  {
   "cell_type": "code",
   "execution_count": 5,
   "metadata": {
    "collapsed": false
   },
   "outputs": [],
   "source": [
    "from sklearn.feature_extraction.stop_words import ENGLISH_STOP_WORDS\n",
    "from spacy import en\n",
    "import string\n",
    "from spacy.en import English"
   ]
  },
  {
   "cell_type": "code",
   "execution_count": 6,
   "metadata": {
    "collapsed": false
   },
   "outputs": [],
   "source": [
    "parser = English()\n",
    "\n",
    "# A custom stoplist\n",
    "STOPLIST = set()\n",
    "STOPLIST.update(en.STOPWORDS)\n",
    "STOPLIST.update([\"n't\", \"'s\", \"'m\", \"ca\",\"p\", \"t\"])\n",
    "STOPLIST.update(list(ENGLISH_STOP_WORDS))\n",
    "# List of symbols we don't care about\n",
    "SYMBOLS = \" \".join(string.punctuation).split(\" \") + [\"-----\", \"---\", \"...\",  \"'ve\"] \n",
    "def tokenize_text(sample):\n",
    "\n",
    "        # get the tokens using spaCy\n",
    "        tokens = parser(sample)\n",
    "\n",
    "        # lemmatize\n",
    "        lemmas = []\n",
    "        for tok in tokens:\n",
    "            lemmas.append(tok.lemma_.lower().strip() if tok.lemma_ != \"-PRON-\" else tok.lower_)\n",
    "            tokens = lemmas\n",
    "\n",
    "        # stoplist the tokens\n",
    "        tokens = [tok for tok in tokens if tok not in STOPLIST]\n",
    "\n",
    "        # stoplist symbols\n",
    "        tokens = [tok for tok in tokens if tok not in SYMBOLS]\n",
    "\n",
    "        # remove large strings of whitespace\n",
    "        while \"\" in tokens:\n",
    "            tokens.remove(\"\")\n",
    "        while \" \" in tokens:\n",
    "            tokens.remove(\" \")\n",
    "        while \"\\n\" in tokens:\n",
    "            tokens.remove(\"\\n\")\n",
    "        while \"\\n\\n\" in tokens:\n",
    "            tokens.remove(\"\\n\\n\")\n",
    "        #print tokens\n",
    "        return tokens"
   ]
  },
  {
   "cell_type": "markdown",
   "metadata": {
    "collapsed": true
   },
   "source": [
    "Convert above training corpus to *sparse vectors* using a **TF-IDF** sparse vectorizer and extract relevant features\n",
    "\n",
    " Normalizing and weighting with diminishing importance tokens that occur in the majority of samples / documents.\n",
    "1. No. of features = 100000\n",
    "2. Remove Ascii Characters from Training Corpus "
   ]
  },
  {
   "cell_type": "code",
   "execution_count": 11,
   "metadata": {
    "collapsed": false,
    "scrolled": true
   },
   "outputs": [
    {
     "name": "stdout",
     "output_type": "stream",
     "text": [
      "n_samples: 18255, n_features: 29905\n",
      "CPU times: user 5min 7s, sys: 815 ms, total: 5min 7s\n",
      "Wall time: 5min 8s\n"
     ]
    }
   ],
   "source": [
    "%%time\n",
    "\n",
    "vectorizer = TfidfVectorizer(max_df=0.5, max_features=800000,\n",
    "                                 min_df=2,tokenizer=tokenize_text, stop_words='english',\n",
    "                                 use_idf=True,strip_accents =  'ascii')\n",
    "X = vectorizer.fit_transform(abstract_list)\n",
    "\n",
    "print(\"n_samples: %d, n_features: %d\" % X.shape)"
   ]
  },
  {
   "cell_type": "markdown",
   "metadata": {
    "collapsed": true
   },
   "source": [
    "Do the Actual **Clustering** using **Scikit-Learn, KMeans Algo**"
   ]
  },
  {
   "cell_type": "code",
   "execution_count": 12,
   "metadata": {
    "collapsed": false
   },
   "outputs": [
    {
     "name": "stdout",
     "output_type": "stream",
     "text": [
      "Clustering sparse data with KMeans(copy_x=True, init='k-means++', max_iter=100, n_clusters=5, n_init=1,\n",
      "    n_jobs=1, precompute_distances='auto', random_state=None, tol=0.0001,\n",
      "    verbose=False)\n",
      "\n",
      "CPU times: user 7.02 s, sys: 268 ms, total: 7.29 s\n",
      "Wall time: 2.13 s\n"
     ]
    }
   ],
   "source": [
    "%%time\n",
    "\n",
    "km = KMeans(n_clusters=5, init='k-means++', max_iter=100, n_init=1,\n",
    "                verbose=False)\n",
    "print(\"Clustering sparse data with %s\" % km)\n",
    "km.fit(X)\n",
    "print()"
   ]
  },
  {
   "cell_type": "markdown",
   "metadata": {},
   "source": [
    "~~Persist the training model using joblib.dump 'pickling'~~"
   ]
  },
  {
   "cell_type": "code",
   "execution_count": 13,
   "metadata": {
    "collapsed": false
   },
   "outputs": [],
   "source": [
    "#from sklearn.externals import joblib\n",
    "# save the model\n",
    "#joblib.dump(km,  'diabetes_doc_cluster.pkl')\n",
    "\n",
    "# loading from the pickle\n",
    "#km = joblib.load('diabetes_doc_cluster.pkl')"
   ]
  },
  {
   "cell_type": "markdown",
   "metadata": {
    "collapsed": true
   },
   "source": [
    "Print the top terms per cluster and display in foamtree format"
   ]
  },
  {
   "cell_type": "code",
   "execution_count": 14,
   "metadata": {
    "collapsed": false
   },
   "outputs": [
    {
     "name": "stdout",
     "output_type": "stream",
     "text": [
      "Cluster 0:Label risk: risk, treatment, use, therapy, clinical, ibd patient, group, year, diagnosis, case,\n",
      "Cluster 1:Label cell: cell, mouse, expression, colitis, induce, intestinal, inflammation, cytokine, colon, ds,\n",
      "Cluster 2:Label microbiota: microbiota, immune, gut, intestinal, cell, role, host, inflammation, human, response,\n",
      "Cluster 3:Label genetic: genetic, population, gene, snp, locus, genome, variant, association, analysis, region,\n",
      "Cluster 4:Label cd: cd, uc, control, disease cd, cd patient, colitis uc, crohn, crohn disease, uc patient, colitis,\n"
     ]
    }
   ],
   "source": [
    "order_centroids = km.cluster_centers_.argsort()[:, ::-1]\n",
    "terms = vectorizer.get_feature_names()\n",
    "\n",
    "cluster_data_JSON = []\n",
    "for i in range(5):\n",
    "    j=0\n",
    "    print(\"Cluster %d:\" % i, end='')\n",
    "    cluster_dict = {}\n",
    "    cluster_dict[\"label\"] = str(km.labels_[i])\n",
    "    groups_list = []\n",
    "    for ind in order_centroids[i, :10]:\n",
    "        if j==0:\n",
    "            print(\"Label %s:\" % terms[ind],end='')\n",
    "            cluster_dict[\"label\"] = terms[ind]\n",
    "        j = j+1\n",
    "        print(' %s' % terms[ind], end=',')\n",
    "        group_dict = {}\n",
    "        group_dict[\"label\"] = str(terms[ind])\n",
    "        groups_list.append(group_dict)\n",
    "    cluster_dict[\"groups\"] = groups_list  \n",
    "    cluster_data_JSON.append(cluster_dict)\n",
    "    print()"
   ]
  },
  {
   "cell_type": "code",
   "execution_count": 15,
   "metadata": {
    "collapsed": false,
    "scrolled": false
   },
   "outputs": [
    {
     "data": {
      "text/html": [
       "\n",
       "<!DOCTYPE html>\n",
       "<html>\n",
       "  <head>\n",
       "    <title>FoamTree Quick Start</title>\n",
       "    <meta charset=\"utf-8\" />\n",
       "  </head>\n",
       "\n",
       "  <body>\n",
       "    <div id=\"visualization_kmeans\" style=\"width: 950px; height: 600px\"></div>\n",
       "\n",
       "    <script src=\"carrotsearch.foamtree.js\"></script>\n",
       "    <script>\n",
       "      function init() {\n",
       "        var foamtree = new CarrotSearchFoamTree({\n",
       "          id: \"visualization_kmeans\",\n",
       "          dataObject: {\n",
       "            groups:[{\"groups\": [{\"label\": \"risk\"}, {\"label\": \"treatment\"}, {\"label\": \"use\"}, {\"label\": \"therapy\"}, {\"label\": \"clinical\"}, {\"label\": \"ibd patient\"}, {\"label\": \"group\"}, {\"label\": \"year\"}, {\"label\": \"diagnosis\"}, {\"label\": \"case\"}], \"label\": \"risk\"}, {\"groups\": [{\"label\": \"cell\"}, {\"label\": \"mouse\"}, {\"label\": \"expression\"}, {\"label\": \"colitis\"}, {\"label\": \"induce\"}, {\"label\": \"intestinal\"}, {\"label\": \"inflammation\"}, {\"label\": \"cytokine\"}, {\"label\": \"colon\"}, {\"label\": \"ds\"}], \"label\": \"cell\"}, {\"groups\": [{\"label\": \"microbiota\"}, {\"label\": \"immune\"}, {\"label\": \"gut\"}, {\"label\": \"intestinal\"}, {\"label\": \"cell\"}, {\"label\": \"role\"}, {\"label\": \"host\"}, {\"label\": \"inflammation\"}, {\"label\": \"human\"}, {\"label\": \"response\"}], \"label\": \"microbiota\"}, {\"groups\": [{\"label\": \"genetic\"}, {\"label\": \"population\"}, {\"label\": \"gene\"}, {\"label\": \"snp\"}, {\"label\": \"locus\"}, {\"label\": \"genome\"}, {\"label\": \"variant\"}, {\"label\": \"association\"}, {\"label\": \"analysis\"}, {\"label\": \"region\"}], \"label\": \"genetic\"}, {\"groups\": [{\"label\": \"cd\"}, {\"label\": \"uc\"}, {\"label\": \"control\"}, {\"label\": \"disease cd\"}, {\"label\": \"cd patient\"}, {\"label\": \"colitis uc\"}, {\"label\": \"crohn\"}, {\"label\": \"crohn disease\"}, {\"label\": \"uc patient\"}, {\"label\": \"colitis\"}], \"label\": \"cd\"}]\n",
       "          }\n",
       "        });\n",
       "      }\n",
       "        \n",
       "    init();\n",
       "    </script>\n",
       "  </body>\n",
       " "
      ],
      "text/plain": [
       "<IPython.core.display.HTML object>"
      ]
     },
     "metadata": {},
     "output_type": "display_data"
    }
   ],
   "source": [
    "display(HTML(\"\"\"\n",
    "<!DOCTYPE html>\n",
    "<html>\n",
    "  <head>\n",
    "    <title>FoamTree Quick Start</title>\n",
    "    <meta charset=\"utf-8\" />\n",
    "  </head>\n",
    "\n",
    "  <body>\n",
    "    <div id=\"visualization_kmeans\" style=\"width: 950px; height: 600px\"></div>\n",
    "\n",
    "    <script src=\"carrotsearch.foamtree.js\"></script>\n",
    "    <script>\n",
    "      function init() {\n",
    "        var foamtree = new CarrotSearchFoamTree({\n",
    "          id: \"visualization_kmeans\",\n",
    "          dataObject: {\n",
    "            groups:\"\"\"\n",
    "             + \n",
    "             json.dumps(cluster_data_JSON)\n",
    "             +\n",
    "             \"\"\"\n",
    "          }\n",
    "        });\n",
    "      }\n",
    "        \n",
    "    init();\n",
    "    </script>\n",
    "  </body>\n",
    " \"\"\"))\n"
   ]
  },
  {
   "cell_type": "markdown",
   "metadata": {},
   "source": [
    "Clustering using **Mini Batch KMeans**"
   ]
  },
  {
   "cell_type": "code",
   "execution_count": 21,
   "metadata": {
    "collapsed": false,
    "scrolled": true
   },
   "outputs": [
    {
     "name": "stdout",
     "output_type": "stream",
     "text": [
      "Clustering sparse data with MiniBatchKMeans(batch_size=10000, compute_labels=True, init='k-means++',\n",
      "        init_size=1000, max_iter=100, max_no_improvement=10, n_clusters=5,\n",
      "        n_init=1, random_state=None, reassignment_ratio=0.01, tol=0.0,\n",
      "        verbose=False)\n",
      "\n",
      "CPU times: user 1.83 s, sys: 214 ms, total: 2.05 s\n",
      "Wall time: 2.08 s\n"
     ]
    }
   ],
   "source": [
    "%%time\n",
    "import warnings\n",
    "km = MiniBatchKMeans(n_clusters=5, init='k-means++', n_init=1,\n",
    "                         init_size=1000, batch_size=10000, verbose=False)\n",
    "print(\"Clustering sparse data with %s\" % km)\n",
    "with warnings.catch_warnings():\n",
    "    warnings.simplefilter(\"ignore\")\n",
    "    km.fit(X)\n",
    "print()"
   ]
  },
  {
   "cell_type": "markdown",
   "metadata": {},
   "source": [
    "**FoamTree Display** of clusters"
   ]
  },
  {
   "cell_type": "code",
   "execution_count": 22,
   "metadata": {
    "collapsed": false
   },
   "outputs": [
    {
     "name": "stdout",
     "output_type": "stream",
     "text": [
      "Cluster 0:Label cell: cell, mouse, intestinal, expression, induce, colitis, inflammation, immune, cytokine, epithelial,\n",
      "Cluster 1:Label child: child, care, use, ibs, symptom, quality, group, ibd patient, iron, health,\n",
      "Cluster 2:Label genetic: genetic, gene, population, variant, genome, locus, snp, association, analysis, region,\n",
      "Cluster 3:Label therapy: therapy, treatment, drug, anti, clinical, microbiota, use, review, cancer, gut,\n",
      "Cluster 4:Label cd: cd, uc, 95, ci, risk, 95 ci, control, year, crohn, colitis,\n"
     ]
    }
   ],
   "source": [
    "order_centroids = km.cluster_centers_.argsort()[:, ::-1]\n",
    "terms = vectorizer.get_feature_names()\n",
    "\n",
    "cluster_data_JSON = []\n",
    "for i in range(5):\n",
    "    j=0\n",
    "    print(\"Cluster %d:\" % i, end='')\n",
    "    cluster_dict = {}\n",
    "    cluster_dict[\"label\"] = str(km.labels_[i])\n",
    "    groups_list = []\n",
    "    for ind in order_centroids[i, :10]:\n",
    "        if j==0:\n",
    "            print(\"Label %s:\" % terms[ind],end='')\n",
    "            cluster_dict[\"label\"] = terms[ind]\n",
    "        j = j+1\n",
    "        print(' %s' % terms[ind], end=',')\n",
    "        group_dict = {}\n",
    "        group_dict[\"label\"] = str(terms[ind])\n",
    "        groups_list.append(group_dict)\n",
    "    cluster_dict[\"groups\"] = groups_list  \n",
    "    cluster_data_JSON.append(cluster_dict)\n",
    "    print()"
   ]
  },
  {
   "cell_type": "markdown",
   "metadata": {},
   "source": [
    "Javascript code for displaying cluster data(Mini-Batch KMeans ) in foamtree format. "
   ]
  },
  {
   "cell_type": "code",
   "execution_count": 23,
   "metadata": {
    "collapsed": false,
    "scrolled": false
   },
   "outputs": [
    {
     "data": {
      "text/html": [
       "\n",
       "<!DOCTYPE html>\n",
       "<html>\n",
       "  <head>\n",
       "    <title>FoamTree Quick Start</title>\n",
       "    <meta charset=\"utf-8\" />\n",
       "  </head>\n",
       "\n",
       "  <body>\n",
       "    <div id=\"visualization\" style=\"width: 950px; height: 600px\"></div>\n",
       "\n",
       "    <script src=\"carrotsearch.foamtree.js\"></script>\n",
       "    <script>\n",
       "      function init() {\n",
       "        var foamtree = new CarrotSearchFoamTree({\n",
       "          id: \"visualization\",\n",
       "          dataObject: {\n",
       "            groups:[{\"groups\": [{\"label\": \"cell\"}, {\"label\": \"mouse\"}, {\"label\": \"intestinal\"}, {\"label\": \"expression\"}, {\"label\": \"induce\"}, {\"label\": \"colitis\"}, {\"label\": \"inflammation\"}, {\"label\": \"immune\"}, {\"label\": \"cytokine\"}, {\"label\": \"epithelial\"}], \"label\": \"cell\"}, {\"groups\": [{\"label\": \"child\"}, {\"label\": \"care\"}, {\"label\": \"use\"}, {\"label\": \"ibs\"}, {\"label\": \"symptom\"}, {\"label\": \"quality\"}, {\"label\": \"group\"}, {\"label\": \"ibd patient\"}, {\"label\": \"iron\"}, {\"label\": \"health\"}], \"label\": \"child\"}, {\"groups\": [{\"label\": \"genetic\"}, {\"label\": \"gene\"}, {\"label\": \"population\"}, {\"label\": \"variant\"}, {\"label\": \"genome\"}, {\"label\": \"locus\"}, {\"label\": \"snp\"}, {\"label\": \"association\"}, {\"label\": \"analysis\"}, {\"label\": \"region\"}], \"label\": \"genetic\"}, {\"groups\": [{\"label\": \"therapy\"}, {\"label\": \"treatment\"}, {\"label\": \"drug\"}, {\"label\": \"anti\"}, {\"label\": \"clinical\"}, {\"label\": \"microbiota\"}, {\"label\": \"use\"}, {\"label\": \"review\"}, {\"label\": \"cancer\"}, {\"label\": \"gut\"}], \"label\": \"therapy\"}, {\"groups\": [{\"label\": \"cd\"}, {\"label\": \"uc\"}, {\"label\": \"95\"}, {\"label\": \"ci\"}, {\"label\": \"risk\"}, {\"label\": \"95 ci\"}, {\"label\": \"control\"}, {\"label\": \"year\"}, {\"label\": \"crohn\"}, {\"label\": \"colitis\"}], \"label\": \"cd\"}]\n",
       "          }\n",
       "        });\n",
       "      }\n",
       "        \n",
       "    init();\n",
       "    </script>\n",
       "  </body>\n",
       " "
      ],
      "text/plain": [
       "<IPython.core.display.HTML object>"
      ]
     },
     "metadata": {},
     "output_type": "display_data"
    }
   ],
   "source": [
    "display(HTML(\"\"\"\n",
    "<!DOCTYPE html>\n",
    "<html>\n",
    "  <head>\n",
    "    <title>FoamTree Quick Start</title>\n",
    "    <meta charset=\"utf-8\" />\n",
    "  </head>\n",
    "\n",
    "  <body>\n",
    "    <div id=\"visualization\" style=\"width: 950px; height: 600px\"></div>\n",
    "\n",
    "    <script src=\"carrotsearch.foamtree.js\"></script>\n",
    "    <script>\n",
    "      function init() {\n",
    "        var foamtree = new CarrotSearchFoamTree({\n",
    "          id: \"visualization\",\n",
    "          dataObject: {\n",
    "            groups:\"\"\"\n",
    "             + \n",
    "             json.dumps(cluster_data_JSON)\n",
    "             +\n",
    "             \"\"\"\n",
    "          }\n",
    "        });\n",
    "      }\n",
    "        \n",
    "    init();\n",
    "    </script>\n",
    "  </body>\n",
    " \"\"\"))\n"
   ]
  },
  {
   "cell_type": "markdown",
   "metadata": {},
   "source": [
    "### Bi-gram clustering\n",
    "\n",
    "In text classification, Unigrams are single words, **Bigrams are two related words (appear frequently next to each       other in text)**, and Trigram is just the next extension of that concept.Often considering Bigrams in a                 classification algorithm tends to really **boost performance**, since the increased long-tail specificity of the word     means that the classifier can easily determine which class has a higher probability, leading to better                 classifications. **Trigrams do not have offer the same boost as Bigrams**, but they are worth considering and could be     essential for certain types of classifiers. You could also go beyond Trigrams if you felt that the classification     problem requires it.The important thing to remember here is to apply the same logic for eliminating low quality       bigrams and trigrams as you would with unigrams."
   ]
  },
  {
   "cell_type": "code",
   "execution_count": 11,
   "metadata": {
    "collapsed": false,
    "scrolled": true
   },
   "outputs": [
    {
     "name": "stdout",
     "output_type": "stream",
     "text": [
      "n_samples: 18255, n_features: 261649\n",
      "Clustering sparse data with KMeans(copy_x=True, init='k-means++', max_iter=100, n_clusters=5, n_init=1,\n",
      "    n_jobs=1, precompute_distances='auto', random_state=None, tol=0.0001,\n",
      "    verbose=False)\n",
      "\n",
      "CPU times: user 6min 14s, sys: 5.8 s, total: 6min 20s\n",
      "Wall time: 6min 8s\n"
     ]
    }
   ],
   "source": [
    "%%time\n",
    "\n",
    "vectorizer = TfidfVectorizer(max_df=0.5, max_features=800000,\n",
    "                                 min_df=2,tokenizer=tokenize_text, stop_words='english',\n",
    "                                 use_idf=True,strip_accents =  'ascii',ngram_range=(1,2))\n",
    "X = vectorizer.fit_transform(abstract_list)\n",
    "\n",
    "print(\"n_samples: %d, n_features: %d\" % X.shape)\n",
    "km = KMeans(n_clusters=5, init='k-means++', max_iter=100, n_init=1,\n",
    "                verbose=False)\n",
    "print(\"Clustering sparse data with %s\" % km)\n",
    "km.fit(X)\n",
    "print()\n"
   ]
  },
  {
   "cell_type": "code",
   "execution_count": 26,
   "metadata": {
    "collapsed": false
   },
   "outputs": [
    {
     "name": "stdout",
     "output_type": "stream",
     "text": [
      "Cluster 0:Label cell: cell, mouse, intestinal, expression, immune, inflammation, induce, colitis, cytokine, response,\n",
      "Cluster 1:Label genetic: genetic, population, gene, snp, locus, genome, variant, association, analysis, region,\n",
      "Cluster 2:Label therapy: therapy, tnf, anti, anti tnf, treatment, infliximab, remission, drug, clinical, pregnancy,\n",
      "Cluster 3:Label cd: cd, uc, 95, ci, 95 ci, risk, control, year, crohn, crohn disease,\n",
      "Cluster 4:Label use: use, treatment, clinical, risk, group, review, colitis, cancer, disease ibd, diagnosis,\n"
     ]
    }
   ],
   "source": [
    "order_centroids = km.cluster_centers_.argsort()[:, ::-1]\n",
    "terms = vectorizer.get_feature_names()\n",
    "\n",
    "bigram_cluster_data_JSON = []\n",
    "for i in range(5):\n",
    "    j=0\n",
    "    print(\"Cluster %d:\" % i, end='')\n",
    "    cluster_dict = {}\n",
    "    cluster_dict[\"label\"] = str(km.labels_[i])\n",
    "    groups_list = []\n",
    "    for ind in order_centroids[i, :10]:\n",
    "        if j==0:\n",
    "            print(\"Label %s:\" % terms[ind],end='')\n",
    "            cluster_dict[\"label\"] = terms[ind]\n",
    "        j = j+1\n",
    "        print(' %s' % terms[ind], end=',')\n",
    "        group_dict = {}\n",
    "        group_dict[\"label\"] = str(terms[ind])\n",
    "        groups_list.append(group_dict)\n",
    "    cluster_dict[\"groups\"] = groups_list  \n",
    "    bigram_cluster_data_JSON.append(cluster_dict)\n",
    "    print()"
   ]
  },
  {
   "cell_type": "code",
   "execution_count": 49,
   "metadata": {
    "collapsed": false,
    "scrolled": false
   },
   "outputs": [
    {
     "data": {
      "text/html": [
       "\n",
       "<!DOCTYPE html>\n",
       "<html>\n",
       "  \n",
       "\n",
       "  <body>\n",
       "    <div id=\"visualization1\" style=\"width: 950px; height: 600px\"></div>\n",
       "\n",
       "    <script src=\"carrotsearch.foamtree.js\"></script>\n",
       "    <script>\n",
       "      function init() {\n",
       "        var foamtree1 = new CarrotSearchFoamTree({\n",
       "          id: \"visualization1\",\n",
       "          dataObject: {\n",
       "            groups:[{\"groups\": [{\"label\": \"pd\"}, {\"label\": \"control\"}, {\"label\": \"pd patient\"}, {\"label\": \"cognitive\"}, {\"label\": \"group\"}, {\"label\": \"risk\"}, {\"label\": \"subject\"}, {\"label\": \"use\"}, {\"label\": \"disease pd\"}, {\"label\": \"dementia\"}], \"label\": \"pd\"}, {\"groups\": [{\"label\": \"cell\"}, {\"label\": \"protein\"}, {\"label\": \"pd\"}, {\"label\": \"neuron\"}, {\"label\": \"mitochondrial\"}, {\"label\": \"-synuclein\"}, {\"label\": \"model\"}, {\"label\": \"mouse\"}, {\"label\": \"induce\"}, {\"label\": \"expression\"}], \"label\": \"cell\"}, {\"groups\": [{\"label\": \"db\"}, {\"label\": \"stn\"}, {\"label\": \"stimulation\"}, {\"label\": \"stn db\"}, {\"label\": \"deep brain\"}, {\"label\": \"deep\"}, {\"label\": \"brain stimulation\"}, {\"label\": \"brain\"}, {\"label\": \"subthalamic\"}, {\"label\": \"nucleus\"}], \"label\": \"db\"}, {\"groups\": [{\"label\": \"use\"}, {\"label\": \"syndrome\"}, {\"label\": \"clinical\"}, {\"label\": \"disorder\"}, {\"label\": \"case\"}, {\"label\": \"treatment\"}, {\"label\": \"report\"}, {\"label\": \"tremor\"}, {\"label\": \"present\"}, {\"label\": \"result\"}], \"label\": \"use\"}, {\"groups\": [{\"label\": \"motor\"}, {\"label\": \"pd\"}, {\"label\": \"symptom\"}, {\"label\": \"treatment\"}, {\"label\": \"levodopa\"}, {\"label\": \"motor symptom\"}, {\"label\": \"sleep\"}, {\"label\": \"non\"}, {\"label\": \"dyskinesia\"}, {\"label\": \"therapy\"}], \"label\": \"motor\"}]\n",
       "          }\n",
       "        });\n",
       "      }\n",
       "        \n",
       "    init();\n",
       "    </script>\n",
       "  </body>\n",
       " "
      ],
      "text/plain": [
       "<IPython.core.display.HTML object>"
      ]
     },
     "metadata": {},
     "output_type": "display_data"
    }
   ],
   "source": [
    "display(HTML(\"\"\"\n",
    "<!DOCTYPE html>\n",
    "<html>\n",
    "  \n",
    "\n",
    "  <body>\n",
    "    <div id=\"visualization1\" style=\"width: 950px; height: 600px\"></div>\n",
    "\n",
    "    <script src=\"carrotsearch.foamtree.js\"></script>\n",
    "    <script>\n",
    "      function init() {\n",
    "        var foamtree1 = new CarrotSearchFoamTree({\n",
    "          id: \"visualization1\",\n",
    "          dataObject: {\n",
    "            groups:\"\"\"\n",
    "             + \n",
    "             json.dumps(bigram_cluster_data_JSON)\n",
    "             +\n",
    "             \"\"\"\n",
    "          }\n",
    "        });\n",
    "      }\n",
    "        \n",
    "    init();\n",
    "    </script>\n",
    "  </body>\n",
    " \"\"\"))\n"
   ]
  },
  {
   "cell_type": "markdown",
   "metadata": {},
   "source": [
    "### Trigram Clustering example"
   ]
  },
  {
   "cell_type": "code",
   "execution_count": 7,
   "metadata": {
    "collapsed": false
   },
   "outputs": [
    {
     "name": "stdout",
     "output_type": "stream",
     "text": [
      "n_samples: 18255, n_features: 395064\n",
      "Clustering sparse data with KMeans(copy_x=True, init='k-means++', max_iter=100, n_clusters=5, n_init=1,\n",
      "    n_jobs=1, precompute_distances='auto', random_state=None, tol=0.0001,\n",
      "    verbose=False)\n",
      "\n",
      "CPU times: user 6min 31s, sys: 4.79 s, total: 6min 36s\n",
      "Wall time: 6min 25s\n"
     ]
    }
   ],
   "source": [
    "%%time\n",
    "\n",
    "vectorizer = TfidfVectorizer(max_df=0.5, max_features=800000,\n",
    "                                 min_df=2,tokenizer=tokenize_text, stop_words='english',\n",
    "                                 use_idf=True,strip_accents =  'ascii',ngram_range=(1,3))\n",
    "X = vectorizer.fit_transform(abstract_list)\n",
    "\n",
    "print(\"n_samples: %d, n_features: %d\" % X.shape)\n",
    "km = KMeans(n_clusters=5, init='k-means++', max_iter=100, n_init=1,\n",
    "                verbose=False)\n",
    "print(\"Clustering sparse data with %s\" % km)\n",
    "km.fit(X)\n",
    "print()\n",
    "\n"
   ]
  },
  {
   "cell_type": "code",
   "execution_count": 9,
   "metadata": {
    "collapsed": false
   },
   "outputs": [
    {
     "name": "stdout",
     "output_type": "stream",
     "text": [
      "Cluster 0:Label cd: cd, uc, 95, ci, 95 ci, risk, control, year, crohn, crohn disease,\n",
      "Cluster 1:Label cell: cell, mouse, intestinal, expression, inflammation, induce, immune, colitis, cytokine, response,\n",
      "Cluster 2:Label use: use, treatment, clinical, risk, group, microbiota, review, diagnosis, disease ibd, cancer,\n",
      "Cluster 3:Label therapy: therapy, tnf, anti, anti tnf, infliximab, treatment, remission, drug, clinical, iron,\n",
      "Cluster 4:Label genetic: genetic, population, gene, snp, locus, genome, variant, association, analysis, region,\n"
     ]
    }
   ],
   "source": [
    "order_centroids = km.cluster_centers_.argsort()[:, ::-1]\n",
    "terms = vectorizer.get_feature_names()\n",
    "\n",
    "trigram_cluster_data_JSON = []\n",
    "for i in range(5):\n",
    "    j=0\n",
    "    print(\"Cluster %d:\" % i, end='')\n",
    "    cluster_dict = {}\n",
    "    cluster_dict[\"label\"] = str(km.labels_[i])\n",
    "    groups_list = []\n",
    "    for ind in order_centroids[i, :10]:\n",
    "        if j==0:\n",
    "            print(\"Label %s:\" % terms[ind],end='')\n",
    "            cluster_dict[\"label\"] = terms[ind]\n",
    "        j = j+1\n",
    "        print(' %s' % terms[ind], end=',')\n",
    "        group_dict = {}\n",
    "        group_dict[\"label\"] = str(terms[ind])\n",
    "        groups_list.append(group_dict)\n",
    "    cluster_dict[\"groups\"] = groups_list  \n",
    "    trigram_cluster_data_JSON.append(cluster_dict)\n",
    "    print()\n"
   ]
  },
  {
   "cell_type": "code",
   "execution_count": 10,
   "metadata": {
    "collapsed": false,
    "scrolled": false
   },
   "outputs": [
    {
     "data": {
      "text/html": [
       "\n",
       "<!DOCTYPE html>\n",
       "<html>\n",
       "  \n",
       "\n",
       "  <body>\n",
       "    <div id=\"visualization2\" style=\"width: 950px; height: 600px\"></div>\n",
       "\n",
       "    <script src=\"carrotsearch.foamtree.js\"></script>\n",
       "    <script>\n",
       "      function init() {\n",
       "        var foamtree1 = new CarrotSearchFoamTree({\n",
       "          id: \"visualization2\",\n",
       "          dataObject: {\n",
       "            groups:[{\"groups\": [{\"label\": \"cd\"}, {\"label\": \"uc\"}, {\"label\": \"95\"}, {\"label\": \"ci\"}, {\"label\": \"95 ci\"}, {\"label\": \"risk\"}, {\"label\": \"control\"}, {\"label\": \"year\"}, {\"label\": \"crohn\"}, {\"label\": \"crohn disease\"}], \"label\": \"cd\"}, {\"groups\": [{\"label\": \"cell\"}, {\"label\": \"mouse\"}, {\"label\": \"intestinal\"}, {\"label\": \"expression\"}, {\"label\": \"inflammation\"}, {\"label\": \"induce\"}, {\"label\": \"immune\"}, {\"label\": \"colitis\"}, {\"label\": \"cytokine\"}, {\"label\": \"response\"}], \"label\": \"cell\"}, {\"groups\": [{\"label\": \"use\"}, {\"label\": \"treatment\"}, {\"label\": \"clinical\"}, {\"label\": \"risk\"}, {\"label\": \"group\"}, {\"label\": \"microbiota\"}, {\"label\": \"review\"}, {\"label\": \"diagnosis\"}, {\"label\": \"disease ibd\"}, {\"label\": \"cancer\"}], \"label\": \"use\"}, {\"groups\": [{\"label\": \"therapy\"}, {\"label\": \"tnf\"}, {\"label\": \"anti\"}, {\"label\": \"anti tnf\"}, {\"label\": \"infliximab\"}, {\"label\": \"treatment\"}, {\"label\": \"remission\"}, {\"label\": \"drug\"}, {\"label\": \"clinical\"}, {\"label\": \"iron\"}], \"label\": \"therapy\"}, {\"groups\": [{\"label\": \"genetic\"}, {\"label\": \"population\"}, {\"label\": \"gene\"}, {\"label\": \"snp\"}, {\"label\": \"locus\"}, {\"label\": \"genome\"}, {\"label\": \"variant\"}, {\"label\": \"association\"}, {\"label\": \"analysis\"}, {\"label\": \"region\"}], \"label\": \"genetic\"}]\n",
       "          }\n",
       "        });\n",
       "      }\n",
       "        \n",
       "    init();\n",
       "    </script>\n",
       "  </body>\n",
       " "
      ],
      "text/plain": [
       "<IPython.core.display.HTML object>"
      ]
     },
     "metadata": {},
     "output_type": "display_data"
    }
   ],
   "source": [
    "display(HTML(\"\"\"\n",
    "<!DOCTYPE html>\n",
    "<html>\n",
    "  \n",
    "\n",
    "  <body>\n",
    "    <div id=\"visualization2\" style=\"width: 950px; height: 600px\"></div>\n",
    "\n",
    "    <script src=\"carrotsearch.foamtree.js\"></script>\n",
    "    <script>\n",
    "      function init() {\n",
    "        var foamtree1 = new CarrotSearchFoamTree({\n",
    "          id: \"visualization2\",\n",
    "          dataObject: {\n",
    "            groups:\"\"\"\n",
    "             + \n",
    "             json.dumps(trigram_cluster_data_JSON)\n",
    "             +\n",
    "             \"\"\"\n",
    "          }\n",
    "        });\n",
    "      }\n",
    "        \n",
    "    init();\n",
    "    </script>\n",
    "  </body>\n",
    " \"\"\"))\n"
   ]
  },
  {
   "cell_type": "code",
   "execution_count": null,
   "metadata": {
    "collapsed": true
   },
   "outputs": [],
   "source": [
    "# We can also close the connection if we are done with it.\n",
    "# Just be sure any changes have been committed or they will be lost.\n",
    "conn.close()"
   ]
  }
 ],
 "metadata": {
  "anaconda-cloud": {},
  "kernelspec": {
   "display_name": "Python [Root]",
   "language": "python",
   "name": "Python [Root]"
  },
  "language_info": {
   "codemirror_mode": {
    "name": "ipython",
    "version": 2
   },
   "file_extension": ".py",
   "mimetype": "text/x-python",
   "name": "python",
   "nbconvert_exporter": "python",
   "pygments_lexer": "ipython2",
   "version": "2.7.12"
  }
 },
 "nbformat": 4,
 "nbformat_minor": 0
}
