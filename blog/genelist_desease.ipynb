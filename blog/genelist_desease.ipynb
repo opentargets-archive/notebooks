{
 "cells": [
  {
   "cell_type": "markdown",
   "metadata": {},
   "source": [
    "# I have a list of genes. Which ones show up in Open Targets?\n",
    "\n",
    "> Sanyal (who works on Parkinson’s) sent me a list of genes that were found in a fly screen for Parkinson disease. He was wondering which ones also had evidence in Open Targets for Parkinson's.\n",
    "\n",
    "When an experiment or a genetic screen returns a large number of genes involved in a disease, a scientist often needs a way to reduce the number of targets to follow up. One way to prioritize which targets to pursue further is to find out what evidence already connects some of the targets to a given disease.\n",
    "\n",
    "We can use the Target Validation Platform API to find out i) whether a target has been associated with the disease we are interested in and ii) what evidence lies behind that connection.\n",
    "\n",
    "First all we import the necessary packages:"
   ]
  },
  {
   "cell_type": "code",
   "execution_count": 1,
   "metadata": {
    "collapsed": false
   },
   "outputs": [],
   "source": [
    "import requests\n",
    "import sys\n",
    "import csv\n",
    "import logging\n",
    "import pandas as pd\n",
    "import seaborn as sns\n",
    "import matplotlib as mpl\n",
    "import matplotlib.pyplot as plt\n",
    "from io import StringIO\n",
    "%matplotlib inline"
   ]
  },
  {
   "cell_type": "code",
   "execution_count": 8,
   "metadata": {
    "collapsed": true
   },
   "outputs": [],
   "source": [
    "sns.set_context(\"talk\")\n",
    "sns.set_style(\"whitegrid\")"
   ]
  },
  {
   "cell_type": "markdown",
   "metadata": {},
   "source": [
    "It is useful to fix the version of the API we will be using. Different versions can have different methods and usually refer to different data releases."
   ]
  },
  {
   "cell_type": "code",
   "execution_count": 9,
   "metadata": {
    "collapsed": true
   },
   "outputs": [],
   "source": [
    "TARGVAL_BASEURL = 'http://localhost:8008/api/latest/'"
   ]
  },
  {
   "cell_type": "markdown",
   "metadata": {},
   "source": [
    "As explained in our [blog about keys authentication](https://blog.opentargets.org/once-you-have-an-api-key/) if you have an API key, you can create a function to deal with the authentication for you. This is by no means a necessary step, unless you have lots and lots of genes to query."
   ]
  },
  {
   "cell_type": "code",
   "execution_count": 10,
   "metadata": {
    "collapsed": true
   },
   "outputs": [],
   "source": [
    "def get_token(app_name,secret):\n",
    "    jwt = requests.get(TARGVAL_BASEURL + 'public/auth/request_token',\n",
    "                     params={'app_name':app_name,'secret':secret})\n",
    "    return jwt.json()['token']"
   ]
  },
  {
   "cell_type": "markdown",
   "metadata": {},
   "source": [
    "It is much nicer to use gene symbols, rather than the cumbersome `ENSG` ids from Ensembl. We can define two alternative methods to retrieve a symbol name. One leveraging the ENSEMBL API directly, the other using our API. "
   ]
  },
  {
   "cell_type": "code",
   "execution_count": 11,
   "metadata": {
    "collapsed": false
   },
   "outputs": [],
   "source": [
    "def symbol2ensemble(symbol):\n",
    "    '''\n",
    "    returns ensembl gene id for a gene symbol,\n",
    "    leveraging the ensembl rest api\n",
    "    '''\n",
    "    headers = {'content-type':'application/json'}\n",
    "    human_url = 'http://rest.ensembl.org/xrefs/symbol/homo_sapiens/'\n",
    "    r = requests.get(human_url + symbol, headers=headers)\n",
    "    return r.json()[0]['id']\n",
    "\n",
    "assert symbol2ensemble('SOD1') == 'ENSG00000142168'"
   ]
  },
  {
   "cell_type": "code",
   "execution_count": 12,
   "metadata": {
    "collapsed": false
   },
   "outputs": [],
   "source": [
    "def get_ensid(genesymbol):\n",
    "    '''\n",
    "    uses the targetvalidation.org API to get ENS IDs\n",
    "    '''\n",
    "    r = requests.get(TARGVAL_BASEURL + 'public/search', \n",
    "                     params={'q':genesymbol,'size':1,'filter':'gene'})\n",
    "    result = r.json()\n",
    "    if result[\"data\"][0][\"data\"][\"approved_symbol\"] == genesymbol:\n",
    "         geneId = result[\"data\"][0][\"id\"]\n",
    "    return geneId\n",
    "\n",
    "assert get_ensid('SOD1') == 'ENSG00000142168'"
   ]
  },
  {
   "cell_type": "markdown",
   "metadata": {},
   "source": [
    "## Generate a random set of genes symbols\n",
    "You normally will have a list of genes coming from an experiment or a genetic screen. For this example, we will pick a random list. To do that, we can use the complete set of HGNC gene names. We first parse it in the command line, to get a smaller, cleaned-up version."
   ]
  },
  {
   "cell_type": "code",
   "execution_count": 13,
   "metadata": {
    "collapsed": false
   },
   "outputs": [],
   "source": [
    "%%capture\n",
    "%%bash\n",
    "# Generate a random set of genes symbols\n",
    "if [ ! -f ~/Documents/CTTV/hgnc_symbol_set.txt ]; then\n",
    "    wget --directory-prefix=~/Documents/CTTV/ http://ftp.ebi.ac.uk/pub/databases/genenames/hgnc_complete_set.txt.gz\n",
    "    gunzip ~/Documents/CTTV/hgnc_complete_set.txt.gz \n",
    "    tail -n +2 ~/Documents/CTTV/hgnc_complete_set.txt | cut -f2 | grep -v withdrawn > ~/Documents/CTTV/data/hgnc_symbol_set.txt  \n",
    "fi"
   ]
  },
  {
   "cell_type": "markdown",
   "metadata": {},
   "source": [
    "Then read it into python and take a random subsample:"
   ]
  },
  {
   "cell_type": "code",
   "execution_count": 19,
   "metadata": {
    "collapsed": false
   },
   "outputs": [
    {
     "name": "stdout",
     "output_type": "stream",
     "text": [
      "['COPZ2', 'FTLP16', 'FBLN5', 'DRD5P2', 'GHRHR', 'GPC2', 'C1orf105', 'FBXW11', 'FAM156A', 'ELL2P4']\n"
     ]
    }
   ],
   "source": [
    "import random\n",
    "with open('/Users/rgaspary/Documents/CTTV/hgnc_symbol_set.txt') as f:\n",
    "    random_genes = [line.rstrip() for line in f]\n",
    "random.shuffle(random_genes)\n",
    "print(random_genes[:10])"
   ]
  },
  {
   "cell_type": "markdown",
   "metadata": {},
   "source": [
    "## Find out the EFO code for your disease of interest"
   ]
  },
  {
   "cell_type": "markdown",
   "metadata": {},
   "source": [
    "The API uses `EFO` id to query for diseases in an unequivocal fashion. To find out the EFO ID for your disease of interest, you can use the `search` method in the API."
   ]
  },
  {
   "cell_type": "code",
   "execution_count": 20,
   "metadata": {
    "collapsed": true
   },
   "outputs": [],
   "source": [
    "def get_efoid(diseasestr):\n",
    "    '''\n",
    "    uses the targetvalidation.org API to get EFO IDs\n",
    "    '''\n",
    "    r = requests.get(TARGVAL_BASEURL + 'public/search', \n",
    "                     params={'q':diseasestr,'size':1,'filter':'disease'})\n",
    "    result = r.json()\n",
    "    diseaseId = result[\"data\"][0][\"data\"][\"efo_code\"]\n",
    "    return diseaseId\n",
    "\n",
    "assert get_efoid('asthma') == 'EFO_0000270'"
   ]
  },
  {
   "cell_type": "code",
   "execution_count": 21,
   "metadata": {
    "collapsed": true
   },
   "outputs": [],
   "source": [
    "PARKINSON = get_efoid('parkinson')\n",
    "NEURO = get_efoid('nervous system disease')"
   ]
  },
  {
   "cell_type": "markdown",
   "metadata": {},
   "source": [
    "## Retrieve the association score tables for a given disease\n",
    "We can use the CSV structure that the REST API already forms for us"
   ]
  },
  {
   "cell_type": "code",
   "execution_count": 22,
   "metadata": {
    "collapsed": false
   },
   "outputs": [
    {
     "data": {
      "text/html": [
       "<div style=\"max-height:1000px;max-width:1500px;overflow:auto;\">\n",
       "<table border=\"1\" class=\"dataframe\">\n",
       "  <thead>\n",
       "    <tr style=\"text-align: right;\">\n",
       "      <th></th>\n",
       "      <th>association_score.overall</th>\n",
       "      <th>association_score.datatypes.genetic_association</th>\n",
       "      <th>association_score.datatypes.somatic_mutation</th>\n",
       "      <th>association_score.datatypes.known_drug</th>\n",
       "      <th>association_score.datatypes.affected_pathway</th>\n",
       "      <th>association_score.datatypes.rna_expression</th>\n",
       "      <th>association_score.datatypes.literature</th>\n",
       "      <th>association_score.datatypes.animal_model</th>\n",
       "      <th>target.gene_info.name</th>\n",
       "    </tr>\n",
       "    <tr>\n",
       "      <th>target.gene_info.symbol</th>\n",
       "      <th></th>\n",
       "      <th></th>\n",
       "      <th></th>\n",
       "      <th></th>\n",
       "      <th></th>\n",
       "      <th></th>\n",
       "      <th></th>\n",
       "      <th></th>\n",
       "      <th></th>\n",
       "    </tr>\n",
       "  </thead>\n",
       "  <tbody>\n",
       "    <tr>\n",
       "      <th>CHRM1</th>\n",
       "      <td> 1</td>\n",
       "      <td> 0</td>\n",
       "      <td> 0</td>\n",
       "      <td> 1</td>\n",
       "      <td> 0</td>\n",
       "      <td> 0</td>\n",
       "      <td> 0.000000</td>\n",
       "      <td> 0.000000</td>\n",
       "      <td>                 cholinergic receptor muscarinic 1</td>\n",
       "    </tr>\n",
       "    <tr>\n",
       "      <th>DRD2</th>\n",
       "      <td> 1</td>\n",
       "      <td> 0</td>\n",
       "      <td> 0</td>\n",
       "      <td> 1</td>\n",
       "      <td> 0</td>\n",
       "      <td> 0</td>\n",
       "      <td> 0.192273</td>\n",
       "      <td> 0.413354</td>\n",
       "      <td>                              dopamine receptor D2</td>\n",
       "    </tr>\n",
       "    <tr>\n",
       "      <th>DRD3</th>\n",
       "      <td> 1</td>\n",
       "      <td> 0</td>\n",
       "      <td> 0</td>\n",
       "      <td> 1</td>\n",
       "      <td> 0</td>\n",
       "      <td> 0</td>\n",
       "      <td> 0.128129</td>\n",
       "      <td> 0.000000</td>\n",
       "      <td>                              dopamine receptor D3</td>\n",
       "    </tr>\n",
       "    <tr>\n",
       "      <th>DRD4</th>\n",
       "      <td> 1</td>\n",
       "      <td> 0</td>\n",
       "      <td> 0</td>\n",
       "      <td> 1</td>\n",
       "      <td> 0</td>\n",
       "      <td> 0</td>\n",
       "      <td> 0.076344</td>\n",
       "      <td> 0.000000</td>\n",
       "      <td>                              dopamine receptor D4</td>\n",
       "    </tr>\n",
       "    <tr>\n",
       "      <th>GRIN2B</th>\n",
       "      <td> 1</td>\n",
       "      <td> 0</td>\n",
       "      <td> 0</td>\n",
       "      <td> 1</td>\n",
       "      <td> 0</td>\n",
       "      <td> 0</td>\n",
       "      <td> 0.119480</td>\n",
       "      <td> 0.000000</td>\n",
       "      <td> glutamate ionotropic receptor NMDA type subuni...</td>\n",
       "    </tr>\n",
       "  </tbody>\n",
       "</table>\n",
       "<p>5 rows × 9 columns</p>\n",
       "</div>"
      ],
      "text/plain": [
       "                         association_score.overall  \\\n",
       "target.gene_info.symbol                              \n",
       "CHRM1                                            1   \n",
       "DRD2                                             1   \n",
       "DRD3                                             1   \n",
       "DRD4                                             1   \n",
       "GRIN2B                                           1   \n",
       "\n",
       "                         association_score.datatypes.genetic_association  \\\n",
       "target.gene_info.symbol                                                    \n",
       "CHRM1                                                                  0   \n",
       "DRD2                                                                   0   \n",
       "DRD3                                                                   0   \n",
       "DRD4                                                                   0   \n",
       "GRIN2B                                                                 0   \n",
       "\n",
       "                         association_score.datatypes.somatic_mutation  \\\n",
       "target.gene_info.symbol                                                 \n",
       "CHRM1                                                               0   \n",
       "DRD2                                                                0   \n",
       "DRD3                                                                0   \n",
       "DRD4                                                                0   \n",
       "GRIN2B                                                              0   \n",
       "\n",
       "                         association_score.datatypes.known_drug  \\\n",
       "target.gene_info.symbol                                           \n",
       "CHRM1                                                         1   \n",
       "DRD2                                                          1   \n",
       "DRD3                                                          1   \n",
       "DRD4                                                          1   \n",
       "GRIN2B                                                        1   \n",
       "\n",
       "                         association_score.datatypes.affected_pathway  \\\n",
       "target.gene_info.symbol                                                 \n",
       "CHRM1                                                               0   \n",
       "DRD2                                                                0   \n",
       "DRD3                                                                0   \n",
       "DRD4                                                                0   \n",
       "GRIN2B                                                              0   \n",
       "\n",
       "                         association_score.datatypes.rna_expression  \\\n",
       "target.gene_info.symbol                                               \n",
       "CHRM1                                                             0   \n",
       "DRD2                                                              0   \n",
       "DRD3                                                              0   \n",
       "DRD4                                                              0   \n",
       "GRIN2B                                                            0   \n",
       "\n",
       "                         association_score.datatypes.literature  \\\n",
       "target.gene_info.symbol                                           \n",
       "CHRM1                                                  0.000000   \n",
       "DRD2                                                   0.192273   \n",
       "DRD3                                                   0.128129   \n",
       "DRD4                                                   0.076344   \n",
       "GRIN2B                                                 0.119480   \n",
       "\n",
       "                         association_score.datatypes.animal_model  \\\n",
       "target.gene_info.symbol                                             \n",
       "CHRM1                                                    0.000000   \n",
       "DRD2                                                     0.413354   \n",
       "DRD3                                                     0.000000   \n",
       "DRD4                                                     0.000000   \n",
       "GRIN2B                                                   0.000000   \n",
       "\n",
       "                                                     target.gene_info.name  \n",
       "target.gene_info.symbol                                                     \n",
       "CHRM1                                    cholinergic receptor muscarinic 1  \n",
       "DRD2                                                  dopamine receptor D2  \n",
       "DRD3                                                  dopamine receptor D3  \n",
       "DRD4                                                  dopamine receptor D4  \n",
       "GRIN2B                   glutamate ionotropic receptor NMDA type subuni...  \n",
       "\n",
       "[5 rows x 9 columns]"
      ]
     },
     "execution_count": 22,
     "metadata": {},
     "output_type": "execute_result"
    }
   ],
   "source": [
    "parkinson_csv = {'disease':PARKINSON,\n",
    "          'outputstructure':'flat',\n",
    "          'facets':'false',\n",
    "          'format':'csv',\n",
    "          'size':'10000',\n",
    "          'fields':['target.gene_info.symbol',\n",
    "                    'association_score.overall',\n",
    "                    'association_score.datatypes.genetic_association',\n",
    "                    'association_score.datatypes.somatic_mutation',\n",
    "                    'association_score.datatypes.known_drug',\n",
    "                    'association_score.datatypes.affected_pathway',\n",
    "                    'association_score.datatypes.rna_expression',\n",
    "                    'association_score.datatypes.literature',\n",
    "                    'association_score.datatypes.animal_model',\n",
    "                    'target.gene_info.name'],\n",
    "          'from':'0',\n",
    "          'scorevalue_min':'0'\n",
    "          }\n",
    "r = requests.get(TARGVAL_BASEURL + 'public/association/filter', params = parkinson_csv)\n",
    "df = pd.read_csv(StringIO(r.text),header=0,index_col=0)\n",
    "df.head()"
   ]
  },
  {
   "cell_type": "code",
   "execution_count": 23,
   "metadata": {
    "collapsed": false,
    "scrolled": true
   },
   "outputs": [
    {
     "data": {
      "image/png": "[encoded data removed]",
      "text/plain": [
       "<matplotlib.figure.Figure at 0x11bb57450>"
      ]
     },
     "metadata": {},
     "output_type": "display_data"
    }
   ],
   "source": [
    "# copying from Theo.. \n",
    "f, ax = plt.subplots(figsize=(8,5))\n",
    "ax = sns.heatmap(df.iloc[:8,0:8], cmap=\"Blues\", annot=True, linewidths=2)\n",
    "# fix labels\n",
    "labels = [item.get_text().split('.')[-1] for item in ax.get_xticklabels()]\n",
    "t = ax.set_xticklabels(labels)"
   ]
  },
  {
   "cell_type": "markdown",
   "metadata": {},
   "source": [
    "## Filter out only genes that are also in your list\n",
    "We will use the random list we generated above, and find out which of the genes in the list have associations with Parkinson's according to the Target Validation Platform."
   ]
  },
  {
   "cell_type": "code",
   "execution_count": 46,
   "metadata": {
    "collapsed": false
   },
   "outputs": [
    {
     "name": "stdout",
     "output_type": "stream",
     "text": [
      "Only\n",
      "['GABRA4', 'AQP4', 'ECD', 'BIN1']\n",
      "have associations with Parkinson\n"
     ]
    },
    {
     "data": {
      "text/html": [
       "<div>\n",
       "<table border=\"1\" class=\"dataframe\">\n",
       "  <thead>\n",
       "    <tr style=\"text-align: right;\">\n",
       "      <th></th>\n",
       "      <th>association_score.overall</th>\n",
       "      <th>association_score.datatypes.genetic_association</th>\n",
       "      <th>association_score.datatypes.somatic_mutation</th>\n",
       "      <th>association_score.datatypes.known_drug</th>\n",
       "      <th>association_score.datatypes.affected_pathway</th>\n",
       "      <th>association_score.datatypes.rna_expression</th>\n",
       "      <th>association_score.datatypes.literature</th>\n",
       "      <th>association_score.datatypes.animal_model</th>\n",
       "      <th>target.gene_info.name</th>\n",
       "    </tr>\n",
       "    <tr>\n",
       "      <th>target.gene_info.symbol</th>\n",
       "      <th></th>\n",
       "      <th></th>\n",
       "      <th></th>\n",
       "      <th></th>\n",
       "      <th></th>\n",
       "      <th></th>\n",
       "      <th></th>\n",
       "      <th></th>\n",
       "      <th></th>\n",
       "    </tr>\n",
       "  </thead>\n",
       "  <tbody>\n",
       "    <tr>\n",
       "      <th>GABRA4</th>\n",
       "      <td>1.000000</td>\n",
       "      <td>0.0</td>\n",
       "      <td>0.0</td>\n",
       "      <td>1.0</td>\n",
       "      <td>0.0</td>\n",
       "      <td>0.0</td>\n",
       "      <td>0.000000</td>\n",
       "      <td>0.0</td>\n",
       "      <td>gamma-aminobutyric acid type A receptor alpha4...</td>\n",
       "    </tr>\n",
       "    <tr>\n",
       "      <th>AQP4</th>\n",
       "      <td>0.082001</td>\n",
       "      <td>0.0</td>\n",
       "      <td>0.0</td>\n",
       "      <td>0.0</td>\n",
       "      <td>0.0</td>\n",
       "      <td>0.0</td>\n",
       "      <td>0.082001</td>\n",
       "      <td>0.0</td>\n",
       "      <td>aquaporin 4</td>\n",
       "    </tr>\n",
       "    <tr>\n",
       "      <th>ECD</th>\n",
       "      <td>0.079027</td>\n",
       "      <td>0.0</td>\n",
       "      <td>0.0</td>\n",
       "      <td>0.0</td>\n",
       "      <td>0.0</td>\n",
       "      <td>0.0</td>\n",
       "      <td>0.079027</td>\n",
       "      <td>0.0</td>\n",
       "      <td>ecdysoneless cell cycle regulator</td>\n",
       "    </tr>\n",
       "    <tr>\n",
       "      <th>BIN1</th>\n",
       "      <td>0.029200</td>\n",
       "      <td>0.0</td>\n",
       "      <td>0.0</td>\n",
       "      <td>0.0</td>\n",
       "      <td>0.0</td>\n",
       "      <td>0.0</td>\n",
       "      <td>0.029200</td>\n",
       "      <td>0.0</td>\n",
       "      <td>bridging integrator 1</td>\n",
       "    </tr>\n",
       "  </tbody>\n",
       "</table>\n",
       "</div>"
      ],
      "text/plain": [
       "                         association_score.overall  \\\n",
       "target.gene_info.symbol                              \n",
       "GABRA4                                    1.000000   \n",
       "AQP4                                      0.082001   \n",
       "ECD                                       0.079027   \n",
       "BIN1                                      0.029200   \n",
       "\n",
       "                         association_score.datatypes.genetic_association  \\\n",
       "target.gene_info.symbol                                                    \n",
       "GABRA4                                                               0.0   \n",
       "AQP4                                                                 0.0   \n",
       "ECD                                                                  0.0   \n",
       "BIN1                                                                 0.0   \n",
       "\n",
       "                         association_score.datatypes.somatic_mutation  \\\n",
       "target.gene_info.symbol                                                 \n",
       "GABRA4                                                            0.0   \n",
       "AQP4                                                              0.0   \n",
       "ECD                                                               0.0   \n",
       "BIN1                                                              0.0   \n",
       "\n",
       "                         association_score.datatypes.known_drug  \\\n",
       "target.gene_info.symbol                                           \n",
       "GABRA4                                                      1.0   \n",
       "AQP4                                                        0.0   \n",
       "ECD                                                         0.0   \n",
       "BIN1                                                        0.0   \n",
       "\n",
       "                         association_score.datatypes.affected_pathway  \\\n",
       "target.gene_info.symbol                                                 \n",
       "GABRA4                                                            0.0   \n",
       "AQP4                                                              0.0   \n",
       "ECD                                                               0.0   \n",
       "BIN1                                                              0.0   \n",
       "\n",
       "                         association_score.datatypes.rna_expression  \\\n",
       "target.gene_info.symbol                                               \n",
       "GABRA4                                                          0.0   \n",
       "AQP4                                                            0.0   \n",
       "ECD                                                             0.0   \n",
       "BIN1                                                            0.0   \n",
       "\n",
       "                         association_score.datatypes.literature  \\\n",
       "target.gene_info.symbol                                           \n",
       "GABRA4                                                 0.000000   \n",
       "AQP4                                                   0.082001   \n",
       "ECD                                                    0.079027   \n",
       "BIN1                                                   0.029200   \n",
       "\n",
       "                         association_score.datatypes.animal_model  \\\n",
       "target.gene_info.symbol                                             \n",
       "GABRA4                                                        0.0   \n",
       "AQP4                                                          0.0   \n",
       "ECD                                                           0.0   \n",
       "BIN1                                                          0.0   \n",
       "\n",
       "                                                     target.gene_info.name  \n",
       "target.gene_info.symbol                                                     \n",
       "GABRA4                   gamma-aminobutyric acid type A receptor alpha4...  \n",
       "AQP4                                                           aquaporin 4  \n",
       "ECD                                      ecdysoneless cell cycle regulator  \n",
       "BIN1                                                 bridging integrator 1  "
      ]
     },
     "execution_count": 46,
     "metadata": {},
     "output_type": "execute_result"
    }
   ],
   "source": [
    "print('Only')\n",
    "print(list(df[df.index.isin(random_genes)].index))\n",
    "print('have associations with Parkinson')\n",
    "df[df.index.isin(random_genes)]"
   ]
  },
  {
   "cell_type": "markdown",
   "metadata": {},
   "source": [
    "You can also display an associations heatmap, which shows the [association score](https://www.targetvalidation.org/scoring) for each data type supporting the connection between target and disease"
   ]
  },
  {
   "cell_type": "code",
   "execution_count": 41,
   "metadata": {
    "collapsed": false,
    "scrolled": true
   },
   "outputs": [
    {
     "data": {
      "image/png": "[encoded data removed]",
      "text/plain": [
       "<matplotlib.figure.Figure at 0x10ffe5be0>"
      ]
     },
     "metadata": {},
     "output_type": "display_data"
    }
   ],
   "source": [
    "f, ax = plt.subplots(figsize=(8,5))\n",
    "ax = sns.heatmap(df.iloc[df.index.isin(random_genes),0:8], cmap=\"Blues\", annot=True, linewidths=2)\n",
    "# fix labels\n",
    "labels = [item.get_text().split('.')[-1] for item in ax.get_xticklabels()]\n",
    "t = ax.set_xticklabels(labels)"
   ]
  },
  {
   "cell_type": "markdown",
   "metadata": {},
   "source": [
    "Now that you have a list of genes from Open Targets, you may be interested in learning more about their biology. \n",
    "Head to [the other blog post]() to learn how to explore the evidence around each target, irrespective of a specific disease."
   ]
  },
  {
   "cell_type": "markdown",
   "metadata": {},
   "source": [
    "## TODO: Split the genetic evidence in mendelian vs gwas"
   ]
  },
  {
   "cell_type": "code",
   "execution_count": null,
   "metadata": {
    "collapsed": true
   },
   "outputs": [],
   "source": [
    ""
   ]
  },
  {
   "cell_type": "markdown",
   "metadata": {},
   "source": []
  }
 ],
 "metadata": {
  "kernelspec": {
   "display_name": "Python [Root]",
   "language": "python",
   "name": "Python [Root]"
  },
  "language_info": {
   "codemirror_mode": {
    "name": "ipython",
    "version": 2.0
   },
   "file_extension": ".py",
   "mimetype": "text/x-python",
   "name": "python",
   "nbconvert_exporter": "python",
   "pygments_lexer": "ipython2",
   "version": "2.7.12"
  }
 },
 "nbformat": 4,
 "nbformat_minor": 0
}